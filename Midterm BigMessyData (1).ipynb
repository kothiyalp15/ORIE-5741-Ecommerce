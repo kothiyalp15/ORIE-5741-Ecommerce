{
 "cells": [
  {
   "cell_type": "code",
   "execution_count": 1,
   "metadata": {},
   "outputs": [],
   "source": [
    "import pandas as pd\n",
    "import matplotlib.pyplot as plt\n",
    "import numpy as np\n",
    "from sklearn.linear_model import LinearRegression\n",
    "\n",
    "data_list = []\n",
    "for i in range(7):\n",
    "    data = pd.read_csv('FIFA-Dataplayers_' + str(15 + i) + '.csv').set_index('sofifa_id')\n",
    "    data_list.append(data)"
   ]
  },
  {
   "cell_type": "code",
   "execution_count": 2,
   "metadata": {},
   "outputs": [],
   "source": [
    "ndata_list = []\n",
    "for i in range(6):\n",
    "    next_yr_value = data_list[i+1]['value_eur']\n",
    "    #ndata_list.append(data_list[i].join(next_yr_value, how='left', rsuffix='_next').fillna(0))\n",
    "    ndata_list.append(data_list[i])\n",
    "    ndata_list[i]['value_eur_next'].fillna(0)"
   ]
  },
  {
   "cell_type": "code",
   "execution_count": 3,
   "metadata": {},
   "outputs": [],
   "source": [
    "# get rid of cases where value euro next is 0 and value euro is 0 and get rid of goalkeepers\n",
    "ndata_list2 = []\n",
    "for i, j in enumerate(ndata_list):\n",
    "    ndata_list2.append(j.where(j['value_eur_next']!=0.0).dropna(how='all'))\n",
    "    ndata_list2[i] = ndata_list2[i].where(ndata_list2[i]['team_position']!='GK').dropna(how='all')"
   ]
  },
  {
   "cell_type": "code",
   "execution_count": 6,
   "metadata": {
    "scrolled": true
   },
   "outputs": [
    {
     "data": {
      "text/html": [
       "<div>\n",
       "<style scoped>\n",
       "    .dataframe tbody tr th:only-of-type {\n",
       "        vertical-align: middle;\n",
       "    }\n",
       "\n",
       "    .dataframe tbody tr th {\n",
       "        vertical-align: top;\n",
       "    }\n",
       "\n",
       "    .dataframe thead th {\n",
       "        text-align: right;\n",
       "    }\n",
       "</style>\n",
       "<table border=\"1\" class=\"dataframe\">\n",
       "  <thead>\n",
       "    <tr style=\"text-align: right;\">\n",
       "      <th></th>\n",
       "      <th>age</th>\n",
       "      <th>height_cm</th>\n",
       "      <th>weight_kg</th>\n",
       "      <th>overall</th>\n",
       "      <th>potential</th>\n",
       "      <th>pace</th>\n",
       "      <th>shooting</th>\n",
       "      <th>passing</th>\n",
       "      <th>defending</th>\n",
       "      <th>dribbling</th>\n",
       "      <th>physic</th>\n",
       "    </tr>\n",
       "    <tr>\n",
       "      <th>sofifa_id</th>\n",
       "      <th></th>\n",
       "      <th></th>\n",
       "      <th></th>\n",
       "      <th></th>\n",
       "      <th></th>\n",
       "      <th></th>\n",
       "      <th></th>\n",
       "      <th></th>\n",
       "      <th></th>\n",
       "      <th></th>\n",
       "      <th></th>\n",
       "    </tr>\n",
       "  </thead>\n",
       "  <tbody>\n",
       "    <tr>\n",
       "      <th>158023</th>\n",
       "      <td>27.0</td>\n",
       "      <td>169.0</td>\n",
       "      <td>67.0</td>\n",
       "      <td>93.0</td>\n",
       "      <td>95.0</td>\n",
       "      <td>93.0</td>\n",
       "      <td>89.0</td>\n",
       "      <td>86.0</td>\n",
       "      <td>27.0</td>\n",
       "      <td>96.0</td>\n",
       "      <td>63.0</td>\n",
       "    </tr>\n",
       "    <tr>\n",
       "      <th>20801</th>\n",
       "      <td>29.0</td>\n",
       "      <td>185.0</td>\n",
       "      <td>80.0</td>\n",
       "      <td>92.0</td>\n",
       "      <td>92.0</td>\n",
       "      <td>93.0</td>\n",
       "      <td>93.0</td>\n",
       "      <td>81.0</td>\n",
       "      <td>32.0</td>\n",
       "      <td>91.0</td>\n",
       "      <td>79.0</td>\n",
       "    </tr>\n",
       "    <tr>\n",
       "      <th>9014</th>\n",
       "      <td>30.0</td>\n",
       "      <td>180.0</td>\n",
       "      <td>80.0</td>\n",
       "      <td>90.0</td>\n",
       "      <td>90.0</td>\n",
       "      <td>93.0</td>\n",
       "      <td>86.0</td>\n",
       "      <td>83.0</td>\n",
       "      <td>32.0</td>\n",
       "      <td>92.0</td>\n",
       "      <td>64.0</td>\n",
       "    </tr>\n",
       "    <tr>\n",
       "      <th>41236</th>\n",
       "      <td>32.0</td>\n",
       "      <td>195.0</td>\n",
       "      <td>95.0</td>\n",
       "      <td>90.0</td>\n",
       "      <td>90.0</td>\n",
       "      <td>76.0</td>\n",
       "      <td>91.0</td>\n",
       "      <td>81.0</td>\n",
       "      <td>34.0</td>\n",
       "      <td>86.0</td>\n",
       "      <td>86.0</td>\n",
       "    </tr>\n",
       "    <tr>\n",
       "      <th>176580</th>\n",
       "      <td>27.0</td>\n",
       "      <td>181.0</td>\n",
       "      <td>81.0</td>\n",
       "      <td>89.0</td>\n",
       "      <td>91.0</td>\n",
       "      <td>83.0</td>\n",
       "      <td>87.0</td>\n",
       "      <td>79.0</td>\n",
       "      <td>42.0</td>\n",
       "      <td>88.0</td>\n",
       "      <td>79.0</td>\n",
       "    </tr>\n",
       "    <tr>\n",
       "      <th>...</th>\n",
       "      <td>...</td>\n",
       "      <td>...</td>\n",
       "      <td>...</td>\n",
       "      <td>...</td>\n",
       "      <td>...</td>\n",
       "      <td>...</td>\n",
       "      <td>...</td>\n",
       "      <td>...</td>\n",
       "      <td>...</td>\n",
       "      <td>...</td>\n",
       "      <td>...</td>\n",
       "    </tr>\n",
       "    <tr>\n",
       "      <th>222997</th>\n",
       "      <td>18.0</td>\n",
       "      <td>174.0</td>\n",
       "      <td>70.0</td>\n",
       "      <td>42.0</td>\n",
       "      <td>54.0</td>\n",
       "      <td>46.0</td>\n",
       "      <td>32.0</td>\n",
       "      <td>42.0</td>\n",
       "      <td>32.0</td>\n",
       "      <td>45.0</td>\n",
       "      <td>47.0</td>\n",
       "    </tr>\n",
       "    <tr>\n",
       "      <th>220806</th>\n",
       "      <td>17.0</td>\n",
       "      <td>187.0</td>\n",
       "      <td>81.0</td>\n",
       "      <td>41.0</td>\n",
       "      <td>61.0</td>\n",
       "      <td>66.0</td>\n",
       "      <td>25.0</td>\n",
       "      <td>29.0</td>\n",
       "      <td>39.0</td>\n",
       "      <td>30.0</td>\n",
       "      <td>53.0</td>\n",
       "    </tr>\n",
       "    <tr>\n",
       "      <th>225509</th>\n",
       "      <td>17.0</td>\n",
       "      <td>178.0</td>\n",
       "      <td>57.0</td>\n",
       "      <td>41.0</td>\n",
       "      <td>50.0</td>\n",
       "      <td>64.0</td>\n",
       "      <td>41.0</td>\n",
       "      <td>27.0</td>\n",
       "      <td>27.0</td>\n",
       "      <td>35.0</td>\n",
       "      <td>41.0</td>\n",
       "    </tr>\n",
       "    <tr>\n",
       "      <th>217591</th>\n",
       "      <td>18.0</td>\n",
       "      <td>190.0</td>\n",
       "      <td>76.0</td>\n",
       "      <td>40.0</td>\n",
       "      <td>50.0</td>\n",
       "      <td>58.0</td>\n",
       "      <td>27.0</td>\n",
       "      <td>35.0</td>\n",
       "      <td>52.0</td>\n",
       "      <td>31.0</td>\n",
       "      <td>68.0</td>\n",
       "    </tr>\n",
       "    <tr>\n",
       "      <th>222947</th>\n",
       "      <td>22.0</td>\n",
       "      <td>180.0</td>\n",
       "      <td>70.0</td>\n",
       "      <td>40.0</td>\n",
       "      <td>49.0</td>\n",
       "      <td>72.0</td>\n",
       "      <td>27.0</td>\n",
       "      <td>27.0</td>\n",
       "      <td>35.0</td>\n",
       "      <td>30.0</td>\n",
       "      <td>61.0</td>\n",
       "    </tr>\n",
       "  </tbody>\n",
       "</table>\n",
       "<p>10607 rows × 11 columns</p>\n",
       "</div>"
      ],
      "text/plain": [
       "            age  height_cm  weight_kg  overall  potential  pace  shooting  \\\n",
       "sofifa_id                                                                   \n",
       "158023     27.0      169.0       67.0     93.0       95.0  93.0      89.0   \n",
       "20801      29.0      185.0       80.0     92.0       92.0  93.0      93.0   \n",
       "9014       30.0      180.0       80.0     90.0       90.0  93.0      86.0   \n",
       "41236      32.0      195.0       95.0     90.0       90.0  76.0      91.0   \n",
       "176580     27.0      181.0       81.0     89.0       91.0  83.0      87.0   \n",
       "...         ...        ...        ...      ...        ...   ...       ...   \n",
       "222997     18.0      174.0       70.0     42.0       54.0  46.0      32.0   \n",
       "220806     17.0      187.0       81.0     41.0       61.0  66.0      25.0   \n",
       "225509     17.0      178.0       57.0     41.0       50.0  64.0      41.0   \n",
       "217591     18.0      190.0       76.0     40.0       50.0  58.0      27.0   \n",
       "222947     22.0      180.0       70.0     40.0       49.0  72.0      27.0   \n",
       "\n",
       "           passing  defending  dribbling  physic  \n",
       "sofifa_id                                         \n",
       "158023        86.0       27.0       96.0    63.0  \n",
       "20801         81.0       32.0       91.0    79.0  \n",
       "9014          83.0       32.0       92.0    64.0  \n",
       "41236         81.0       34.0       86.0    86.0  \n",
       "176580        79.0       42.0       88.0    79.0  \n",
       "...            ...        ...        ...     ...  \n",
       "222997        42.0       32.0       45.0    47.0  \n",
       "220806        29.0       39.0       30.0    53.0  \n",
       "225509        27.0       27.0       35.0    41.0  \n",
       "217591        35.0       52.0       31.0    68.0  \n",
       "222947        27.0       35.0       30.0    61.0  \n",
       "\n",
       "[10607 rows x 11 columns]"
      ]
     },
     "execution_count": 6,
     "metadata": {},
     "output_type": "execute_result"
    }
   ],
   "source": [
    "# Below is the set of columns we care about\n",
    "\n",
    "features = ['age'\n",
    "            ,'height_cm'\n",
    "           ,'weight_kg'\n",
    "           ,'overall'\n",
    "           ,'potential'\n",
    "           ,'pace'\n",
    "           ,'shooting'\n",
    "           ,'passing'\n",
    "           ,'defending'\n",
    "           ,'dribbling'\n",
    "           ,'physic']\n",
    "\n",
    "filtered_data = []\n",
    "ys = []\n",
    "for d in ndata_list2:\n",
    "    filtered_data.append(d[features].fillna(0))\n",
    "    ys.append(d['value_eur_next'].fillna(0))\n",
    "filtered_data[0]"
   ]
  },
  {
   "cell_type": "code",
   "execution_count": 7,
   "metadata": {},
   "outputs": [],
   "source": [
    "n = len(filtered_data[0])\n",
    "t1 = int(0.65*n)\n",
    "t2 = int(0.8*n)\n",
    "index_shuffle = np.array(filtered_data[0].index)\n",
    "np.random.shuffle(index_shuffle)\n",
    "\n",
    "train_x = filtered_data[0].loc[index_shuffle[0:t1]]\n",
    "validate_x = filtered_data[0].loc[index_shuffle[t1:t2]]\n",
    "test_x = filtered_data[0].loc[index_shuffle[t2:n]]\n",
    "\n",
    "train_y = ys[0].loc[index_shuffle[0:t1]]\n",
    "validate_y = ys[0].loc[index_shuffle[t1:t2]]\n",
    "test_y = ys[0].loc[index_shuffle[t2:n]]\n",
    "train_log_y = np.log(train_y)\n",
    "validate_log_y = np.log(validate_y)\n",
    "test_log_y = np.log(test_y)\n",
    "train_log_y.replace([np.inf, -np.inf, np.nan], 0, inplace=True)\n",
    "validate_log_y.replace([np.inf, -np.inf, np.nan], 0, inplace=True)\n",
    "test_log_y.replace([np.inf, -np.inf, np.nan], 0, inplace=True)\n",
    "model = LinearRegression()\n",
    "model.fit(train_x,train_y)\n",
    "pred = model.coef_.reshape(11,1)"
   ]
  },
  {
   "cell_type": "code",
   "execution_count": 8,
   "metadata": {},
   "outputs": [
    {
     "data": {
      "text/plain": [
       "<matplotlib.collections.PathCollection at 0x19bbc134408>"
      ]
     },
     "execution_count": 8,
     "metadata": {},
     "output_type": "execute_result"
    },
    {
     "data": {
      "image/png": "[encoded data removed]",
      "text/plain": [
       "<Figure size 432x288 with 1 Axes>"
      ]
     },
     "metadata": {
      "needs_background": "light"
     },
     "output_type": "display_data"
    }
   ],
   "source": [
    "pred_vector = test_x@pred\n",
    "\n",
    "plt.scatter(pred_vector,test_y)"
   ]
  },
  {
   "cell_type": "code",
   "execution_count": 9,
   "metadata": {},
   "outputs": [],
   "source": [
    "for i in range(len(filtered_data)):\n",
    "    n = len(filtered_data[i])\n",
    "    t1 = int(0.65*n)\n",
    "    t2 = int(0.8*n)\n",
    "    index_shuffle = np.array(filtered_data[i].index)\n",
    "    np.random.shuffle(index_shuffle)\n",
    "\n",
    "    train_x_i = filtered_data[i].loc[index_shuffle[0:t1]]\n",
    "    validate_x_i = filtered_data[i].loc[index_shuffle[t1:t2]]\n",
    "    test_x_i = filtered_data[i].loc[index_shuffle[t2:n]]\n",
    "\n",
    "    train_y_i = ys[i].loc[index_shuffle[0:t1]]\n",
    "    validate_y_i = ys[i].loc[index_shuffle[t1:t2]]\n",
    "    test_y_i = ys[i].loc[index_shuffle[t2:n]]\n",
    "    \n",
    "    train_log_y_i = np.log(train_y_i)\n",
    "    validate_log_y_i = np.log(validate_y_i)\n",
    "    test_log_y_i = np.log(test_y_i)\n",
    "    train_log_y_i.replace([np.inf, -np.inf, np.nan], 0, inplace=True)\n",
    "    validate_log_y_i.replace([np.inf, -np.inf, np.nan], 0, inplace=True)\n",
    "    test_log_y_i.replace([np.inf, -np.inf, np.nan], 0, inplace=True)\n",
    "    if i == 0:\n",
    "        train_x = train_x_i\n",
    "        validate_x = validate_x_i\n",
    "        test_x = test_x_i\n",
    "        train_y = train_y_i\n",
    "        validate_y = validate_y_i\n",
    "        test_y = test_y_i        \n",
    "        train_log_y = train_log_y_i\n",
    "        validate_log_y = validate_log_y_i\n",
    "        test_log_y = test_log_y_i  \n",
    "    else:\n",
    "        train_x = train_x.append(train_x_i)\n",
    "        validate_x = validate_x.append(validate_x_i)\n",
    "        test_x = test_x.append(test_x_i)\n",
    "        train_y = train_y.append(train_y_i)\n",
    "        validate_y = validate_y.append(validate_y_i)\n",
    "        test_y = test_y.append(test_y_i)        \n",
    "        train_log_y = train_log_y.append(train_log_y_i)\n",
    "        validate_log_y = validate_log_y.append(validate_log_y_i)\n",
    "        test_log_y = test_log_y.append(test_log_y_i)\n",
    "    model = LinearRegression()\n",
    "    model.fit(train_x,train_y)\n",
    "    pred = model.coef_.reshape(11,1)"
   ]
  },
  {
   "cell_type": "code",
   "execution_count": 10,
   "metadata": {},
   "outputs": [],
   "source": [
    "U,S,V = np.linalg.svd(train_x,full_matrices = False)"
   ]
  },
  {
   "cell_type": "code",
   "execution_count": 11,
   "metadata": {},
   "outputs": [
    {
     "data": {
      "text/plain": [
       "Text(0.5, 1.0, 'Normalized Eigenvalues vs. k')"
      ]
     },
     "execution_count": 11,
     "metadata": {},
     "output_type": "execute_result"
    },
    {
     "data": {
      "image/png": "[encoded data removed]",
      "text/plain": [
       "<Figure size 720x360 with 2 Axes>"
      ]
     },
     "metadata": {
      "needs_background": "light"
     },
     "output_type": "display_data"
    }
   ],
   "source": [
    "fig, ax = plt.subplots(1,2, figsize = (10,5))\n",
    "ax[0].plot(range(1,len(S)+1), S/np.sum(S), 'ro-', linewidth=2)\n",
    "ax[0].set_ylabel('Normalized Singular Values')\n",
    "ax[0].set_xlabel('k')\n",
    "ax[0].set_title('Normalized Singular Values vs. k')\n",
    "eigvals = S**2 / np.sum(S**2)\n",
    "ax[1].plot(range(1,len(S)+1), eigvals, 'ro-', linewidth=2)\n",
    "ax[1].set_ylabel('Normalized Eigenvalues')\n",
    "ax[1].set_xlabel('k')\n",
    "ax[1].set_title('Normalized Eigenvalues vs. k')"
   ]
  },
  {
   "cell_type": "code",
   "execution_count": 12,
   "metadata": {},
   "outputs": [
    {
     "data": {
      "text/plain": [
       "Text(0.5, 1.0, 'Choose k based on constant (c)')"
      ]
     },
     "execution_count": 12,
     "metadata": {},
     "output_type": "execute_result"
    },
    {
     "data": {
      "image/png": "[encoded data removed]",
      "text/plain": [
       "<Figure size 432x288 with 1 Axes>"
      ]
     },
     "metadata": {
      "needs_background": "light"
     },
     "output_type": "display_data"
    }
   ],
   "source": [
    "c_range = range(10,20)\n",
    "c_list = np.zeros(len(c_range))\n",
    "for c in range(len(c_range)):\n",
    "    for k in range(len(S)):\n",
    "        if np.sum(S[:k]) >= np.sum(S[k:])*c_range[c]:\n",
    "            c_list[c] = k\n",
    "            break\n",
    "plt.plot(c_range,c_list)\n",
    "plt.xlabel('c')\n",
    "plt.ylabel('k')\n",
    "plt.title('Choose k based on constant (c)')"
   ]
  },
  {
   "cell_type": "code",
   "execution_count": 13,
   "metadata": {},
   "outputs": [
    {
     "name": "stdout",
     "output_type": "stream",
     "text": [
      "4 2092783124736077.0\n",
      "5 5156419207903273.0\n",
      "6 1826675938029147.2\n"
     ]
    }
   ],
   "source": [
    "for f in range(4,7):\n",
    "    train_pca = train_x@V[0:f].T\n",
    "    validate_pca = validate_x@V[0:f].T\n",
    "\n",
    "    model = LinearRegression()\n",
    "    model.fit(train_pca,train_y)\n",
    "    pred = model.coef_.reshape(f,1)\n",
    "\n",
    "    pred_vector = validate_pca@pred\n",
    "    print(f, np.mean((validate_y - np.array(pred_vector).reshape(len(pred_vector),))**2))"
   ]
  },
  {
   "cell_type": "markdown",
   "metadata": {},
   "source": [
    "Validation chooses k = 6"
   ]
  },
  {
   "cell_type": "code",
   "execution_count": 14,
   "metadata": {},
   "outputs": [
    {
     "data": {
      "text/plain": [
       "<matplotlib.collections.PathCollection at 0x19bc0b8c988>"
      ]
     },
     "execution_count": 14,
     "metadata": {},
     "output_type": "execute_result"
    },
    {
     "data": {
      "image/png": "[encoded data removed]",
      "text/plain": [
       "<Figure size 432x288 with 1 Axes>"
      ]
     },
     "metadata": {
      "needs_background": "light"
     },
     "output_type": "display_data"
    }
   ],
   "source": [
    "f = 6\n",
    "train_pca = train_x@V[0:f].T\n",
    "test_pca = test_x@V[0:f].T\n",
    "\n",
    "model = LinearRegression()\n",
    "model.fit(train_pca,train_y)\n",
    "pred = model.coef_.reshape(f,1)\n",
    "\n",
    "pred_vector = test_pca@pred\n",
    "plt.scatter(pred_vector,test_y)"
   ]
  },
  {
   "cell_type": "code",
   "execution_count": 15,
   "metadata": {},
   "outputs": [
    {
     "data": {
      "text/plain": [
       "1824608083396435.5"
      ]
     },
     "execution_count": 15,
     "metadata": {},
     "output_type": "execute_result"
    }
   ],
   "source": [
    "np.mean((test_y - np.array(pred_vector).reshape(len(pred_vector),))**2)"
   ]
  },
  {
   "cell_type": "code",
   "execution_count": 16,
   "metadata": {},
   "outputs": [
    {
     "name": "stdout",
     "output_type": "stream",
     "text": [
      "4 186334736518652.03\n",
      "5 3.7884515581692755e+21\n",
      "6 7312693854054.82\n"
     ]
    }
   ],
   "source": [
    "for f in range(4,7):\n",
    "    train_pca = train_x@V[0:f].T\n",
    "    validate_pca = validate_x@V[0:f].T\n",
    "\n",
    "    model = LinearRegression()\n",
    "    model.fit(train_pca,train_log_y)\n",
    "    pred = model.coef_.reshape(f,1)\n",
    "\n",
    "    pred_vector = validate_pca@pred\n",
    "    print(f, np.mean((validate_y - np.exp(np.array(pred_vector).reshape(len(pred_vector),)))**2))"
   ]
  },
  {
   "cell_type": "markdown",
   "metadata": {},
   "source": [
    "Validation choose k = 6"
   ]
  },
  {
   "cell_type": "code",
   "execution_count": 17,
   "metadata": {},
   "outputs": [
    {
     "data": {
      "text/plain": [
       "<matplotlib.collections.PathCollection at 0x19bc0bedf48>"
      ]
     },
     "execution_count": 17,
     "metadata": {},
     "output_type": "execute_result"
    },
    {
     "data": {
      "image/png": "[encoded data removed]",
      "text/plain": [
       "<Figure size 432x288 with 1 Axes>"
      ]
     },
     "metadata": {
      "needs_background": "light"
     },
     "output_type": "display_data"
    }
   ],
   "source": [
    "f = 6\n",
    "train_pca = train_x@V[0:f].T\n",
    "test_pca = test_x@V[0:f].T\n",
    "\n",
    "model = LinearRegression()\n",
    "model.fit(train_pca,train_log_y)\n",
    "pred = model.coef_.reshape(f,1)\n",
    "\n",
    "pred_vector = test_pca@pred\n",
    "plt.scatter(pred_vector,test_log_y)"
   ]
  },
  {
   "cell_type": "code",
   "execution_count": 18,
   "metadata": {},
   "outputs": [
    {
     "data": {
      "text/plain": [
       "<matplotlib.collections.PathCollection at 0x19bc0c48b88>"
      ]
     },
     "execution_count": 18,
     "metadata": {},
     "output_type": "execute_result"
    },
    {
     "data": {
      "image/png": "[encoded data removed]",
      "text/plain": [
       "<Figure size 432x288 with 1 Axes>"
      ]
     },
     "metadata": {
      "needs_background": "light"
     },
     "output_type": "display_data"
    }
   ],
   "source": [
    "plt.scatter(np.exp(pred_vector),test_y)"
   ]
  },
  {
   "cell_type": "code",
   "execution_count": 19,
   "metadata": {},
   "outputs": [
    {
     "data": {
      "text/plain": [
       "11705466652067.41"
      ]
     },
     "execution_count": 19,
     "metadata": {},
     "output_type": "execute_result"
    }
   ],
   "source": [
    "np.mean((test_y - np.exp(np.array(pred_vector).reshape(len(pred_vector),)))**2)"
   ]
  },
  {
   "cell_type": "markdown",
   "metadata": {},
   "source": [
    "Note this is 14 trillion versus the above MSE without taking the log of 1.8 quadrillion"
   ]
  },
  {
   "cell_type": "code",
   "execution_count": 23,
   "metadata": {},
   "outputs": [],
   "source": [
    "# get rid of cases where value euro next is 0 and value euro is 0 and get rid of goalkeepers\n",
    "ndata_list3 = []\n",
    "for i, j in enumerate(ndata_list):\n",
    "    ndata_list3.append(j.where(j['value_eur_next']!=0.0).dropna(how='all'))\n",
    "    ndata_list3[i] = ndata_list3[i].where(ndata_list3[i]['team_position']=='GK').dropna(how='all')"
   ]
  },
  {
   "cell_type": "code",
   "execution_count": 30,
   "metadata": {},
   "outputs": [
    {
     "data": {
      "text/html": [
       "<div>\n",
       "<style scoped>\n",
       "    .dataframe tbody tr th:only-of-type {\n",
       "        vertical-align: middle;\n",
       "    }\n",
       "\n",
       "    .dataframe tbody tr th {\n",
       "        vertical-align: top;\n",
       "    }\n",
       "\n",
       "    .dataframe thead th {\n",
       "        text-align: right;\n",
       "    }\n",
       "</style>\n",
       "<table border=\"1\" class=\"dataframe\">\n",
       "  <thead>\n",
       "    <tr style=\"text-align: right;\">\n",
       "      <th></th>\n",
       "      <th>age</th>\n",
       "      <th>height_cm</th>\n",
       "      <th>weight_kg</th>\n",
       "      <th>overall</th>\n",
       "      <th>potential</th>\n",
       "      <th>gk_diving</th>\n",
       "      <th>gk_reflexes</th>\n",
       "      <th>gk_handling</th>\n",
       "      <th>gk_kicking</th>\n",
       "      <th>gk_speed</th>\n",
       "      <th>gk_positioning</th>\n",
       "    </tr>\n",
       "    <tr>\n",
       "      <th>sofifa_id</th>\n",
       "      <th></th>\n",
       "      <th></th>\n",
       "      <th></th>\n",
       "      <th></th>\n",
       "      <th></th>\n",
       "      <th></th>\n",
       "      <th></th>\n",
       "      <th></th>\n",
       "      <th></th>\n",
       "      <th></th>\n",
       "      <th></th>\n",
       "    </tr>\n",
       "  </thead>\n",
       "  <tbody>\n",
       "    <tr>\n",
       "      <th>167495</th>\n",
       "      <td>28.0</td>\n",
       "      <td>193.0</td>\n",
       "      <td>92.0</td>\n",
       "      <td>90.0</td>\n",
       "      <td>90.0</td>\n",
       "      <td>87.0</td>\n",
       "      <td>86.0</td>\n",
       "      <td>85.0</td>\n",
       "      <td>92.0</td>\n",
       "      <td>60.0</td>\n",
       "      <td>90.0</td>\n",
       "    </tr>\n",
       "    <tr>\n",
       "      <th>192119</th>\n",
       "      <td>22.0</td>\n",
       "      <td>199.0</td>\n",
       "      <td>88.0</td>\n",
       "      <td>86.0</td>\n",
       "      <td>90.0</td>\n",
       "      <td>84.0</td>\n",
       "      <td>88.0</td>\n",
       "      <td>87.0</td>\n",
       "      <td>69.0</td>\n",
       "      <td>49.0</td>\n",
       "      <td>86.0</td>\n",
       "    </tr>\n",
       "    <tr>\n",
       "      <th>167948</th>\n",
       "      <td>27.0</td>\n",
       "      <td>188.0</td>\n",
       "      <td>78.0</td>\n",
       "      <td>85.0</td>\n",
       "      <td>86.0</td>\n",
       "      <td>86.0</td>\n",
       "      <td>88.0</td>\n",
       "      <td>81.0</td>\n",
       "      <td>71.0</td>\n",
       "      <td>64.0</td>\n",
       "      <td>81.0</td>\n",
       "    </tr>\n",
       "    <tr>\n",
       "      <th>168435</th>\n",
       "      <td>27.0</td>\n",
       "      <td>192.0</td>\n",
       "      <td>80.0</td>\n",
       "      <td>84.0</td>\n",
       "      <td>85.0</td>\n",
       "      <td>85.0</td>\n",
       "      <td>87.0</td>\n",
       "      <td>79.0</td>\n",
       "      <td>73.0</td>\n",
       "      <td>51.0</td>\n",
       "      <td>84.0</td>\n",
       "    </tr>\n",
       "    <tr>\n",
       "      <th>5479</th>\n",
       "      <td>33.0</td>\n",
       "      <td>185.0</td>\n",
       "      <td>84.0</td>\n",
       "      <td>84.0</td>\n",
       "      <td>84.0</td>\n",
       "      <td>87.0</td>\n",
       "      <td>88.0</td>\n",
       "      <td>79.0</td>\n",
       "      <td>67.0</td>\n",
       "      <td>64.0</td>\n",
       "      <td>79.0</td>\n",
       "    </tr>\n",
       "    <tr>\n",
       "      <th>...</th>\n",
       "      <td>...</td>\n",
       "      <td>...</td>\n",
       "      <td>...</td>\n",
       "      <td>...</td>\n",
       "      <td>...</td>\n",
       "      <td>...</td>\n",
       "      <td>...</td>\n",
       "      <td>...</td>\n",
       "      <td>...</td>\n",
       "      <td>...</td>\n",
       "      <td>...</td>\n",
       "    </tr>\n",
       "    <tr>\n",
       "      <th>212763</th>\n",
       "      <td>19.0</td>\n",
       "      <td>179.0</td>\n",
       "      <td>76.0</td>\n",
       "      <td>53.0</td>\n",
       "      <td>64.0</td>\n",
       "      <td>54.0</td>\n",
       "      <td>55.0</td>\n",
       "      <td>52.0</td>\n",
       "      <td>49.0</td>\n",
       "      <td>51.0</td>\n",
       "      <td>52.0</td>\n",
       "    </tr>\n",
       "    <tr>\n",
       "      <th>201354</th>\n",
       "      <td>21.0</td>\n",
       "      <td>186.0</td>\n",
       "      <td>81.0</td>\n",
       "      <td>53.0</td>\n",
       "      <td>62.0</td>\n",
       "      <td>50.0</td>\n",
       "      <td>58.0</td>\n",
       "      <td>50.0</td>\n",
       "      <td>48.0</td>\n",
       "      <td>46.0</td>\n",
       "      <td>52.0</td>\n",
       "    </tr>\n",
       "    <tr>\n",
       "      <th>222070</th>\n",
       "      <td>23.0</td>\n",
       "      <td>191.0</td>\n",
       "      <td>92.0</td>\n",
       "      <td>51.0</td>\n",
       "      <td>58.0</td>\n",
       "      <td>56.0</td>\n",
       "      <td>55.0</td>\n",
       "      <td>49.0</td>\n",
       "      <td>52.0</td>\n",
       "      <td>44.0</td>\n",
       "      <td>43.0</td>\n",
       "    </tr>\n",
       "    <tr>\n",
       "      <th>192544</th>\n",
       "      <td>25.0</td>\n",
       "      <td>185.0</td>\n",
       "      <td>85.0</td>\n",
       "      <td>51.0</td>\n",
       "      <td>55.0</td>\n",
       "      <td>51.0</td>\n",
       "      <td>54.0</td>\n",
       "      <td>54.0</td>\n",
       "      <td>51.0</td>\n",
       "      <td>36.0</td>\n",
       "      <td>51.0</td>\n",
       "    </tr>\n",
       "    <tr>\n",
       "      <th>194372</th>\n",
       "      <td>24.0</td>\n",
       "      <td>191.0</td>\n",
       "      <td>83.0</td>\n",
       "      <td>43.0</td>\n",
       "      <td>49.0</td>\n",
       "      <td>40.0</td>\n",
       "      <td>41.0</td>\n",
       "      <td>47.0</td>\n",
       "      <td>53.0</td>\n",
       "      <td>34.0</td>\n",
       "      <td>44.0</td>\n",
       "    </tr>\n",
       "  </tbody>\n",
       "</table>\n",
       "<p>487 rows × 11 columns</p>\n",
       "</div>"
      ],
      "text/plain": [
       "            age  height_cm  weight_kg  overall  potential  gk_diving  \\\n",
       "sofifa_id                                                              \n",
       "167495     28.0      193.0       92.0     90.0       90.0       87.0   \n",
       "192119     22.0      199.0       88.0     86.0       90.0       84.0   \n",
       "167948     27.0      188.0       78.0     85.0       86.0       86.0   \n",
       "168435     27.0      192.0       80.0     84.0       85.0       85.0   \n",
       "5479       33.0      185.0       84.0     84.0       84.0       87.0   \n",
       "...         ...        ...        ...      ...        ...        ...   \n",
       "212763     19.0      179.0       76.0     53.0       64.0       54.0   \n",
       "201354     21.0      186.0       81.0     53.0       62.0       50.0   \n",
       "222070     23.0      191.0       92.0     51.0       58.0       56.0   \n",
       "192544     25.0      185.0       85.0     51.0       55.0       51.0   \n",
       "194372     24.0      191.0       83.0     43.0       49.0       40.0   \n",
       "\n",
       "           gk_reflexes  gk_handling  gk_kicking  gk_speed  gk_positioning  \n",
       "sofifa_id                                                                  \n",
       "167495            86.0         85.0        92.0      60.0            90.0  \n",
       "192119            88.0         87.0        69.0      49.0            86.0  \n",
       "167948            88.0         81.0        71.0      64.0            81.0  \n",
       "168435            87.0         79.0        73.0      51.0            84.0  \n",
       "5479              88.0         79.0        67.0      64.0            79.0  \n",
       "...                ...          ...         ...       ...             ...  \n",
       "212763            55.0         52.0        49.0      51.0            52.0  \n",
       "201354            58.0         50.0        48.0      46.0            52.0  \n",
       "222070            55.0         49.0        52.0      44.0            43.0  \n",
       "192544            54.0         54.0        51.0      36.0            51.0  \n",
       "194372            41.0         47.0        53.0      34.0            44.0  \n",
       "\n",
       "[487 rows x 11 columns]"
      ]
     },
     "execution_count": 30,
     "metadata": {},
     "output_type": "execute_result"
    }
   ],
   "source": [
    "# Below is the set of columns we care about\n",
    "\n",
    "features = ['age'\n",
    "            ,'height_cm'\n",
    "           ,'weight_kg'\n",
    "           ,'overall'\n",
    "           ,'potential'\n",
    "           ,'gk_diving'\n",
    "           ,'gk_reflexes'\n",
    "           ,'gk_handling'\n",
    "           ,'gk_kicking'\n",
    "           ,'gk_speed'\n",
    "           ,'gk_positioning']\n",
    "\n",
    "filtered_data = []\n",
    "ys = []\n",
    "for d in ndata_list3:\n",
    "    filtered_data.append(d[features].fillna(0))\n",
    "    ys.append(d['value_eur_next'].fillna(0))\n",
    "filtered_data[0]"
   ]
  },
  {
   "cell_type": "code",
   "execution_count": 31,
   "metadata": {},
   "outputs": [],
   "source": [
    "for i in range(len(filtered_data)):\n",
    "    n = len(filtered_data[i])\n",
    "    t1 = int(0.65*n)\n",
    "    t2 = int(0.8*n)\n",
    "    index_shuffle = np.array(filtered_data[i].index)\n",
    "    np.random.shuffle(index_shuffle)\n",
    "\n",
    "    train_x_i = filtered_data[i].loc[index_shuffle[0:t1]]\n",
    "    validate_x_i = filtered_data[i].loc[index_shuffle[t1:t2]]\n",
    "    test_x_i = filtered_data[i].loc[index_shuffle[t2:n]]\n",
    "\n",
    "    train_y_i = ys[i].loc[index_shuffle[0:t1]]\n",
    "    validate_y_i = ys[i].loc[index_shuffle[t1:t2]]\n",
    "    test_y_i = ys[i].loc[index_shuffle[t2:n]]\n",
    "    \n",
    "    train_log_y_i = np.log(train_y_i)\n",
    "    validate_log_y_i = np.log(validate_y_i)\n",
    "    test_log_y_i = np.log(test_y_i)\n",
    "    train_log_y_i.replace([np.inf, -np.inf, np.nan], 0, inplace=True)\n",
    "    validate_log_y_i.replace([np.inf, -np.inf, np.nan], 0, inplace=True)\n",
    "    test_log_y_i.replace([np.inf, -np.inf, np.nan], 0, inplace=True)\n",
    "    if i == 0:\n",
    "        train_x = train_x_i\n",
    "        validate_x = validate_x_i\n",
    "        test_x = test_x_i\n",
    "        train_y = train_y_i\n",
    "        validate_y = validate_y_i\n",
    "        test_y = test_y_i        \n",
    "        train_log_y = train_log_y_i\n",
    "        validate_log_y = validate_log_y_i\n",
    "        test_log_y = test_log_y_i  \n",
    "    else:\n",
    "        train_x = train_x.append(train_x_i)\n",
    "        validate_x = validate_x.append(validate_x_i)\n",
    "        test_x = test_x.append(test_x_i)\n",
    "        train_y = train_y.append(train_y_i)\n",
    "        validate_y = validate_y.append(validate_y_i)\n",
    "        test_y = test_y.append(test_y_i)        \n",
    "        train_log_y = train_log_y.append(train_log_y_i)\n",
    "        validate_log_y = validate_log_y.append(validate_log_y_i)\n",
    "        test_log_y = test_log_y.append(test_log_y_i)\n",
    "    model = LinearRegression()\n",
    "    model.fit(train_x,train_y)\n",
    "    pred = model.coef_.reshape(11,1)"
   ]
  },
  {
   "cell_type": "code",
   "execution_count": 32,
   "metadata": {},
   "outputs": [],
   "source": [
    "U,S,V = np.linalg.svd(train_x,full_matrices = False)"
   ]
  },
  {
   "cell_type": "code",
   "execution_count": 33,
   "metadata": {},
   "outputs": [
    {
     "data": {
      "text/plain": [
       "Text(0.5, 1.0, 'Normalized Eigenvalues vs. k')"
      ]
     },
     "execution_count": 33,
     "metadata": {},
     "output_type": "execute_result"
    },
    {
     "data": {
      "image/png": "[encoded data removed]",
      "text/plain": [
       "<Figure size 720x360 with 2 Axes>"
      ]
     },
     "metadata": {
      "needs_background": "light"
     },
     "output_type": "display_data"
    }
   ],
   "source": [
    "fig, ax = plt.subplots(1,2, figsize = (10,5))\n",
    "ax[0].plot(range(1,len(S)+1), S/np.sum(S), 'ro-', linewidth=2)\n",
    "ax[0].set_ylabel('Normalized Singular Values')\n",
    "ax[0].set_xlabel('k')\n",
    "ax[0].set_title('Normalized Singular Values vs. k')\n",
    "eigvals = S**2 / np.sum(S**2)\n",
    "ax[1].plot(range(1,len(S)+1), eigvals, 'ro-', linewidth=2)\n",
    "ax[1].set_ylabel('Normalized Eigenvalues')\n",
    "ax[1].set_xlabel('k')\n",
    "ax[1].set_title('Normalized Eigenvalues vs. k')"
   ]
  },
  {
   "cell_type": "code",
   "execution_count": 34,
   "metadata": {},
   "outputs": [
    {
     "data": {
      "text/plain": [
       "Text(0.5, 1.0, 'Choose k based on constant (c)')"
      ]
     },
     "execution_count": 34,
     "metadata": {},
     "output_type": "execute_result"
    },
    {
     "data": {
      "image/png": "[encoded data removed]",
      "text/plain": [
       "<Figure size 432x288 with 1 Axes>"
      ]
     },
     "metadata": {
      "needs_background": "light"
     },
     "output_type": "display_data"
    }
   ],
   "source": [
    "c_range = range(10,20)\n",
    "c_list = np.zeros(len(c_range))\n",
    "for c in range(len(c_range)):\n",
    "    for k in range(len(S)):\n",
    "        if np.sum(S[:k]) >= np.sum(S[k:])*c_range[c]:\n",
    "            c_list[c] = k\n",
    "            break\n",
    "plt.plot(c_range,c_list)\n",
    "plt.xlabel('c')\n",
    "plt.ylabel('k')\n",
    "plt.title('Choose k based on constant (c)')"
   ]
  },
  {
   "cell_type": "code",
   "execution_count": 35,
   "metadata": {},
   "outputs": [
    {
     "name": "stdout",
     "output_type": "stream",
     "text": [
      "3 3669347373658680.0\n",
      "4 4225437683010594.0\n",
      "5 4931354498636486.0\n"
     ]
    }
   ],
   "source": [
    "for f in range(3,6):\n",
    "    train_pca = train_x@V[0:f].T\n",
    "    validate_pca = validate_x@V[0:f].T\n",
    "\n",
    "    model = LinearRegression()\n",
    "    model.fit(train_pca,train_y)\n",
    "    pred = model.coef_.reshape(f,1)\n",
    "\n",
    "    pred_vector = validate_pca@pred\n",
    "    print(f, np.mean((validate_y - np.array(pred_vector).reshape(len(pred_vector),))**2))"
   ]
  },
  {
   "cell_type": "code",
   "execution_count": 36,
   "metadata": {},
   "outputs": [
    {
     "data": {
      "text/plain": [
       "<matplotlib.collections.PathCollection at 0x19bc0c99808>"
      ]
     },
     "execution_count": 36,
     "metadata": {},
     "output_type": "execute_result"
    },
    {
     "data": {
      "image/png": "[encoded data removed]",
      "text/plain": [
       "<Figure size 432x288 with 1 Axes>"
      ]
     },
     "metadata": {
      "needs_background": "light"
     },
     "output_type": "display_data"
    }
   ],
   "source": [
    "f = 3\n",
    "train_pca = train_x@V[0:f].T\n",
    "test_pca = test_x@V[0:f].T\n",
    "\n",
    "model = LinearRegression()\n",
    "model.fit(train_pca,train_y)\n",
    "pred = model.coef_.reshape(f,1)\n",
    "\n",
    "pred_vector = test_pca@pred\n",
    "plt.scatter(pred_vector,test_y)"
   ]
  },
  {
   "cell_type": "code",
   "execution_count": 37,
   "metadata": {},
   "outputs": [
    {
     "data": {
      "text/plain": [
       "3654670733194974.0"
      ]
     },
     "execution_count": 37,
     "metadata": {},
     "output_type": "execute_result"
    }
   ],
   "source": [
    "np.mean((test_y - np.array(pred_vector).reshape(len(pred_vector),))**2)"
   ]
  },
  {
   "cell_type": "code",
   "execution_count": 38,
   "metadata": {},
   "outputs": [
    {
     "name": "stdout",
     "output_type": "stream",
     "text": [
      "3 12985827017759.906\n",
      "4 414022870335134.0\n",
      "5 7887965077394753.0\n"
     ]
    }
   ],
   "source": [
    "for f in range(3,6):\n",
    "    train_pca = train_x@V[0:f].T\n",
    "    validate_pca = validate_x@V[0:f].T\n",
    "\n",
    "    model = LinearRegression()\n",
    "    model.fit(train_pca,train_log_y)\n",
    "    pred = model.coef_.reshape(f,1)\n",
    "\n",
    "    pred_vector = validate_pca@pred\n",
    "    print(f, np.mean((validate_y - np.exp(np.array(pred_vector).reshape(len(pred_vector),)))**2))"
   ]
  },
  {
   "cell_type": "code",
   "execution_count": 39,
   "metadata": {},
   "outputs": [
    {
     "data": {
      "text/plain": [
       "<matplotlib.collections.PathCollection at 0x19bbbe305c8>"
      ]
     },
     "execution_count": 39,
     "metadata": {},
     "output_type": "execute_result"
    },
    {
     "data": {
      "image/png": "[encoded data removed]",
      "text/plain": [
       "<Figure size 432x288 with 1 Axes>"
      ]
     },
     "metadata": {
      "needs_background": "light"
     },
     "output_type": "display_data"
    }
   ],
   "source": [
    "f = 3\n",
    "train_pca = train_x@V[0:f].T\n",
    "test_pca = test_x@V[0:f].T\n",
    "\n",
    "model = LinearRegression()\n",
    "model.fit(train_pca,train_log_y)\n",
    "pred = model.coef_.reshape(f,1)\n",
    "\n",
    "pred_vector = test_pca@pred\n",
    "plt.scatter(pred_vector,test_log_y)"
   ]
  },
  {
   "cell_type": "code",
   "execution_count": 40,
   "metadata": {},
   "outputs": [
    {
     "data": {
      "text/plain": [
       "<matplotlib.collections.PathCollection at 0x19bbbea0588>"
      ]
     },
     "execution_count": 40,
     "metadata": {},
     "output_type": "execute_result"
    },
    {
     "data": {
      "image/png": "[encoded data removed]",
      "text/plain": [
       "<Figure size 432x288 with 1 Axes>"
      ]
     },
     "metadata": {
      "needs_background": "light"
     },
     "output_type": "display_data"
    }
   ],
   "source": [
    "plt.scatter(np.exp(pred_vector),test_y)"
   ]
  },
  {
   "cell_type": "code",
   "execution_count": 41,
   "metadata": {},
   "outputs": [
    {
     "data": {
      "text/plain": [
       "23677616028144.117"
      ]
     },
     "execution_count": 41,
     "metadata": {},
     "output_type": "execute_result"
    }
   ],
   "source": [
    "np.mean((test_y - np.exp(np.array(pred_vector).reshape(len(pred_vector),)))**2)"
   ]
  },
  {
   "cell_type": "code",
   "execution_count": 42,
   "metadata": {},
   "outputs": [
    {
     "data": {
      "text/plain": [
       "4865965.066473876"
      ]
     },
     "execution_count": 42,
     "metadata": {},
     "output_type": "execute_result"
    }
   ],
   "source": [
    "np.sqrt(23677616028144.117)"
   ]
  }
 ],
 "metadata": {
  "kernelspec": {
   "display_name": "Python 3",
   "language": "python",
   "name": "python3"
  },
  "language_info": {
   "codemirror_mode": {
    "name": "ipython",
    "version": 3
   },
   "file_extension": ".py",
   "mimetype": "text/x-python",
   "name": "python",
   "nbconvert_exporter": "python",
   "pygments_lexer": "ipython3",
   "version": "3.7.6"
  }
 },
 "nbformat": 4,
 "nbformat_minor": 5
}
