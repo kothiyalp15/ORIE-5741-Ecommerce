{
 "cells": [
  {
   "cell_type": "code",
   "execution_count": 200,
   "metadata": {
    "scrolled": true
   },
   "outputs": [],
   "source": [
    "import pandas as pd\n",
    "import matplotlib.pyplot as plt\n",
    "import numpy as np\n",
    "from sklearn.linear_model import LinearRegression\n",
    "\n",
    "data_list = []\n",
    "for i in range(7):\n",
    "    data = pd.read_csv('new_players_' + str(15 + i) + '.csv').set_index('sofifa_id')\n",
    "    data_list.append(data)"
   ]
  },
  {
   "cell_type": "code",
   "execution_count": 201,
   "metadata": {
    "scrolled": true
   },
   "outputs": [],
   "source": [
    "ndata_list = []\n",
    "for i in range(6):\n",
    "    next_yr_value = data_list[i+1]['value_eur']\n",
    "    #ndata_list.append(data_list[i].join(next_yr_value, how='left', rsuffix='_next').fillna(0))\n",
    "    ndata_list.append(data_list[i])\n",
    "    ndata_list[i]['value_eur_next'].fillna(0)"
   ]
  },
  {
   "cell_type": "code",
   "execution_count": 202,
   "metadata": {
    "scrolled": true
   },
   "outputs": [],
   "source": [
    "# get rid of cases where value euro next is 0 and value euro is 0 and get rid of goalkeepers\n",
    "ndata_list2 = []\n",
    "for i, j in enumerate(ndata_list):\n",
    "    ndata_list2.append(j.where(j['value_eur_next']!=0.0).dropna(how='all'))\n",
    "    ndata_list2[i] = ndata_list2[i].where(ndata_list2[i]['team_position']!='GK').dropna(how='all')"
   ]
  },
  {
   "cell_type": "code",
   "execution_count": 203,
   "metadata": {},
   "outputs": [],
   "source": [
    "for i in range(len(ndata_list2)):\n",
    "    ndata_list2[i].insert(8,'year',np.ones(len(ndata_list2[i]))*i)"
   ]
  },
  {
   "cell_type": "code",
   "execution_count": 204,
   "metadata": {},
   "outputs": [
    {
     "name": "stdout",
     "output_type": "stream",
     "text": [
      "['Italian Serie A' 'Spain Primera Division' 'French Ligue 1'\n",
      " 'English Premier League' 'German 1. Bundesliga'\n",
      " 'Japanese J. League Division 1' 'USA Major League Soccer'\n",
      " 'Turkish Süper Lig' 'Chinese Super League' 'Portuguese Liga ZON SAGRES'\n",
      " 'Russian Premier League' 'Campeonato Brasileiro Série A'\n",
      " 'Holland Eredivisie' 'Ukrainian Premier League' '0'\n",
      " 'Argentina Primera División' 'Mexican Liga MX' 'Greek Super League'\n",
      " 'Belgian Jupiler Pro League' 'German 2. Bundesliga'\n",
      " 'Spanish Segunda División' 'Colombian Liga Postobón'\n",
      " 'Saudi Abdul L. Jameel League' 'Austrian Football Bundesliga'\n",
      " 'English League Championship' 'Scottish Premiership' 'Swiss Super League'\n",
      " 'Chilian Campeonato Nacional' 'Danish Superliga'\n",
      " 'Czech Republic Gambrinus Liga' 'Australian Hyundai A-League'\n",
      " 'Croatian Prva HNL' 'Italian Serie B' 'French Ligue 2'\n",
      " 'South African Premier Division' 'Polish T-Mobile Ekstraklasa'\n",
      " 'English League One' 'Korean K League Classic' 'Swedish Allsvenskan'\n",
      " 'Norwegian Eliteserien' 'German 3. Bundesliga' 'English League Two'\n",
      " 'Finnish Veikkausliiga' 'Rep. Ireland Airtricity League'] 44\n"
     ]
    }
   ],
   "source": [
    "leagues = ndata_list2[4]['league_name'].unique()\n",
    "print(leagues,len(leagues))"
   ]
  },
  {
   "cell_type": "code",
   "execution_count": 205,
   "metadata": {},
   "outputs": [],
   "source": [
    "tier1 = ['English Premier League','Spain Primera Division','Italian Serie A',\n",
    "        'German 1. Bundesliga', 'French Ligue 1', 'Russian Premier League',\n",
    "        'Portuguese Liga ZON SAGRES', 'Belgian Jupiler Pro League',\n",
    "        'Holland Eredivisie', 'USA Major League Soccer']\n",
    "\n",
    "tier2 = ['Turkish Süper Lig','Mexican Liga MX','Campeonato Brasileiro Série A',\n",
    "        'Scottish Premiership', 'Argentina Primera División',\n",
    "        'Austrian Football Bundesliga', 'Ukrainian Premier League',\n",
    "        'Danish Superliga', 'Swiss Super League', 'Rest of World']\n",
    "\n",
    "tier3 = ['Croatian Prva HNL','English League Championship', 'Greek Super League', \n",
    "        'Swedish Allsvenskan', 'Czech Republic Gambrinus Liga',\n",
    "        'Saudi Abdul L. Jameel League', 'Polish T-Mobile Ekstraklasa',\n",
    "        'Chinese Super League', 'Colombian Liga Postobón',\n",
    "        'Japanese J. League Division 1']\n",
    "\n",
    "tier4 = ['Norwegian Eliteserien','Romanian Liga I','0',\n",
    "        'German 2. Bundesliga','Spanish Segunda División', \n",
    "        'Chilian Campeonato Nacional','Australian Hyundai A-League', \n",
    "        'Italian Serie B', 'French Ligue 2',\n",
    "        'South African Premier Division', \n",
    "        'English League One', 'Korean K League Classic',\n",
    "        'German 3. Bundesliga', 'English League Two',\n",
    "        'Finnish Veikkausliiga', 'Rep. Ireland Airtricity League']\n"
   ]
  },
  {
   "cell_type": "code",
   "execution_count": 206,
   "metadata": {},
   "outputs": [],
   "source": [
    "ranking = [[],[],[],[],[],[]]\n",
    "for j in range(6):\n",
    "    for i in ndata_list2[j]['league_name']:\n",
    "        if i in tier1:\n",
    "            ranking[j].append(1)\n",
    "        elif i in tier2:\n",
    "            ranking[j].append(2)\n",
    "        elif i in tier3:\n",
    "            ranking[j].append(3)\n",
    "        elif i in tier4:\n",
    "            ranking[j].append(4)\n",
    "        else:\n",
    "            ranking[j].append(5)"
   ]
  },
  {
   "cell_type": "code",
   "execution_count": 207,
   "metadata": {},
   "outputs": [],
   "source": [
    "for i in range(len(ndata_list2)):\n",
    "    ndata_list2[i].insert(10,'league_ranking',ranking[i])"
   ]
  },
  {
   "cell_type": "code",
   "execution_count": 208,
   "metadata": {
    "scrolled": false
   },
   "outputs": [
    {
     "data": {
      "text/html": [
       "<div>\n",
       "<style scoped>\n",
       "    .dataframe tbody tr th:only-of-type {\n",
       "        vertical-align: middle;\n",
       "    }\n",
       "\n",
       "    .dataframe tbody tr th {\n",
       "        vertical-align: top;\n",
       "    }\n",
       "\n",
       "    .dataframe thead th {\n",
       "        text-align: right;\n",
       "    }\n",
       "</style>\n",
       "<table border=\"1\" class=\"dataframe\">\n",
       "  <thead>\n",
       "    <tr style=\"text-align: right;\">\n",
       "      <th></th>\n",
       "      <th>age</th>\n",
       "      <th>height_cm</th>\n",
       "      <th>weight_kg</th>\n",
       "      <th>overall</th>\n",
       "      <th>potential</th>\n",
       "      <th>pace</th>\n",
       "      <th>shooting</th>\n",
       "      <th>passing</th>\n",
       "      <th>defending</th>\n",
       "      <th>dribbling</th>\n",
       "      <th>physic</th>\n",
       "      <th>year</th>\n",
       "      <th>league_ranking</th>\n",
       "    </tr>\n",
       "    <tr>\n",
       "      <th>sofifa_id</th>\n",
       "      <th></th>\n",
       "      <th></th>\n",
       "      <th></th>\n",
       "      <th></th>\n",
       "      <th></th>\n",
       "      <th></th>\n",
       "      <th></th>\n",
       "      <th></th>\n",
       "      <th></th>\n",
       "      <th></th>\n",
       "      <th></th>\n",
       "      <th></th>\n",
       "      <th></th>\n",
       "    </tr>\n",
       "  </thead>\n",
       "  <tbody>\n",
       "    <tr>\n",
       "      <th>158023</th>\n",
       "      <td>27.0</td>\n",
       "      <td>169.0</td>\n",
       "      <td>67.0</td>\n",
       "      <td>93.0</td>\n",
       "      <td>95.0</td>\n",
       "      <td>93.0</td>\n",
       "      <td>89.0</td>\n",
       "      <td>86.0</td>\n",
       "      <td>27.0</td>\n",
       "      <td>96.0</td>\n",
       "      <td>63.0</td>\n",
       "      <td>0.0</td>\n",
       "      <td>1</td>\n",
       "    </tr>\n",
       "    <tr>\n",
       "      <th>20801</th>\n",
       "      <td>29.0</td>\n",
       "      <td>185.0</td>\n",
       "      <td>80.0</td>\n",
       "      <td>92.0</td>\n",
       "      <td>92.0</td>\n",
       "      <td>93.0</td>\n",
       "      <td>93.0</td>\n",
       "      <td>81.0</td>\n",
       "      <td>32.0</td>\n",
       "      <td>91.0</td>\n",
       "      <td>79.0</td>\n",
       "      <td>0.0</td>\n",
       "      <td>1</td>\n",
       "    </tr>\n",
       "    <tr>\n",
       "      <th>9014</th>\n",
       "      <td>30.0</td>\n",
       "      <td>180.0</td>\n",
       "      <td>80.0</td>\n",
       "      <td>90.0</td>\n",
       "      <td>90.0</td>\n",
       "      <td>93.0</td>\n",
       "      <td>86.0</td>\n",
       "      <td>83.0</td>\n",
       "      <td>32.0</td>\n",
       "      <td>92.0</td>\n",
       "      <td>64.0</td>\n",
       "      <td>0.0</td>\n",
       "      <td>1</td>\n",
       "    </tr>\n",
       "    <tr>\n",
       "      <th>41236</th>\n",
       "      <td>32.0</td>\n",
       "      <td>195.0</td>\n",
       "      <td>95.0</td>\n",
       "      <td>90.0</td>\n",
       "      <td>90.0</td>\n",
       "      <td>76.0</td>\n",
       "      <td>91.0</td>\n",
       "      <td>81.0</td>\n",
       "      <td>34.0</td>\n",
       "      <td>86.0</td>\n",
       "      <td>86.0</td>\n",
       "      <td>0.0</td>\n",
       "      <td>1</td>\n",
       "    </tr>\n",
       "    <tr>\n",
       "      <th>176580</th>\n",
       "      <td>27.0</td>\n",
       "      <td>181.0</td>\n",
       "      <td>81.0</td>\n",
       "      <td>89.0</td>\n",
       "      <td>91.0</td>\n",
       "      <td>83.0</td>\n",
       "      <td>87.0</td>\n",
       "      <td>79.0</td>\n",
       "      <td>42.0</td>\n",
       "      <td>88.0</td>\n",
       "      <td>79.0</td>\n",
       "      <td>0.0</td>\n",
       "      <td>1</td>\n",
       "    </tr>\n",
       "    <tr>\n",
       "      <th>...</th>\n",
       "      <td>...</td>\n",
       "      <td>...</td>\n",
       "      <td>...</td>\n",
       "      <td>...</td>\n",
       "      <td>...</td>\n",
       "      <td>...</td>\n",
       "      <td>...</td>\n",
       "      <td>...</td>\n",
       "      <td>...</td>\n",
       "      <td>...</td>\n",
       "      <td>...</td>\n",
       "      <td>...</td>\n",
       "      <td>...</td>\n",
       "    </tr>\n",
       "    <tr>\n",
       "      <th>222997</th>\n",
       "      <td>18.0</td>\n",
       "      <td>174.0</td>\n",
       "      <td>70.0</td>\n",
       "      <td>42.0</td>\n",
       "      <td>54.0</td>\n",
       "      <td>46.0</td>\n",
       "      <td>32.0</td>\n",
       "      <td>42.0</td>\n",
       "      <td>32.0</td>\n",
       "      <td>45.0</td>\n",
       "      <td>47.0</td>\n",
       "      <td>0.0</td>\n",
       "      <td>2</td>\n",
       "    </tr>\n",
       "    <tr>\n",
       "      <th>220806</th>\n",
       "      <td>17.0</td>\n",
       "      <td>187.0</td>\n",
       "      <td>81.0</td>\n",
       "      <td>41.0</td>\n",
       "      <td>61.0</td>\n",
       "      <td>66.0</td>\n",
       "      <td>25.0</td>\n",
       "      <td>29.0</td>\n",
       "      <td>39.0</td>\n",
       "      <td>30.0</td>\n",
       "      <td>53.0</td>\n",
       "      <td>0.0</td>\n",
       "      <td>4</td>\n",
       "    </tr>\n",
       "    <tr>\n",
       "      <th>225509</th>\n",
       "      <td>17.0</td>\n",
       "      <td>178.0</td>\n",
       "      <td>57.0</td>\n",
       "      <td>41.0</td>\n",
       "      <td>50.0</td>\n",
       "      <td>64.0</td>\n",
       "      <td>41.0</td>\n",
       "      <td>27.0</td>\n",
       "      <td>27.0</td>\n",
       "      <td>35.0</td>\n",
       "      <td>41.0</td>\n",
       "      <td>0.0</td>\n",
       "      <td>4</td>\n",
       "    </tr>\n",
       "    <tr>\n",
       "      <th>217591</th>\n",
       "      <td>18.0</td>\n",
       "      <td>190.0</td>\n",
       "      <td>76.0</td>\n",
       "      <td>40.0</td>\n",
       "      <td>50.0</td>\n",
       "      <td>58.0</td>\n",
       "      <td>27.0</td>\n",
       "      <td>35.0</td>\n",
       "      <td>52.0</td>\n",
       "      <td>31.0</td>\n",
       "      <td>68.0</td>\n",
       "      <td>0.0</td>\n",
       "      <td>3</td>\n",
       "    </tr>\n",
       "    <tr>\n",
       "      <th>222947</th>\n",
       "      <td>22.0</td>\n",
       "      <td>180.0</td>\n",
       "      <td>70.0</td>\n",
       "      <td>40.0</td>\n",
       "      <td>49.0</td>\n",
       "      <td>72.0</td>\n",
       "      <td>27.0</td>\n",
       "      <td>27.0</td>\n",
       "      <td>35.0</td>\n",
       "      <td>30.0</td>\n",
       "      <td>61.0</td>\n",
       "      <td>0.0</td>\n",
       "      <td>4</td>\n",
       "    </tr>\n",
       "  </tbody>\n",
       "</table>\n",
       "<p>10607 rows × 13 columns</p>\n",
       "</div>"
      ],
      "text/plain": [
       "            age  height_cm  weight_kg  overall  potential  pace  shooting  \\\n",
       "sofifa_id                                                                   \n",
       "158023     27.0      169.0       67.0     93.0       95.0  93.0      89.0   \n",
       "20801      29.0      185.0       80.0     92.0       92.0  93.0      93.0   \n",
       "9014       30.0      180.0       80.0     90.0       90.0  93.0      86.0   \n",
       "41236      32.0      195.0       95.0     90.0       90.0  76.0      91.0   \n",
       "176580     27.0      181.0       81.0     89.0       91.0  83.0      87.0   \n",
       "...         ...        ...        ...      ...        ...   ...       ...   \n",
       "222997     18.0      174.0       70.0     42.0       54.0  46.0      32.0   \n",
       "220806     17.0      187.0       81.0     41.0       61.0  66.0      25.0   \n",
       "225509     17.0      178.0       57.0     41.0       50.0  64.0      41.0   \n",
       "217591     18.0      190.0       76.0     40.0       50.0  58.0      27.0   \n",
       "222947     22.0      180.0       70.0     40.0       49.0  72.0      27.0   \n",
       "\n",
       "           passing  defending  dribbling  physic  year  league_ranking  \n",
       "sofifa_id                                                               \n",
       "158023        86.0       27.0       96.0    63.0   0.0               1  \n",
       "20801         81.0       32.0       91.0    79.0   0.0               1  \n",
       "9014          83.0       32.0       92.0    64.0   0.0               1  \n",
       "41236         81.0       34.0       86.0    86.0   0.0               1  \n",
       "176580        79.0       42.0       88.0    79.0   0.0               1  \n",
       "...            ...        ...        ...     ...   ...             ...  \n",
       "222997        42.0       32.0       45.0    47.0   0.0               2  \n",
       "220806        29.0       39.0       30.0    53.0   0.0               4  \n",
       "225509        27.0       27.0       35.0    41.0   0.0               4  \n",
       "217591        35.0       52.0       31.0    68.0   0.0               3  \n",
       "222947        27.0       35.0       30.0    61.0   0.0               4  \n",
       "\n",
       "[10607 rows x 13 columns]"
      ]
     },
     "execution_count": 208,
     "metadata": {},
     "output_type": "execute_result"
    }
   ],
   "source": [
    "# Below is the set of columns we care about\n",
    "\n",
    "features = ['age'\n",
    "            ,'height_cm'\n",
    "           ,'weight_kg'\n",
    "           ,'overall'\n",
    "           ,'potential'\n",
    "           ,'pace'\n",
    "           ,'shooting'\n",
    "           ,'passing'\n",
    "           ,'defending'\n",
    "           ,'dribbling'\n",
    "           ,'physic'\n",
    "           ,'year'\n",
    "           ,'league_ranking']\n",
    "\n",
    "filtered_data = []\n",
    "ys = []\n",
    "for d in ndata_list2:\n",
    "    filtered_data.append(d[features].fillna(0))\n",
    "    ys.append(d['value_eur_next'].fillna(0))\n",
    "filtered_data[0]"
   ]
  },
  {
   "cell_type": "code",
   "execution_count": 209,
   "metadata": {
    "scrolled": true
   },
   "outputs": [],
   "source": [
    "n = len(filtered_data[0])\n",
    "t1 = int(0.65*n)\n",
    "t2 = int(0.8*n)\n",
    "index_shuffle = np.array(filtered_data[0].index)\n",
    "np.random.shuffle(index_shuffle)\n",
    "\n",
    "train_x = filtered_data[0].loc[index_shuffle[0:t1]]\n",
    "validate_x = filtered_data[0].loc[index_shuffle[t1:t2]]\n",
    "test_x = filtered_data[0].loc[index_shuffle[t2:n]]\n",
    "\n",
    "train_y = ys[0].loc[index_shuffle[0:t1]]\n",
    "validate_y = ys[0].loc[index_shuffle[t1:t2]]\n",
    "test_y = ys[0].loc[index_shuffle[t2:n]]\n",
    "train_log_y = np.log(train_y)\n",
    "validate_log_y = np.log(validate_y)\n",
    "test_log_y = np.log(test_y)\n",
    "train_log_y.replace([np.inf, -np.inf, np.nan], 0, inplace=True)\n",
    "validate_log_y.replace([np.inf, -np.inf, np.nan], 0, inplace=True)\n",
    "test_log_y.replace([np.inf, -np.inf, np.nan], 0, inplace=True)"
   ]
  },
  {
   "cell_type": "code",
   "execution_count": 210,
   "metadata": {
    "scrolled": true
   },
   "outputs": [],
   "source": [
    "for i in range(len(filtered_data)):\n",
    "    n = len(filtered_data[i])\n",
    "    t1 = int(0.65*n)\n",
    "    t2 = int(0.8*n)\n",
    "    index_shuffle = np.array(filtered_data[i].index)\n",
    "    np.random.shuffle(index_shuffle)\n",
    "\n",
    "    train_x_i = filtered_data[i].loc[index_shuffle[0:t1]]\n",
    "    validate_x_i = filtered_data[i].loc[index_shuffle[t1:t2]]\n",
    "    test_x_i = filtered_data[i].loc[index_shuffle[t2:n]]\n",
    "\n",
    "    train_y_i = ys[i].loc[index_shuffle[0:t1]]\n",
    "    validate_y_i = ys[i].loc[index_shuffle[t1:t2]]\n",
    "    test_y_i = ys[i].loc[index_shuffle[t2:n]]\n",
    "    \n",
    "    train_log_y_i = np.log(train_y_i)\n",
    "    validate_log_y_i = np.log(validate_y_i)\n",
    "    test_log_y_i = np.log(test_y_i)\n",
    "    train_log_y_i.replace([np.inf, -np.inf, np.nan], 0, inplace=True)\n",
    "    validate_log_y_i.replace([np.inf, -np.inf, np.nan], 0, inplace=True)\n",
    "    test_log_y_i.replace([np.inf, -np.inf, np.nan], 0, inplace=True)\n",
    "    if i == 0:\n",
    "        train_x = train_x_i\n",
    "        validate_x = validate_x_i\n",
    "        test_x = test_x_i\n",
    "        train_y = train_y_i\n",
    "        validate_y = validate_y_i\n",
    "        test_y = test_y_i        \n",
    "        train_log_y = train_log_y_i\n",
    "        validate_log_y = validate_log_y_i\n",
    "        test_log_y = test_log_y_i  \n",
    "    else:\n",
    "        train_x = train_x.append(train_x_i)\n",
    "        validate_x = validate_x.append(validate_x_i)\n",
    "        test_x = test_x.append(test_x_i)\n",
    "        train_y = train_y.append(train_y_i)\n",
    "        validate_y = validate_y.append(validate_y_i)\n",
    "        test_y = test_y.append(test_y_i)        \n",
    "        train_log_y = train_log_y.append(train_log_y_i)\n",
    "        validate_log_y = validate_log_y.append(validate_log_y_i)\n",
    "        test_log_y = test_log_y.append(test_log_y_i)"
   ]
  },
  {
   "cell_type": "code",
   "execution_count": 211,
   "metadata": {
    "scrolled": true
   },
   "outputs": [],
   "source": [
    "U,S,V = np.linalg.svd(train_x,full_matrices = False)"
   ]
  },
  {
   "cell_type": "code",
   "execution_count": 212,
   "metadata": {},
   "outputs": [
    {
     "data": {
      "text/html": [
       "<div>\n",
       "<style scoped>\n",
       "    .dataframe tbody tr th:only-of-type {\n",
       "        vertical-align: middle;\n",
       "    }\n",
       "\n",
       "    .dataframe tbody tr th {\n",
       "        vertical-align: top;\n",
       "    }\n",
       "\n",
       "    .dataframe thead th {\n",
       "        text-align: right;\n",
       "    }\n",
       "</style>\n",
       "<table border=\"1\" class=\"dataframe\">\n",
       "  <thead>\n",
       "    <tr style=\"text-align: right;\">\n",
       "      <th></th>\n",
       "      <th>age</th>\n",
       "      <th>height_cm</th>\n",
       "      <th>weight_kg</th>\n",
       "      <th>overall</th>\n",
       "      <th>potential</th>\n",
       "      <th>pace</th>\n",
       "      <th>shooting</th>\n",
       "      <th>passing</th>\n",
       "      <th>defending</th>\n",
       "      <th>dribbling</th>\n",
       "      <th>physic</th>\n",
       "      <th>year</th>\n",
       "      <th>league_ranking</th>\n",
       "    </tr>\n",
       "    <tr>\n",
       "      <th>sofifa_id</th>\n",
       "      <th></th>\n",
       "      <th></th>\n",
       "      <th></th>\n",
       "      <th></th>\n",
       "      <th></th>\n",
       "      <th></th>\n",
       "      <th></th>\n",
       "      <th></th>\n",
       "      <th></th>\n",
       "      <th></th>\n",
       "      <th></th>\n",
       "      <th></th>\n",
       "      <th></th>\n",
       "    </tr>\n",
       "  </thead>\n",
       "  <tbody>\n",
       "    <tr>\n",
       "      <th>220051</th>\n",
       "      <td>21.0</td>\n",
       "      <td>185.0</td>\n",
       "      <td>78.0</td>\n",
       "      <td>64.0</td>\n",
       "      <td>68.0</td>\n",
       "      <td>70.0</td>\n",
       "      <td>47.0</td>\n",
       "      <td>63.0</td>\n",
       "      <td>60.0</td>\n",
       "      <td>61.0</td>\n",
       "      <td>70.0</td>\n",
       "      <td>0.0</td>\n",
       "      <td>4</td>\n",
       "    </tr>\n",
       "    <tr>\n",
       "      <th>203486</th>\n",
       "      <td>21.0</td>\n",
       "      <td>174.0</td>\n",
       "      <td>69.0</td>\n",
       "      <td>76.0</td>\n",
       "      <td>84.0</td>\n",
       "      <td>73.0</td>\n",
       "      <td>73.0</td>\n",
       "      <td>76.0</td>\n",
       "      <td>32.0</td>\n",
       "      <td>76.0</td>\n",
       "      <td>63.0</td>\n",
       "      <td>0.0</td>\n",
       "      <td>1</td>\n",
       "    </tr>\n",
       "    <tr>\n",
       "      <th>215531</th>\n",
       "      <td>21.0</td>\n",
       "      <td>177.0</td>\n",
       "      <td>72.0</td>\n",
       "      <td>68.0</td>\n",
       "      <td>74.0</td>\n",
       "      <td>74.0</td>\n",
       "      <td>65.0</td>\n",
       "      <td>70.0</td>\n",
       "      <td>53.0</td>\n",
       "      <td>71.0</td>\n",
       "      <td>67.0</td>\n",
       "      <td>0.0</td>\n",
       "      <td>1</td>\n",
       "    </tr>\n",
       "    <tr>\n",
       "      <th>190502</th>\n",
       "      <td>24.0</td>\n",
       "      <td>183.0</td>\n",
       "      <td>76.0</td>\n",
       "      <td>77.0</td>\n",
       "      <td>82.0</td>\n",
       "      <td>72.0</td>\n",
       "      <td>70.0</td>\n",
       "      <td>78.0</td>\n",
       "      <td>73.0</td>\n",
       "      <td>74.0</td>\n",
       "      <td>76.0</td>\n",
       "      <td>0.0</td>\n",
       "      <td>1</td>\n",
       "    </tr>\n",
       "    <tr>\n",
       "      <th>224222</th>\n",
       "      <td>22.0</td>\n",
       "      <td>183.0</td>\n",
       "      <td>80.0</td>\n",
       "      <td>50.0</td>\n",
       "      <td>55.0</td>\n",
       "      <td>68.0</td>\n",
       "      <td>47.0</td>\n",
       "      <td>53.0</td>\n",
       "      <td>35.0</td>\n",
       "      <td>52.0</td>\n",
       "      <td>57.0</td>\n",
       "      <td>0.0</td>\n",
       "      <td>4</td>\n",
       "    </tr>\n",
       "    <tr>\n",
       "      <th>...</th>\n",
       "      <td>...</td>\n",
       "      <td>...</td>\n",
       "      <td>...</td>\n",
       "      <td>...</td>\n",
       "      <td>...</td>\n",
       "      <td>...</td>\n",
       "      <td>...</td>\n",
       "      <td>...</td>\n",
       "      <td>...</td>\n",
       "      <td>...</td>\n",
       "      <td>...</td>\n",
       "      <td>...</td>\n",
       "      <td>...</td>\n",
       "    </tr>\n",
       "    <tr>\n",
       "      <th>200928</th>\n",
       "      <td>26.0</td>\n",
       "      <td>190.0</td>\n",
       "      <td>75.0</td>\n",
       "      <td>65.0</td>\n",
       "      <td>67.0</td>\n",
       "      <td>54.0</td>\n",
       "      <td>60.0</td>\n",
       "      <td>64.0</td>\n",
       "      <td>60.0</td>\n",
       "      <td>60.0</td>\n",
       "      <td>75.0</td>\n",
       "      <td>5.0</td>\n",
       "      <td>4</td>\n",
       "    </tr>\n",
       "    <tr>\n",
       "      <th>252185</th>\n",
       "      <td>18.0</td>\n",
       "      <td>196.0</td>\n",
       "      <td>94.0</td>\n",
       "      <td>59.0</td>\n",
       "      <td>78.0</td>\n",
       "      <td>52.0</td>\n",
       "      <td>36.0</td>\n",
       "      <td>41.0</td>\n",
       "      <td>56.0</td>\n",
       "      <td>44.0</td>\n",
       "      <td>70.0</td>\n",
       "      <td>5.0</td>\n",
       "      <td>4</td>\n",
       "    </tr>\n",
       "    <tr>\n",
       "      <th>244771</th>\n",
       "      <td>18.0</td>\n",
       "      <td>187.0</td>\n",
       "      <td>83.0</td>\n",
       "      <td>62.0</td>\n",
       "      <td>81.0</td>\n",
       "      <td>61.0</td>\n",
       "      <td>32.0</td>\n",
       "      <td>37.0</td>\n",
       "      <td>61.0</td>\n",
       "      <td>36.0</td>\n",
       "      <td>73.0</td>\n",
       "      <td>5.0</td>\n",
       "      <td>3</td>\n",
       "    </tr>\n",
       "    <tr>\n",
       "      <th>197480</th>\n",
       "      <td>27.0</td>\n",
       "      <td>180.0</td>\n",
       "      <td>85.0</td>\n",
       "      <td>70.0</td>\n",
       "      <td>71.0</td>\n",
       "      <td>65.0</td>\n",
       "      <td>70.0</td>\n",
       "      <td>53.0</td>\n",
       "      <td>22.0</td>\n",
       "      <td>67.0</td>\n",
       "      <td>75.0</td>\n",
       "      <td>5.0</td>\n",
       "      <td>1</td>\n",
       "    </tr>\n",
       "    <tr>\n",
       "      <th>192594</th>\n",
       "      <td>31.0</td>\n",
       "      <td>183.0</td>\n",
       "      <td>78.0</td>\n",
       "      <td>70.0</td>\n",
       "      <td>70.0</td>\n",
       "      <td>64.0</td>\n",
       "      <td>44.0</td>\n",
       "      <td>66.0</td>\n",
       "      <td>71.0</td>\n",
       "      <td>62.0</td>\n",
       "      <td>70.0</td>\n",
       "      <td>5.0</td>\n",
       "      <td>1</td>\n",
       "    </tr>\n",
       "  </tbody>\n",
       "</table>\n",
       "<p>45733 rows × 13 columns</p>\n",
       "</div>"
      ],
      "text/plain": [
       "            age  height_cm  weight_kg  overall  potential  pace  shooting  \\\n",
       "sofifa_id                                                                   \n",
       "220051     21.0      185.0       78.0     64.0       68.0  70.0      47.0   \n",
       "203486     21.0      174.0       69.0     76.0       84.0  73.0      73.0   \n",
       "215531     21.0      177.0       72.0     68.0       74.0  74.0      65.0   \n",
       "190502     24.0      183.0       76.0     77.0       82.0  72.0      70.0   \n",
       "224222     22.0      183.0       80.0     50.0       55.0  68.0      47.0   \n",
       "...         ...        ...        ...      ...        ...   ...       ...   \n",
       "200928     26.0      190.0       75.0     65.0       67.0  54.0      60.0   \n",
       "252185     18.0      196.0       94.0     59.0       78.0  52.0      36.0   \n",
       "244771     18.0      187.0       83.0     62.0       81.0  61.0      32.0   \n",
       "197480     27.0      180.0       85.0     70.0       71.0  65.0      70.0   \n",
       "192594     31.0      183.0       78.0     70.0       70.0  64.0      44.0   \n",
       "\n",
       "           passing  defending  dribbling  physic  year  league_ranking  \n",
       "sofifa_id                                                               \n",
       "220051        63.0       60.0       61.0    70.0   0.0               4  \n",
       "203486        76.0       32.0       76.0    63.0   0.0               1  \n",
       "215531        70.0       53.0       71.0    67.0   0.0               1  \n",
       "190502        78.0       73.0       74.0    76.0   0.0               1  \n",
       "224222        53.0       35.0       52.0    57.0   0.0               4  \n",
       "...            ...        ...        ...     ...   ...             ...  \n",
       "200928        64.0       60.0       60.0    75.0   5.0               4  \n",
       "252185        41.0       56.0       44.0    70.0   5.0               4  \n",
       "244771        37.0       61.0       36.0    73.0   5.0               3  \n",
       "197480        53.0       22.0       67.0    75.0   5.0               1  \n",
       "192594        66.0       71.0       62.0    70.0   5.0               1  \n",
       "\n",
       "[45733 rows x 13 columns]"
      ]
     },
     "execution_count": 212,
     "metadata": {},
     "output_type": "execute_result"
    }
   ],
   "source": [
    "train_x"
   ]
  },
  {
   "cell_type": "code",
   "execution_count": 213,
   "metadata": {
    "scrolled": true
   },
   "outputs": [
    {
     "data": {
      "text/plain": [
       "Text(0.5, 1.0, 'Normalized Eigenvalues for Outfielders')"
      ]
     },
     "execution_count": 213,
     "metadata": {},
     "output_type": "execute_result"
    },
    {
     "data": {
      "image/png": "[encoded data removed]",
      "text/plain": [
       "<Figure size 720x360 with 2 Axes>"
      ]
     },
     "metadata": {
      "needs_background": "light"
     },
     "output_type": "display_data"
    }
   ],
   "source": [
    "fig, ax = plt.subplots(1,2, figsize = (10,5))\n",
    "ax[0].plot(range(1,len(S)+1), S/np.sum(S), 'ro-', linewidth=2)\n",
    "ax[0].set_ylabel('Normalized Singular Values')\n",
    "ax[0].set_xlabel('k')\n",
    "ax[0].set_title('Normalized Singular Values for Outfielders')\n",
    "eigvals = S**2 / np.sum(S**2)\n",
    "ax[1].plot(range(1,len(S)+1), eigvals, 'ro-', linewidth=2)\n",
    "ax[1].set_ylabel('Normalized Eigenvalues')\n",
    "ax[1].set_xlabel('k')\n",
    "ax[1].set_title('Normalized Eigenvalues for Outfielders')"
   ]
  },
  {
   "cell_type": "code",
   "execution_count": 214,
   "metadata": {
    "scrolled": true
   },
   "outputs": [
    {
     "data": {
      "text/plain": [
       "Text(0.5, 1.0, 'Choose k based on constant (c)')"
      ]
     },
     "execution_count": 214,
     "metadata": {},
     "output_type": "execute_result"
    },
    {
     "data": {
      "image/png": "[encoded data removed]",
      "text/plain": [
       "<Figure size 432x288 with 1 Axes>"
      ]
     },
     "metadata": {
      "needs_background": "light"
     },
     "output_type": "display_data"
    }
   ],
   "source": [
    "c_range = range(10,20)\n",
    "c_list = np.zeros(len(c_range))\n",
    "for c in range(len(c_range)):\n",
    "    for k in range(len(S)):\n",
    "        if np.sum(S[:k]) >= np.sum(S[k:])*c_range[c]:\n",
    "            c_list[c] = k\n",
    "            break\n",
    "plt.plot(c_range,c_list)\n",
    "plt.xlabel('c')\n",
    "plt.ylabel('k')\n",
    "plt.title('Choose k based on constant (c)')"
   ]
  },
  {
   "cell_type": "code",
   "execution_count": 215,
   "metadata": {
    "scrolled": true
   },
   "outputs": [
    {
     "name": "stdout",
     "output_type": "stream",
     "text": [
      "5 abs: 71299346.36391258 mse: 5105229328163885.0\n",
      "6 abs: 42059903.15341284 mse: 1784192727366661.2\n",
      "7 abs: 41601125.764455736 mse: 1745707890491816.2\n"
     ]
    }
   ],
   "source": [
    "for f in range(5,8):\n",
    "    train_pca = train_x@V[0:f].T\n",
    "    validate_pca = validate_x@V[0:f].T\n",
    "\n",
    "    model = LinearRegression()\n",
    "    model.fit(train_pca,train_y)\n",
    "    pred = model.coef_.reshape(f,1)\n",
    "\n",
    "    pred_vector = validate_pca@pred\n",
    "    print(f, 'abs:', np.mean(np.abs(validate_y - (np.array(pred_vector).reshape(len(pred_vector),)))),\n",
    "          'mse:', np.mean((validate_y - np.array(pred_vector).reshape(len(pred_vector),))**2))"
   ]
  },
  {
   "cell_type": "markdown",
   "metadata": {},
   "source": [
    "Validation chooses k = 7"
   ]
  },
  {
   "cell_type": "code",
   "execution_count": 216,
   "metadata": {
    "scrolled": true
   },
   "outputs": [
    {
     "data": {
      "text/plain": [
       "Text(0, 0.5, 'True Market Value')"
      ]
     },
     "execution_count": 216,
     "metadata": {},
     "output_type": "execute_result"
    },
    {
     "data": {
      "image/png": "[encoded data removed]",
      "text/plain": [
       "<Figure size 432x288 with 1 Axes>"
      ]
     },
     "metadata": {
      "needs_background": "light"
     },
     "output_type": "display_data"
    }
   ],
   "source": [
    "f = 7\n",
    "train_pca = train_x@V[0:f].T\n",
    "test_pca = test_x@V[0:f].T\n",
    "\n",
    "model = LinearRegression()\n",
    "model.fit(train_pca,train_y)\n",
    "pred = model.coef_.reshape(f,1)\n",
    "\n",
    "pred_vector = test_pca@pred\n",
    "plt.xlim([np.min(np.array([np.min(pred_vector)[0],np.min(test_y)])),np.max(np.array([np.max(test_y),np.max(pred_vector)[0]]))])\n",
    "plt.scatter(pred_vector,test_y)\n",
    "plt.scatter(test_y,test_y)\n",
    "plt.title('Market Value of Outfielders Predicted vs. True')\n",
    "plt.xlabel('Predicted Market Value')\n",
    "plt.ylabel('True Market Value')"
   ]
  },
  {
   "cell_type": "code",
   "execution_count": 217,
   "metadata": {},
   "outputs": [
    {
     "data": {
      "text/plain": [
       "28958322.92997255"
      ]
     },
     "execution_count": 217,
     "metadata": {},
     "output_type": "execute_result"
    }
   ],
   "source": [
    "np.min(pred_vector)[0]"
   ]
  },
  {
   "cell_type": "markdown",
   "metadata": {},
   "source": [
    "Absolute Error:"
   ]
  },
  {
   "cell_type": "code",
   "execution_count": 218,
   "metadata": {},
   "outputs": [
    {
     "data": {
      "text/plain": [
       "41567601.19898374"
      ]
     },
     "execution_count": 218,
     "metadata": {},
     "output_type": "execute_result"
    }
   ],
   "source": [
    "np.mean(np.abs(test_y - (np.array(pred_vector).reshape(len(pred_vector),))))"
   ]
  },
  {
   "cell_type": "code",
   "execution_count": 219,
   "metadata": {
    "scrolled": true
   },
   "outputs": [
    {
     "data": {
      "text/plain": [
       "Text(0, 0.5, 'Absolute Error')"
      ]
     },
     "execution_count": 219,
     "metadata": {},
     "output_type": "execute_result"
    },
    {
     "data": {
      "image/png": "[encoded data removed]",
      "text/plain": [
       "<Figure size 432x288 with 1 Axes>"
      ]
     },
     "metadata": {
      "needs_background": "light"
     },
     "output_type": "display_data"
    }
   ],
   "source": [
    "plt.scatter(test_y,np.abs(test_y - (np.array(pred_vector).reshape(len(pred_vector),))))\n",
    "plt.title('Absolute Error vs. True Market Value')\n",
    "plt.xlabel('True Market Value')\n",
    "plt.ylabel('Absolute Error')"
   ]
  },
  {
   "cell_type": "markdown",
   "metadata": {},
   "source": [
    "MSE Error:"
   ]
  },
  {
   "cell_type": "code",
   "execution_count": 220,
   "metadata": {
    "scrolled": true
   },
   "outputs": [
    {
     "data": {
      "text/plain": [
       "1743681124597226.2"
      ]
     },
     "execution_count": 220,
     "metadata": {},
     "output_type": "execute_result"
    }
   ],
   "source": [
    "np.mean((test_y - np.array(pred_vector).reshape(len(pred_vector),))**2)"
   ]
  },
  {
   "cell_type": "code",
   "execution_count": 221,
   "metadata": {},
   "outputs": [
    {
     "data": {
      "text/plain": [
       "Text(0, 0.5, 'Mean Squared Error')"
      ]
     },
     "execution_count": 221,
     "metadata": {},
     "output_type": "execute_result"
    },
    {
     "data": {
      "image/png": "[encoded data removed]",
      "text/plain": [
       "<Figure size 432x288 with 1 Axes>"
      ]
     },
     "metadata": {
      "needs_background": "light"
     },
     "output_type": "display_data"
    }
   ],
   "source": [
    "plt.scatter(test_y,(test_y - (np.array(pred_vector).reshape(len(pred_vector),)))**2)\n",
    "plt.title('Mean Squared Error vs. True Market Value')\n",
    "plt.xlabel('True Market Value')\n",
    "plt.ylabel('Mean Squared Error')"
   ]
  },
  {
   "cell_type": "code",
   "execution_count": 222,
   "metadata": {
    "scrolled": true
   },
   "outputs": [
    {
     "name": "stdout",
     "output_type": "stream",
     "text": [
      "5 abs: 34148456720.94519 mse: 3.940821977981622e+21\n",
      "6 abs: 1144261.0302126987 mse: 7616594393930.164\n",
      "7 abs: 1101832.3677430411 mse: 6780404527567.006\n"
     ]
    }
   ],
   "source": [
    "for f in range(5,8):\n",
    "    train_pca = train_x@V[0:f].T\n",
    "    validate_pca = validate_x@V[0:f].T\n",
    "\n",
    "    model = LinearRegression()\n",
    "    model.fit(train_pca,train_log_y)\n",
    "    pred = model.coef_.reshape(f,1)\n",
    "\n",
    "    pred_vector = validate_pca@pred\n",
    "    print(f, 'abs:', np.mean(np.abs(validate_y - np.exp(np.array(pred_vector).reshape(len(pred_vector),)))),\n",
    "          'mse:', np.mean((validate_y - np.exp(np.array(pred_vector).reshape(len(pred_vector),)))**2))"
   ]
  },
  {
   "cell_type": "markdown",
   "metadata": {},
   "source": [
    "Validation choose k = 7"
   ]
  },
  {
   "cell_type": "code",
   "execution_count": 223,
   "metadata": {
    "scrolled": true
   },
   "outputs": [
    {
     "data": {
      "text/plain": [
       "Text(0.5, 1.0, 'Log-Market Value of Outfielders Predicted vs. True')"
      ]
     },
     "execution_count": 223,
     "metadata": {},
     "output_type": "execute_result"
    },
    {
     "data": {
      "image/png": "[encoded data removed]",
      "text/plain": [
       "<Figure size 432x288 with 1 Axes>"
      ]
     },
     "metadata": {
      "needs_background": "light"
     },
     "output_type": "display_data"
    }
   ],
   "source": [
    "f = 7\n",
    "train_pca = train_x@V[0:f].T\n",
    "test_pca = test_x@V[0:f].T\n",
    "\n",
    "model = LinearRegression()\n",
    "model.fit(train_pca,train_log_y)\n",
    "pred = model.coef_.reshape(f,1)\n",
    "\n",
    "pred_vector = test_pca@pred\n",
    "plt.scatter(pred_vector,test_log_y)\n",
    "plt.xlabel('Predicted')\n",
    "plt.ylabel('True')\n",
    "plt.title('Log-Market Value of Outfielders Predicted vs. True')"
   ]
  },
  {
   "cell_type": "code",
   "execution_count": 224,
   "metadata": {
    "scrolled": true
   },
   "outputs": [
    {
     "data": {
      "text/plain": [
       "Text(0.5, 0, 'Predicted Market Value')"
      ]
     },
     "execution_count": 224,
     "metadata": {},
     "output_type": "execute_result"
    },
    {
     "data": {
      "image/png": "[encoded data removed]",
      "text/plain": [
       "<Figure size 432x288 with 1 Axes>"
      ]
     },
     "metadata": {
      "needs_background": "light"
     },
     "output_type": "display_data"
    }
   ],
   "source": [
    "plt.xlim([np.min(np.array([np.min(pred_vector)[0],np.min(test_y)])),np.max(np.array([np.max(test_y),np.max(pred_vector)[0]]))])\n",
    "plt.scatter(np.exp(pred_vector),test_y)\n",
    "plt.scatter(test_y,test_y)\n",
    "plt.title('            Outfielders Predicted vs. True Market Value (Log-Model)')\n",
    "plt.ylabel('True Market Value')\n",
    "plt.xlabel('Predicted Market Value')"
   ]
  },
  {
   "cell_type": "markdown",
   "metadata": {},
   "source": [
    "Absolute Error:"
   ]
  },
  {
   "cell_type": "code",
   "execution_count": 225,
   "metadata": {},
   "outputs": [
    {
     "data": {
      "text/plain": [
       "1110180.988932079"
      ]
     },
     "execution_count": 225,
     "metadata": {},
     "output_type": "execute_result"
    }
   ],
   "source": [
    "np.mean(np.abs(test_y - np.exp(np.array(pred_vector).reshape(len(pred_vector),))))"
   ]
  },
  {
   "cell_type": "code",
   "execution_count": 226,
   "metadata": {},
   "outputs": [
    {
     "data": {
      "text/plain": [
       "Text(0, 0.5, 'Absolute Error')"
      ]
     },
     "execution_count": 226,
     "metadata": {},
     "output_type": "execute_result"
    },
    {
     "data": {
      "image/png": "[encoded data removed]",
      "text/plain": [
       "<Figure size 432x288 with 1 Axes>"
      ]
     },
     "metadata": {
      "needs_background": "light"
     },
     "output_type": "display_data"
    }
   ],
   "source": [
    "plt.scatter(test_y,np.abs(test_y - np.exp(np.array(pred_vector).reshape(len(pred_vector),))))\n",
    "plt.title('Absolute Error vs. True Market Value')\n",
    "plt.xlabel('True Market Value')\n",
    "plt.ylabel('Absolute Error')"
   ]
  },
  {
   "cell_type": "markdown",
   "metadata": {},
   "source": [
    "MSE:"
   ]
  },
  {
   "cell_type": "code",
   "execution_count": 227,
   "metadata": {
    "scrolled": true
   },
   "outputs": [
    {
     "data": {
      "text/plain": [
       "7486615386076.514"
      ]
     },
     "execution_count": 227,
     "metadata": {},
     "output_type": "execute_result"
    }
   ],
   "source": [
    "np.mean((test_y - np.exp(np.array(pred_vector).reshape(len(pred_vector),)))**2)"
   ]
  },
  {
   "cell_type": "code",
   "execution_count": 228,
   "metadata": {},
   "outputs": [
    {
     "data": {
      "text/plain": [
       "Text(0, 0.5, 'Mean Squared Error')"
      ]
     },
     "execution_count": 228,
     "metadata": {},
     "output_type": "execute_result"
    },
    {
     "data": {
      "image/png": "[encoded data removed]",
      "text/plain": [
       "<Figure size 432x288 with 1 Axes>"
      ]
     },
     "metadata": {
      "needs_background": "light"
     },
     "output_type": "display_data"
    }
   ],
   "source": [
    "plt.scatter(test_y,(test_y - np.exp(np.array(pred_vector).reshape(len(pred_vector),)))**2)\n",
    "plt.title('Mean Squared Error vs. True Market Value')\n",
    "plt.xlabel('True Market Value')\n",
    "plt.ylabel('Mean Squared Error')"
   ]
  },
  {
   "cell_type": "code",
   "execution_count": 229,
   "metadata": {
    "scrolled": true
   },
   "outputs": [],
   "source": [
    "# get rid of cases where value euro next is 0 and value euro is 0 and get rid of goalkeepers\n",
    "ndata_list3 = []\n",
    "for i, j in enumerate(ndata_list):\n",
    "    ndata_list3.append(j.where(j['value_eur_next']!=0.0).dropna(how='all'))\n",
    "    ndata_list3[i] = ndata_list3[i].where(ndata_list3[i]['team_position']=='GK').dropna(how='all')"
   ]
  },
  {
   "cell_type": "code",
   "execution_count": 230,
   "metadata": {},
   "outputs": [],
   "source": [
    "for i in range(len(ndata_list3)):\n",
    "    ndata_list3[i].insert(8,'year',np.ones(len(ndata_list3[i]))*i)"
   ]
  },
  {
   "cell_type": "code",
   "execution_count": 231,
   "metadata": {},
   "outputs": [],
   "source": [
    "rankinggk = [[],[],[],[],[],[]]\n",
    "for j in range(6):\n",
    "    for i in ndata_list3[j]['league_name']:\n",
    "        if i in tier1:\n",
    "            rankinggk[j].append(1)\n",
    "        elif i in tier2:\n",
    "            rankinggk[j].append(2)\n",
    "        elif i in tier3:\n",
    "            rankinggk[j].append(3)\n",
    "        elif i in tier4:\n",
    "            rankinggk[j].append(4)\n",
    "        else:\n",
    "            rankinggk[j].append(5)"
   ]
  },
  {
   "cell_type": "code",
   "execution_count": 232,
   "metadata": {},
   "outputs": [],
   "source": [
    "for i in range(len(ndata_list3)):\n",
    "    ndata_list3[i].insert(10,'league_ranking',rankinggk[i])"
   ]
  },
  {
   "cell_type": "code",
   "execution_count": 233,
   "metadata": {
    "scrolled": true
   },
   "outputs": [
    {
     "data": {
      "text/html": [
       "<div>\n",
       "<style scoped>\n",
       "    .dataframe tbody tr th:only-of-type {\n",
       "        vertical-align: middle;\n",
       "    }\n",
       "\n",
       "    .dataframe tbody tr th {\n",
       "        vertical-align: top;\n",
       "    }\n",
       "\n",
       "    .dataframe thead th {\n",
       "        text-align: right;\n",
       "    }\n",
       "</style>\n",
       "<table border=\"1\" class=\"dataframe\">\n",
       "  <thead>\n",
       "    <tr style=\"text-align: right;\">\n",
       "      <th></th>\n",
       "      <th>age</th>\n",
       "      <th>height_cm</th>\n",
       "      <th>weight_kg</th>\n",
       "      <th>overall</th>\n",
       "      <th>potential</th>\n",
       "      <th>gk_diving</th>\n",
       "      <th>gk_reflexes</th>\n",
       "      <th>gk_handling</th>\n",
       "      <th>gk_kicking</th>\n",
       "      <th>gk_speed</th>\n",
       "      <th>gk_positioning</th>\n",
       "      <th>year</th>\n",
       "      <th>league_ranking</th>\n",
       "    </tr>\n",
       "    <tr>\n",
       "      <th>sofifa_id</th>\n",
       "      <th></th>\n",
       "      <th></th>\n",
       "      <th></th>\n",
       "      <th></th>\n",
       "      <th></th>\n",
       "      <th></th>\n",
       "      <th></th>\n",
       "      <th></th>\n",
       "      <th></th>\n",
       "      <th></th>\n",
       "      <th></th>\n",
       "      <th></th>\n",
       "      <th></th>\n",
       "    </tr>\n",
       "  </thead>\n",
       "  <tbody>\n",
       "    <tr>\n",
       "      <th>167495</th>\n",
       "      <td>28.0</td>\n",
       "      <td>193.0</td>\n",
       "      <td>92.0</td>\n",
       "      <td>90.0</td>\n",
       "      <td>90.0</td>\n",
       "      <td>87.0</td>\n",
       "      <td>86.0</td>\n",
       "      <td>85.0</td>\n",
       "      <td>92.0</td>\n",
       "      <td>60.0</td>\n",
       "      <td>90.0</td>\n",
       "      <td>0.0</td>\n",
       "      <td>1</td>\n",
       "    </tr>\n",
       "    <tr>\n",
       "      <th>192119</th>\n",
       "      <td>22.0</td>\n",
       "      <td>199.0</td>\n",
       "      <td>88.0</td>\n",
       "      <td>86.0</td>\n",
       "      <td>90.0</td>\n",
       "      <td>84.0</td>\n",
       "      <td>88.0</td>\n",
       "      <td>87.0</td>\n",
       "      <td>69.0</td>\n",
       "      <td>49.0</td>\n",
       "      <td>86.0</td>\n",
       "      <td>0.0</td>\n",
       "      <td>1</td>\n",
       "    </tr>\n",
       "    <tr>\n",
       "      <th>167948</th>\n",
       "      <td>27.0</td>\n",
       "      <td>188.0</td>\n",
       "      <td>78.0</td>\n",
       "      <td>85.0</td>\n",
       "      <td>86.0</td>\n",
       "      <td>86.0</td>\n",
       "      <td>88.0</td>\n",
       "      <td>81.0</td>\n",
       "      <td>71.0</td>\n",
       "      <td>64.0</td>\n",
       "      <td>81.0</td>\n",
       "      <td>0.0</td>\n",
       "      <td>1</td>\n",
       "    </tr>\n",
       "    <tr>\n",
       "      <th>168435</th>\n",
       "      <td>27.0</td>\n",
       "      <td>192.0</td>\n",
       "      <td>80.0</td>\n",
       "      <td>84.0</td>\n",
       "      <td>85.0</td>\n",
       "      <td>85.0</td>\n",
       "      <td>87.0</td>\n",
       "      <td>79.0</td>\n",
       "      <td>73.0</td>\n",
       "      <td>51.0</td>\n",
       "      <td>84.0</td>\n",
       "      <td>0.0</td>\n",
       "      <td>1</td>\n",
       "    </tr>\n",
       "    <tr>\n",
       "      <th>5479</th>\n",
       "      <td>33.0</td>\n",
       "      <td>185.0</td>\n",
       "      <td>84.0</td>\n",
       "      <td>84.0</td>\n",
       "      <td>84.0</td>\n",
       "      <td>87.0</td>\n",
       "      <td>88.0</td>\n",
       "      <td>79.0</td>\n",
       "      <td>67.0</td>\n",
       "      <td>64.0</td>\n",
       "      <td>79.0</td>\n",
       "      <td>0.0</td>\n",
       "      <td>1</td>\n",
       "    </tr>\n",
       "    <tr>\n",
       "      <th>...</th>\n",
       "      <td>...</td>\n",
       "      <td>...</td>\n",
       "      <td>...</td>\n",
       "      <td>...</td>\n",
       "      <td>...</td>\n",
       "      <td>...</td>\n",
       "      <td>...</td>\n",
       "      <td>...</td>\n",
       "      <td>...</td>\n",
       "      <td>...</td>\n",
       "      <td>...</td>\n",
       "      <td>...</td>\n",
       "      <td>...</td>\n",
       "    </tr>\n",
       "    <tr>\n",
       "      <th>212763</th>\n",
       "      <td>19.0</td>\n",
       "      <td>179.0</td>\n",
       "      <td>76.0</td>\n",
       "      <td>53.0</td>\n",
       "      <td>64.0</td>\n",
       "      <td>54.0</td>\n",
       "      <td>55.0</td>\n",
       "      <td>52.0</td>\n",
       "      <td>49.0</td>\n",
       "      <td>51.0</td>\n",
       "      <td>52.0</td>\n",
       "      <td>0.0</td>\n",
       "      <td>4</td>\n",
       "    </tr>\n",
       "    <tr>\n",
       "      <th>201354</th>\n",
       "      <td>21.0</td>\n",
       "      <td>186.0</td>\n",
       "      <td>81.0</td>\n",
       "      <td>53.0</td>\n",
       "      <td>62.0</td>\n",
       "      <td>50.0</td>\n",
       "      <td>58.0</td>\n",
       "      <td>50.0</td>\n",
       "      <td>48.0</td>\n",
       "      <td>46.0</td>\n",
       "      <td>52.0</td>\n",
       "      <td>0.0</td>\n",
       "      <td>4</td>\n",
       "    </tr>\n",
       "    <tr>\n",
       "      <th>222070</th>\n",
       "      <td>23.0</td>\n",
       "      <td>191.0</td>\n",
       "      <td>92.0</td>\n",
       "      <td>51.0</td>\n",
       "      <td>58.0</td>\n",
       "      <td>56.0</td>\n",
       "      <td>55.0</td>\n",
       "      <td>49.0</td>\n",
       "      <td>52.0</td>\n",
       "      <td>44.0</td>\n",
       "      <td>43.0</td>\n",
       "      <td>0.0</td>\n",
       "      <td>1</td>\n",
       "    </tr>\n",
       "    <tr>\n",
       "      <th>192544</th>\n",
       "      <td>25.0</td>\n",
       "      <td>185.0</td>\n",
       "      <td>85.0</td>\n",
       "      <td>51.0</td>\n",
       "      <td>55.0</td>\n",
       "      <td>51.0</td>\n",
       "      <td>54.0</td>\n",
       "      <td>54.0</td>\n",
       "      <td>51.0</td>\n",
       "      <td>36.0</td>\n",
       "      <td>51.0</td>\n",
       "      <td>0.0</td>\n",
       "      <td>4</td>\n",
       "    </tr>\n",
       "    <tr>\n",
       "      <th>194372</th>\n",
       "      <td>24.0</td>\n",
       "      <td>191.0</td>\n",
       "      <td>83.0</td>\n",
       "      <td>43.0</td>\n",
       "      <td>49.0</td>\n",
       "      <td>40.0</td>\n",
       "      <td>41.0</td>\n",
       "      <td>47.0</td>\n",
       "      <td>53.0</td>\n",
       "      <td>34.0</td>\n",
       "      <td>44.0</td>\n",
       "      <td>0.0</td>\n",
       "      <td>2</td>\n",
       "    </tr>\n",
       "  </tbody>\n",
       "</table>\n",
       "<p>487 rows × 13 columns</p>\n",
       "</div>"
      ],
      "text/plain": [
       "            age  height_cm  weight_kg  overall  potential  gk_diving  \\\n",
       "sofifa_id                                                              \n",
       "167495     28.0      193.0       92.0     90.0       90.0       87.0   \n",
       "192119     22.0      199.0       88.0     86.0       90.0       84.0   \n",
       "167948     27.0      188.0       78.0     85.0       86.0       86.0   \n",
       "168435     27.0      192.0       80.0     84.0       85.0       85.0   \n",
       "5479       33.0      185.0       84.0     84.0       84.0       87.0   \n",
       "...         ...        ...        ...      ...        ...        ...   \n",
       "212763     19.0      179.0       76.0     53.0       64.0       54.0   \n",
       "201354     21.0      186.0       81.0     53.0       62.0       50.0   \n",
       "222070     23.0      191.0       92.0     51.0       58.0       56.0   \n",
       "192544     25.0      185.0       85.0     51.0       55.0       51.0   \n",
       "194372     24.0      191.0       83.0     43.0       49.0       40.0   \n",
       "\n",
       "           gk_reflexes  gk_handling  gk_kicking  gk_speed  gk_positioning  \\\n",
       "sofifa_id                                                                   \n",
       "167495            86.0         85.0        92.0      60.0            90.0   \n",
       "192119            88.0         87.0        69.0      49.0            86.0   \n",
       "167948            88.0         81.0        71.0      64.0            81.0   \n",
       "168435            87.0         79.0        73.0      51.0            84.0   \n",
       "5479              88.0         79.0        67.0      64.0            79.0   \n",
       "...                ...          ...         ...       ...             ...   \n",
       "212763            55.0         52.0        49.0      51.0            52.0   \n",
       "201354            58.0         50.0        48.0      46.0            52.0   \n",
       "222070            55.0         49.0        52.0      44.0            43.0   \n",
       "192544            54.0         54.0        51.0      36.0            51.0   \n",
       "194372            41.0         47.0        53.0      34.0            44.0   \n",
       "\n",
       "           year  league_ranking  \n",
       "sofifa_id                        \n",
       "167495      0.0               1  \n",
       "192119      0.0               1  \n",
       "167948      0.0               1  \n",
       "168435      0.0               1  \n",
       "5479        0.0               1  \n",
       "...         ...             ...  \n",
       "212763      0.0               4  \n",
       "201354      0.0               4  \n",
       "222070      0.0               1  \n",
       "192544      0.0               4  \n",
       "194372      0.0               2  \n",
       "\n",
       "[487 rows x 13 columns]"
      ]
     },
     "execution_count": 233,
     "metadata": {},
     "output_type": "execute_result"
    }
   ],
   "source": [
    "# Below is the set of columns we care about\n",
    "\n",
    "\n",
    "features = ['age'\n",
    "            ,'height_cm'\n",
    "           ,'weight_kg'\n",
    "           ,'overall'\n",
    "           ,'potential'\n",
    "           ,'gk_diving'\n",
    "           ,'gk_reflexes'\n",
    "           ,'gk_handling'\n",
    "           ,'gk_kicking'\n",
    "           ,'gk_speed'\n",
    "           ,'gk_positioning'\n",
    "           ,'year'\n",
    "           ,'league_ranking']\n",
    "\n",
    "filtered_data = []\n",
    "ys = []\n",
    "for d in ndata_list3:\n",
    "    filtered_data.append(d[features].fillna(0))\n",
    "    ys.append(d['value_eur_next'].fillna(0))\n",
    "filtered_data[0]"
   ]
  },
  {
   "cell_type": "code",
   "execution_count": 234,
   "metadata": {
    "scrolled": true
   },
   "outputs": [],
   "source": [
    "for i in range(len(filtered_data)):\n",
    "    n = len(filtered_data[i])\n",
    "    t1 = int(0.65*n)\n",
    "    t2 = int(0.8*n)\n",
    "    index_shuffle = np.array(filtered_data[i].index)\n",
    "    np.random.shuffle(index_shuffle)\n",
    "\n",
    "    train_x_i = filtered_data[i].loc[index_shuffle[0:t1]]\n",
    "    validate_x_i = filtered_data[i].loc[index_shuffle[t1:t2]]\n",
    "    test_x_i = filtered_data[i].loc[index_shuffle[t2:n]]\n",
    "\n",
    "    train_y_i = ys[i].loc[index_shuffle[0:t1]]\n",
    "    validate_y_i = ys[i].loc[index_shuffle[t1:t2]]\n",
    "    test_y_i = ys[i].loc[index_shuffle[t2:n]]\n",
    "    \n",
    "    train_log_y_i = np.log(train_y_i)\n",
    "    validate_log_y_i = np.log(validate_y_i)\n",
    "    test_log_y_i = np.log(test_y_i)\n",
    "    train_log_y_i.replace([np.inf, -np.inf, np.nan], 0, inplace=True)\n",
    "    validate_log_y_i.replace([np.inf, -np.inf, np.nan], 0, inplace=True)\n",
    "    test_log_y_i.replace([np.inf, -np.inf, np.nan], 0, inplace=True)\n",
    "    if i == 0:\n",
    "        train_x = train_x_i\n",
    "        validate_x = validate_x_i\n",
    "        test_x = test_x_i\n",
    "        train_y = train_y_i\n",
    "        validate_y = validate_y_i\n",
    "        test_y = test_y_i        \n",
    "        train_log_y = train_log_y_i\n",
    "        validate_log_y = validate_log_y_i\n",
    "        test_log_y = test_log_y_i  \n",
    "    else:\n",
    "        train_x = train_x.append(train_x_i)\n",
    "        validate_x = validate_x.append(validate_x_i)\n",
    "        test_x = test_x.append(test_x_i)\n",
    "        train_y = train_y.append(train_y_i)\n",
    "        validate_y = validate_y.append(validate_y_i)\n",
    "        test_y = test_y.append(test_y_i)        \n",
    "        train_log_y = train_log_y.append(train_log_y_i)\n",
    "        validate_log_y = validate_log_y.append(validate_log_y_i)\n",
    "        test_log_y = test_log_y.append(test_log_y_i)"
   ]
  },
  {
   "cell_type": "code",
   "execution_count": 235,
   "metadata": {
    "scrolled": true
   },
   "outputs": [],
   "source": [
    "U,S,V = np.linalg.svd(train_x,full_matrices = False)"
   ]
  },
  {
   "cell_type": "code",
   "execution_count": 236,
   "metadata": {
    "scrolled": true
   },
   "outputs": [
    {
     "data": {
      "text/plain": [
       "Text(0.5, 1.0, 'Normalized Eigenvalues vs. k')"
      ]
     },
     "execution_count": 236,
     "metadata": {},
     "output_type": "execute_result"
    },
    {
     "data": {
      "image/png": "[encoded data removed]",
      "text/plain": [
       "<Figure size 720x360 with 2 Axes>"
      ]
     },
     "metadata": {
      "needs_background": "light"
     },
     "output_type": "display_data"
    }
   ],
   "source": [
    "fig, ax = plt.subplots(1,2, figsize = (10,5))\n",
    "ax[0].plot(range(1,len(S)+1), S/np.sum(S), 'ro-', linewidth=2)\n",
    "ax[0].set_ylabel('Normalized Singular Values')\n",
    "ax[0].set_xlabel('k')\n",
    "ax[0].set_title('Normalized Singular Values for Goalkeepers')\n",
    "eigvals = S**2 / np.sum(S**2)\n",
    "ax[1].plot(range(1,len(S)+1), eigvals, 'ro-', linewidth=2)\n",
    "ax[1].set_ylabel('Normalized Eigenvalues')\n",
    "ax[1].set_xlabel('k')\n",
    "ax[1].set_title('Normalized Eigenvalues vs. k')"
   ]
  },
  {
   "cell_type": "code",
   "execution_count": 237,
   "metadata": {
    "scrolled": true
   },
   "outputs": [
    {
     "data": {
      "text/plain": [
       "Text(0.5, 1.0, 'Choose k based on constant (c)')"
      ]
     },
     "execution_count": 237,
     "metadata": {},
     "output_type": "execute_result"
    },
    {
     "data": {
      "image/png": "[encoded data removed]",
      "text/plain": [
       "<Figure size 432x288 with 1 Axes>"
      ]
     },
     "metadata": {
      "needs_background": "light"
     },
     "output_type": "display_data"
    }
   ],
   "source": [
    "c_range = range(10,20)\n",
    "c_list = np.zeros(len(c_range))\n",
    "for c in range(len(c_range)):\n",
    "    for k in range(len(S)):\n",
    "        if np.sum(S[:k]) >= np.sum(S[k:])*c_range[c]:\n",
    "            c_list[c] = k\n",
    "            break\n",
    "plt.plot(c_range,c_list)\n",
    "plt.xlabel('c')\n",
    "plt.ylabel('k')\n",
    "plt.title('Choose k based on constant (c)')"
   ]
  },
  {
   "cell_type": "code",
   "execution_count": 238,
   "metadata": {
    "scrolled": true
   },
   "outputs": [
    {
     "name": "stdout",
     "output_type": "stream",
     "text": [
      "3 abs: 64778297.990937665 mse: 4220937341892146.0\n",
      "4 abs: 70901391.9043338 mse: 5050449023543589.0\n",
      "5 abs: 72808144.58193544 mse: 5324031308588842.0\n",
      "6 abs: 57938586.323248826 mse: 3379748251166037.0\n"
     ]
    }
   ],
   "source": [
    "for f in range(3,7):\n",
    "    train_pca = train_x@V[0:f].T\n",
    "    validate_pca = validate_x@V[0:f].T\n",
    "\n",
    "    model = LinearRegression()\n",
    "    model.fit(train_pca,train_y)\n",
    "    pred = model.coef_.reshape(f,1)\n",
    "\n",
    "    pred_vector = validate_pca@pred\n",
    "    print(f, 'abs:', np.mean(np.abs(validate_y - (np.array(pred_vector).reshape(len(pred_vector),)))),\n",
    "          'mse:', np.mean((validate_y - np.array(pred_vector).reshape(len(pred_vector),))**2))"
   ]
  },
  {
   "cell_type": "markdown",
   "metadata": {},
   "source": [
    "We choose k = 6"
   ]
  },
  {
   "cell_type": "code",
   "execution_count": 239,
   "metadata": {
    "scrolled": true
   },
   "outputs": [
    {
     "data": {
      "text/plain": [
       "Text(0, 0.5, 'True Market Value')"
      ]
     },
     "execution_count": 239,
     "metadata": {},
     "output_type": "execute_result"
    },
    {
     "data": {
      "image/png": "[encoded data removed]",
      "text/plain": [
       "<Figure size 432x288 with 1 Axes>"
      ]
     },
     "metadata": {
      "needs_background": "light"
     },
     "output_type": "display_data"
    }
   ],
   "source": [
    "f = 6\n",
    "train_pca = train_x@V[0:f].T\n",
    "test_pca = test_x@V[0:f].T\n",
    "\n",
    "model = LinearRegression()\n",
    "model.fit(train_pca,train_y)\n",
    "pred = model.coef_.reshape(f,1)\n",
    "\n",
    "pred_vector = test_pca@pred\n",
    "plt.xlim([np.min(np.array([np.min(pred_vector)[0],np.min(test_y)])),np.max(np.array([np.max(test_y),np.max(pred_vector)[0]]))])\n",
    "plt.scatter(pred_vector,test_y)\n",
    "plt.scatter(test_y,test_y)\n",
    "plt.title('Market Value of Goalkeepers Predicted vs. True')\n",
    "plt.xlabel('Predicted Market Value')\n",
    "plt.ylabel('True Market Value')"
   ]
  },
  {
   "cell_type": "markdown",
   "metadata": {},
   "source": [
    "Absolute Error:"
   ]
  },
  {
   "cell_type": "code",
   "execution_count": 240,
   "metadata": {},
   "outputs": [
    {
     "data": {
      "text/plain": [
       "57056421.56193446"
      ]
     },
     "execution_count": 240,
     "metadata": {},
     "output_type": "execute_result"
    }
   ],
   "source": [
    "np.mean(np.abs(test_y - (np.array(pred_vector).reshape(len(pred_vector),))))"
   ]
  },
  {
   "cell_type": "code",
   "execution_count": 241,
   "metadata": {},
   "outputs": [
    {
     "data": {
      "text/plain": [
       "Text(0, 0.5, 'Absolute Error')"
      ]
     },
     "execution_count": 241,
     "metadata": {},
     "output_type": "execute_result"
    },
    {
     "data": {
      "image/png": "[encoded data removed]",
      "text/plain": [
       "<Figure size 432x288 with 1 Axes>"
      ]
     },
     "metadata": {
      "needs_background": "light"
     },
     "output_type": "display_data"
    }
   ],
   "source": [
    "plt.scatter(test_y,np.abs(test_y - (np.array(pred_vector).reshape(len(pred_vector),))))\n",
    "plt.title('Absolute Error vs. True Market Value')\n",
    "plt.xlabel('True Market Value')\n",
    "plt.ylabel('Absolute Error')"
   ]
  },
  {
   "cell_type": "markdown",
   "metadata": {},
   "source": [
    "MSE:"
   ]
  },
  {
   "cell_type": "code",
   "execution_count": 242,
   "metadata": {
    "scrolled": true
   },
   "outputs": [
    {
     "data": {
      "text/plain": [
       "3294336428333849.0"
      ]
     },
     "execution_count": 242,
     "metadata": {},
     "output_type": "execute_result"
    }
   ],
   "source": [
    "np.mean((test_y - np.array(pred_vector).reshape(len(pred_vector),))**2)"
   ]
  },
  {
   "cell_type": "code",
   "execution_count": 243,
   "metadata": {},
   "outputs": [
    {
     "data": {
      "text/plain": [
       "Text(0, 0.5, 'Mean Squared Error')"
      ]
     },
     "execution_count": 243,
     "metadata": {},
     "output_type": "execute_result"
    },
    {
     "data": {
      "image/png": "[encoded data removed]",
      "text/plain": [
       "<Figure size 432x288 with 1 Axes>"
      ]
     },
     "metadata": {
      "needs_background": "light"
     },
     "output_type": "display_data"
    }
   ],
   "source": [
    "plt.scatter(test_y,(test_y - np.array(pred_vector).reshape(len(pred_vector),))**2)\n",
    "plt.title('Mean Squared Error vs. True Market Value')\n",
    "plt.xlabel('True Market Value')\n",
    "plt.ylabel('Mean Squared Error')"
   ]
  },
  {
   "cell_type": "code",
   "execution_count": 244,
   "metadata": {
    "scrolled": true
   },
   "outputs": [
    {
     "name": "stdout",
     "output_type": "stream",
     "text": [
      "3 abs: 7392141.317227557 mse: 332158775818723.75\n",
      "4 abs: 63639898.66069818 mse: 1.6971017805592512e+16\n",
      "5 abs: 142734558.03126982 mse: 9.391267341488838e+16\n",
      "6 abs: 2659125.8299378236 mse: 30407409854320.883\n"
     ]
    }
   ],
   "source": [
    "for f in range(3,7):\n",
    "    train_pca = train_x@V[0:f].T\n",
    "    validate_pca = validate_x@V[0:f].T\n",
    "\n",
    "    model = LinearRegression()\n",
    "    model.fit(train_pca,train_log_y)\n",
    "    pred = model.coef_.reshape(f,1)\n",
    "\n",
    "    pred_vector = validate_pca@pred\n",
    "    print(f, 'abs:', np.mean(np.abs(validate_y - np.exp(np.array(pred_vector).reshape(len(pred_vector),)))),\n",
    "          'mse:', np.mean((validate_y - np.exp(np.array(pred_vector).reshape(len(pred_vector),)))**2))"
   ]
  },
  {
   "cell_type": "markdown",
   "metadata": {},
   "source": [
    "We choose k = 6"
   ]
  },
  {
   "cell_type": "code",
   "execution_count": 245,
   "metadata": {
    "scrolled": true
   },
   "outputs": [
    {
     "data": {
      "text/plain": [
       "Text(0.5, 1.0, 'Log-Market Value Goalkeepers Predicted vs. True')"
      ]
     },
     "execution_count": 245,
     "metadata": {},
     "output_type": "execute_result"
    },
    {
     "data": {
      "image/png": "[encoded data removed]",
      "text/plain": [
       "<Figure size 432x288 with 1 Axes>"
      ]
     },
     "metadata": {
      "needs_background": "light"
     },
     "output_type": "display_data"
    }
   ],
   "source": [
    "f = 6\n",
    "train_pca = train_x@V[0:f].T\n",
    "test_pca = test_x@V[0:f].T\n",
    "\n",
    "model = LinearRegression()\n",
    "model.fit(train_pca,train_log_y)\n",
    "pred = model.coef_.reshape(f,1)\n",
    "\n",
    "pred_vector = test_pca@pred\n",
    "plt.scatter(pred_vector,test_log_y)\n",
    "plt.xlabel('Predicted')\n",
    "plt.ylabel('True')\n",
    "plt.title('Log-Market Value Goalkeepers Predicted vs. True')"
   ]
  },
  {
   "cell_type": "code",
   "execution_count": 246,
   "metadata": {
    "scrolled": true
   },
   "outputs": [
    {
     "data": {
      "text/plain": [
       "Text(0, 0.5, 'True Market Value')"
      ]
     },
     "execution_count": 246,
     "metadata": {},
     "output_type": "execute_result"
    },
    {
     "data": {
      "image/png": "[encoded data removed]",
      "text/plain": [
       "<Figure size 432x288 with 1 Axes>"
      ]
     },
     "metadata": {
      "needs_background": "light"
     },
     "output_type": "display_data"
    }
   ],
   "source": [
    "plt.xlim([np.min(np.array([np.min(pred_vector)[0],np.min(test_y)])),np.max(np.array([np.max(test_y),np.max(pred_vector)[0]]))])\n",
    "plt.scatter(np.exp(pred_vector),test_y)\n",
    "plt.scatter(test_y,test_y)\n",
    "plt.title('              Goalkeepers Predicted vs. True Market Value (Log-Model)')\n",
    "plt.xlabel('Predicted Market Value')\n",
    "plt.ylabel('True Market Value')"
   ]
  },
  {
   "cell_type": "markdown",
   "metadata": {},
   "source": [
    "Absolute Error:"
   ]
  },
  {
   "cell_type": "code",
   "execution_count": 247,
   "metadata": {},
   "outputs": [
    {
     "data": {
      "text/plain": [
       "2753873.059230239"
      ]
     },
     "execution_count": 247,
     "metadata": {},
     "output_type": "execute_result"
    }
   ],
   "source": [
    "np.mean(np.abs(test_y - np.exp(np.array(pred_vector).reshape(len(pred_vector),))))"
   ]
  },
  {
   "cell_type": "code",
   "execution_count": 248,
   "metadata": {},
   "outputs": [
    {
     "data": {
      "text/plain": [
       "Text(0.5, 0, 'True Market Value')"
      ]
     },
     "execution_count": 248,
     "metadata": {},
     "output_type": "execute_result"
    },
    {
     "data": {
      "image/png": "[encoded data removed]",
      "text/plain": [
       "<Figure size 432x288 with 1 Axes>"
      ]
     },
     "metadata": {
      "needs_background": "light"
     },
     "output_type": "display_data"
    }
   ],
   "source": [
    "plt.scatter(test_y,(np.abs(test_y - np.exp(np.array(pred_vector).reshape(len(pred_vector),)))))\n",
    "plt.title('Absolute Error vs. True Market Value')\n",
    "plt.ylabel('Absolute Error')\n",
    "plt.xlabel('True Market Value')"
   ]
  },
  {
   "cell_type": "markdown",
   "metadata": {},
   "source": [
    "MSE:"
   ]
  },
  {
   "cell_type": "code",
   "execution_count": 249,
   "metadata": {
    "scrolled": true
   },
   "outputs": [
    {
     "data": {
      "text/plain": [
       "42483258477726.35"
      ]
     },
     "execution_count": 249,
     "metadata": {},
     "output_type": "execute_result"
    }
   ],
   "source": [
    "np.mean((test_y - np.exp(np.array(pred_vector).reshape(len(pred_vector),)))**2)"
   ]
  },
  {
   "cell_type": "code",
   "execution_count": 250,
   "metadata": {},
   "outputs": [
    {
     "data": {
      "text/plain": [
       "Text(0, 0.5, 'Mean Squared Error')"
      ]
     },
     "execution_count": 250,
     "metadata": {},
     "output_type": "execute_result"
    },
    {
     "data": {
      "image/png": "[encoded data removed]",
      "text/plain": [
       "<Figure size 432x288 with 1 Axes>"
      ]
     },
     "metadata": {
      "needs_background": "light"
     },
     "output_type": "display_data"
    }
   ],
   "source": [
    "plt.scatter(test_y,((test_y - np.exp(np.array(pred_vector).reshape(len(pred_vector),)))**2))\n",
    "plt.title('Mean Squared Error vs. True Market Value')\n",
    "plt.xlabel('True Market Value')\n",
    "plt.ylabel('Mean Squared Error')"
   ]
  },
  {
   "cell_type": "markdown",
   "metadata": {},
   "source": [
    "# Method #2: Bagging Decision Trees"
   ]
  },
  {
   "cell_type": "markdown",
   "metadata": {},
   "source": [
    "### Non-Goalkeeper:"
   ]
  },
  {
   "cell_type": "code",
   "execution_count": 612,
   "metadata": {
    "scrolled": true
   },
   "outputs": [],
   "source": [
    "# Below is the set of columns we care about\n",
    "\n",
    "features = ['age'\n",
    "            ,'height_cm'\n",
    "           ,'weight_kg'\n",
    "           ,'overall'\n",
    "           ,'potential'\n",
    "           ,'pace'\n",
    "           ,'shooting'\n",
    "           ,'passing'\n",
    "           ,'defending'\n",
    "           ,'dribbling'\n",
    "           ,'physic']\n",
    "\n",
    "filtered_data = []\n",
    "ys = []\n",
    "for d in ndata_list2:\n",
    "    filtered_data.append(d[features].fillna(0))\n",
    "    ys.append(d['value_eur_next'].fillna(0))"
   ]
  },
  {
   "cell_type": "code",
   "execution_count": 613,
   "metadata": {
    "scrolled": true
   },
   "outputs": [
    {
     "data": {
      "image/png": "[encoded data removed]",
      "text/plain": [
       "<Figure size 432x288 with 1 Axes>"
      ]
     },
     "metadata": {
      "needs_background": "light"
     },
     "output_type": "display_data"
    }
   ],
   "source": [
    "for i in np.unique(ys[0]):\n",
    "    plt.scatter(i,np.sum(ys[0]==i),s=1,color='b')"
   ]
  },
  {
   "cell_type": "code",
   "execution_count": 614,
   "metadata": {
    "scrolled": true
   },
   "outputs": [
    {
     "data": {
      "text/plain": [
       "(array([3662., 4512., 2590.]),\n",
       " array([        0,    600000,   2500000, 150000000]),\n",
       " <a list of 3 Patch objects>)"
      ]
     },
     "execution_count": 614,
     "metadata": {},
     "output_type": "execute_result"
    },
    {
     "data": {
      "image/png": "[encoded data removed]",
      "text/plain": [
       "<Figure size 432x288 with 1 Axes>"
      ]
     },
     "metadata": {
      "needs_background": "light"
     },
     "output_type": "display_data"
    }
   ],
   "source": [
    "plt.hist(ys[1],bins=[0,600000,2500000,150000000])"
   ]
  },
  {
   "cell_type": "code",
   "execution_count": 615,
   "metadata": {
    "scrolled": true
   },
   "outputs": [
    {
     "data": {
      "text/plain": [
       "(array([2991., 3512., 2937., 1324.]),\n",
       " array([        0,    500000,   1250000,   5000000, 150000000]),\n",
       " <a list of 4 Patch objects>)"
      ]
     },
     "execution_count": 615,
     "metadata": {},
     "output_type": "execute_result"
    },
    {
     "data": {
      "image/png": "[encoded data removed]",
      "text/plain": [
       "<Figure size 432x288 with 1 Axes>"
      ]
     },
     "metadata": {
      "needs_background": "light"
     },
     "output_type": "display_data"
    }
   ],
   "source": [
    "plt.hist(ys[1],bins=[0,500000,1250000,5000000,150000000])"
   ]
  },
  {
   "cell_type": "code",
   "execution_count": 616,
   "metadata": {
    "scrolled": true
   },
   "outputs": [
    {
     "data": {
      "text/plain": [
       "(array([2317., 3007., 2850., 1991.,  599.]),\n",
       " array([        0,    400000,    900000,   2500000,  10000000, 150000000]),\n",
       " <a list of 5 Patch objects>)"
      ]
     },
     "execution_count": 616,
     "metadata": {},
     "output_type": "execute_result"
    },
    {
     "data": {
      "image/png": "[encoded data removed]",
      "text/plain": [
       "<Figure size 432x288 with 1 Axes>"
      ]
     },
     "metadata": {
      "needs_background": "light"
     },
     "output_type": "display_data"
    }
   ],
   "source": [
    "plt.hist(ys[1],bins=[0,400000,900000,2500000,10000000,150000000])"
   ]
  },
  {
   "cell_type": "code",
   "execution_count": 617,
   "metadata": {
    "scrolled": true
   },
   "outputs": [
    {
     "data": {
      "text/plain": [
       "(array([1654., 2619., 2230., 2059., 1414.,  788.]),\n",
       " array([        0,    300000,    700000,   1250000,   3000000,   8000000,\n",
       "        150000000]),\n",
       " <a list of 6 Patch objects>)"
      ]
     },
     "execution_count": 617,
     "metadata": {},
     "output_type": "execute_result"
    },
    {
     "data": {
      "image/png": "[encoded data removed]",
      "text/plain": [
       "<Figure size 432x288 with 1 Axes>"
      ]
     },
     "metadata": {
      "needs_background": "light"
     },
     "output_type": "display_data"
    }
   ],
   "source": [
    "plt.hist(ys[1],bins=[0,300000,700000,1250000,3000000,8000000,150000000])"
   ]
  },
  {
   "cell_type": "code",
   "execution_count": 618,
   "metadata": {
    "scrolled": true
   },
   "outputs": [
    {
     "data": {
      "text/plain": [
       "(array([1320., 2342., 2049., 1953., 1450., 1051.,  599.]),\n",
       " array([        0,    250000,    600000,   1000000,   2000000,   4000000,\n",
       "         10000000, 150000000]),\n",
       " <a list of 7 Patch objects>)"
      ]
     },
     "execution_count": 618,
     "metadata": {},
     "output_type": "execute_result"
    },
    {
     "data": {
      "image/png": "[encoded data removed]",
      "text/plain": [
       "<Figure size 432x288 with 1 Axes>"
      ]
     },
     "metadata": {
      "needs_background": "light"
     },
     "output_type": "display_data"
    }
   ],
   "source": [
    "plt.hist(ys[1],bins=[0,250000,600000,1000000,2000000,4000000,10000000,150000000])"
   ]
  },
  {
   "cell_type": "code",
   "execution_count": 619,
   "metadata": {
    "scrolled": true
   },
   "outputs": [
    {
     "data": {
      "text/plain": [
       "(array([ 924., 2067., 1834., 1678., 1500., 1282.,  880.,  599.]),\n",
       " array([        0,    200000,    500000,    800000,   1250000,   2250000,\n",
       "          4500000,  10000000, 150000000]),\n",
       " <a list of 8 Patch objects>)"
      ]
     },
     "execution_count": 619,
     "metadata": {},
     "output_type": "execute_result"
    },
    {
     "data": {
      "image/png": "[encoded data removed]",
      "text/plain": [
       "<Figure size 432x288 with 1 Axes>"
      ]
     },
     "metadata": {
      "needs_background": "light"
     },
     "output_type": "display_data"
    }
   ],
   "source": [
    "plt.hist(ys[1],bins=[0,200000,500000,800000,1250000,2250000,4500000,10000000,150000000])"
   ]
  },
  {
   "cell_type": "code",
   "execution_count": 620,
   "metadata": {
    "scrolled": true
   },
   "outputs": [
    {
     "data": {
      "text/html": [
       "<div>\n",
       "<style scoped>\n",
       "    .dataframe tbody tr th:only-of-type {\n",
       "        vertical-align: middle;\n",
       "    }\n",
       "\n",
       "    .dataframe tbody tr th {\n",
       "        vertical-align: top;\n",
       "    }\n",
       "\n",
       "    .dataframe thead th {\n",
       "        text-align: right;\n",
       "    }\n",
       "</style>\n",
       "<table border=\"1\" class=\"dataframe\">\n",
       "  <thead>\n",
       "    <tr style=\"text-align: right;\">\n",
       "      <th></th>\n",
       "      <th>age</th>\n",
       "      <th>height_cm</th>\n",
       "      <th>weight_kg</th>\n",
       "      <th>overall</th>\n",
       "      <th>potential</th>\n",
       "      <th>pace</th>\n",
       "      <th>shooting</th>\n",
       "      <th>passing</th>\n",
       "      <th>defending</th>\n",
       "      <th>dribbling</th>\n",
       "      <th>physic</th>\n",
       "      <th>year</th>\n",
       "      <th>league_ranking</th>\n",
       "    </tr>\n",
       "    <tr>\n",
       "      <th>sofifa_id</th>\n",
       "      <th></th>\n",
       "      <th></th>\n",
       "      <th></th>\n",
       "      <th></th>\n",
       "      <th></th>\n",
       "      <th></th>\n",
       "      <th></th>\n",
       "      <th></th>\n",
       "      <th></th>\n",
       "      <th></th>\n",
       "      <th></th>\n",
       "      <th></th>\n",
       "      <th></th>\n",
       "    </tr>\n",
       "  </thead>\n",
       "  <tbody>\n",
       "    <tr>\n",
       "      <th>158023</th>\n",
       "      <td>27.0</td>\n",
       "      <td>169.0</td>\n",
       "      <td>67.0</td>\n",
       "      <td>93.0</td>\n",
       "      <td>95.0</td>\n",
       "      <td>93.0</td>\n",
       "      <td>89.0</td>\n",
       "      <td>86.0</td>\n",
       "      <td>27.0</td>\n",
       "      <td>96.0</td>\n",
       "      <td>63.0</td>\n",
       "      <td>0.0</td>\n",
       "      <td>1</td>\n",
       "    </tr>\n",
       "    <tr>\n",
       "      <th>20801</th>\n",
       "      <td>29.0</td>\n",
       "      <td>185.0</td>\n",
       "      <td>80.0</td>\n",
       "      <td>92.0</td>\n",
       "      <td>92.0</td>\n",
       "      <td>93.0</td>\n",
       "      <td>93.0</td>\n",
       "      <td>81.0</td>\n",
       "      <td>32.0</td>\n",
       "      <td>91.0</td>\n",
       "      <td>79.0</td>\n",
       "      <td>0.0</td>\n",
       "      <td>1</td>\n",
       "    </tr>\n",
       "    <tr>\n",
       "      <th>9014</th>\n",
       "      <td>30.0</td>\n",
       "      <td>180.0</td>\n",
       "      <td>80.0</td>\n",
       "      <td>90.0</td>\n",
       "      <td>90.0</td>\n",
       "      <td>93.0</td>\n",
       "      <td>86.0</td>\n",
       "      <td>83.0</td>\n",
       "      <td>32.0</td>\n",
       "      <td>92.0</td>\n",
       "      <td>64.0</td>\n",
       "      <td>0.0</td>\n",
       "      <td>1</td>\n",
       "    </tr>\n",
       "    <tr>\n",
       "      <th>41236</th>\n",
       "      <td>32.0</td>\n",
       "      <td>195.0</td>\n",
       "      <td>95.0</td>\n",
       "      <td>90.0</td>\n",
       "      <td>90.0</td>\n",
       "      <td>76.0</td>\n",
       "      <td>91.0</td>\n",
       "      <td>81.0</td>\n",
       "      <td>34.0</td>\n",
       "      <td>86.0</td>\n",
       "      <td>86.0</td>\n",
       "      <td>0.0</td>\n",
       "      <td>1</td>\n",
       "    </tr>\n",
       "    <tr>\n",
       "      <th>176580</th>\n",
       "      <td>27.0</td>\n",
       "      <td>181.0</td>\n",
       "      <td>81.0</td>\n",
       "      <td>89.0</td>\n",
       "      <td>91.0</td>\n",
       "      <td>83.0</td>\n",
       "      <td>87.0</td>\n",
       "      <td>79.0</td>\n",
       "      <td>42.0</td>\n",
       "      <td>88.0</td>\n",
       "      <td>79.0</td>\n",
       "      <td>0.0</td>\n",
       "      <td>1</td>\n",
       "    </tr>\n",
       "    <tr>\n",
       "      <th>...</th>\n",
       "      <td>...</td>\n",
       "      <td>...</td>\n",
       "      <td>...</td>\n",
       "      <td>...</td>\n",
       "      <td>...</td>\n",
       "      <td>...</td>\n",
       "      <td>...</td>\n",
       "      <td>...</td>\n",
       "      <td>...</td>\n",
       "      <td>...</td>\n",
       "      <td>...</td>\n",
       "      <td>...</td>\n",
       "      <td>...</td>\n",
       "    </tr>\n",
       "    <tr>\n",
       "      <th>222997</th>\n",
       "      <td>18.0</td>\n",
       "      <td>174.0</td>\n",
       "      <td>70.0</td>\n",
       "      <td>42.0</td>\n",
       "      <td>54.0</td>\n",
       "      <td>46.0</td>\n",
       "      <td>32.0</td>\n",
       "      <td>42.0</td>\n",
       "      <td>32.0</td>\n",
       "      <td>45.0</td>\n",
       "      <td>47.0</td>\n",
       "      <td>0.0</td>\n",
       "      <td>2</td>\n",
       "    </tr>\n",
       "    <tr>\n",
       "      <th>220806</th>\n",
       "      <td>17.0</td>\n",
       "      <td>187.0</td>\n",
       "      <td>81.0</td>\n",
       "      <td>41.0</td>\n",
       "      <td>61.0</td>\n",
       "      <td>66.0</td>\n",
       "      <td>25.0</td>\n",
       "      <td>29.0</td>\n",
       "      <td>39.0</td>\n",
       "      <td>30.0</td>\n",
       "      <td>53.0</td>\n",
       "      <td>0.0</td>\n",
       "      <td>4</td>\n",
       "    </tr>\n",
       "    <tr>\n",
       "      <th>225509</th>\n",
       "      <td>17.0</td>\n",
       "      <td>178.0</td>\n",
       "      <td>57.0</td>\n",
       "      <td>41.0</td>\n",
       "      <td>50.0</td>\n",
       "      <td>64.0</td>\n",
       "      <td>41.0</td>\n",
       "      <td>27.0</td>\n",
       "      <td>27.0</td>\n",
       "      <td>35.0</td>\n",
       "      <td>41.0</td>\n",
       "      <td>0.0</td>\n",
       "      <td>4</td>\n",
       "    </tr>\n",
       "    <tr>\n",
       "      <th>217591</th>\n",
       "      <td>18.0</td>\n",
       "      <td>190.0</td>\n",
       "      <td>76.0</td>\n",
       "      <td>40.0</td>\n",
       "      <td>50.0</td>\n",
       "      <td>58.0</td>\n",
       "      <td>27.0</td>\n",
       "      <td>35.0</td>\n",
       "      <td>52.0</td>\n",
       "      <td>31.0</td>\n",
       "      <td>68.0</td>\n",
       "      <td>0.0</td>\n",
       "      <td>3</td>\n",
       "    </tr>\n",
       "    <tr>\n",
       "      <th>222947</th>\n",
       "      <td>22.0</td>\n",
       "      <td>180.0</td>\n",
       "      <td>70.0</td>\n",
       "      <td>40.0</td>\n",
       "      <td>49.0</td>\n",
       "      <td>72.0</td>\n",
       "      <td>27.0</td>\n",
       "      <td>27.0</td>\n",
       "      <td>35.0</td>\n",
       "      <td>30.0</td>\n",
       "      <td>61.0</td>\n",
       "      <td>0.0</td>\n",
       "      <td>4</td>\n",
       "    </tr>\n",
       "  </tbody>\n",
       "</table>\n",
       "<p>10607 rows × 13 columns</p>\n",
       "</div>"
      ],
      "text/plain": [
       "            age  height_cm  weight_kg  overall  potential  pace  shooting  \\\n",
       "sofifa_id                                                                   \n",
       "158023     27.0      169.0       67.0     93.0       95.0  93.0      89.0   \n",
       "20801      29.0      185.0       80.0     92.0       92.0  93.0      93.0   \n",
       "9014       30.0      180.0       80.0     90.0       90.0  93.0      86.0   \n",
       "41236      32.0      195.0       95.0     90.0       90.0  76.0      91.0   \n",
       "176580     27.0      181.0       81.0     89.0       91.0  83.0      87.0   \n",
       "...         ...        ...        ...      ...        ...   ...       ...   \n",
       "222997     18.0      174.0       70.0     42.0       54.0  46.0      32.0   \n",
       "220806     17.0      187.0       81.0     41.0       61.0  66.0      25.0   \n",
       "225509     17.0      178.0       57.0     41.0       50.0  64.0      41.0   \n",
       "217591     18.0      190.0       76.0     40.0       50.0  58.0      27.0   \n",
       "222947     22.0      180.0       70.0     40.0       49.0  72.0      27.0   \n",
       "\n",
       "           passing  defending  dribbling  physic  year  league_ranking  \n",
       "sofifa_id                                                               \n",
       "158023        86.0       27.0       96.0    63.0   0.0               1  \n",
       "20801         81.0       32.0       91.0    79.0   0.0               1  \n",
       "9014          83.0       32.0       92.0    64.0   0.0               1  \n",
       "41236         81.0       34.0       86.0    86.0   0.0               1  \n",
       "176580        79.0       42.0       88.0    79.0   0.0               1  \n",
       "...            ...        ...        ...     ...   ...             ...  \n",
       "222997        42.0       32.0       45.0    47.0   0.0               2  \n",
       "220806        29.0       39.0       30.0    53.0   0.0               4  \n",
       "225509        27.0       27.0       35.0    41.0   0.0               4  \n",
       "217591        35.0       52.0       31.0    68.0   0.0               3  \n",
       "222947        27.0       35.0       30.0    61.0   0.0               4  \n",
       "\n",
       "[10607 rows x 13 columns]"
      ]
     },
     "execution_count": 620,
     "metadata": {},
     "output_type": "execute_result"
    }
   ],
   "source": [
    "# Below is the set of columns we care about\n",
    "\n",
    "features = ['age'\n",
    "            ,'height_cm'\n",
    "           ,'weight_kg'\n",
    "           ,'overall'\n",
    "           ,'potential'\n",
    "           ,'pace'\n",
    "           ,'shooting'\n",
    "           ,'passing'\n",
    "           ,'defending'\n",
    "           ,'dribbling'\n",
    "           ,'physic'\n",
    "           ,'year'\n",
    "           ,'league_ranking']\n",
    "\n",
    "filtered_data = []\n",
    "ys = []\n",
    "for d in ndata_list2:\n",
    "    filtered_data.append(d[features].fillna(0))\n",
    "    ys.append(d['value_eur_next'].fillna(0))\n",
    "filtered_data[0]"
   ]
  },
  {
   "cell_type": "code",
   "execution_count": 621,
   "metadata": {
    "scrolled": true
   },
   "outputs": [],
   "source": [
    "num_bins = range(3,9)\n",
    "bins_try= [[0,600000,2500000,150000000],[0,500000,1250000,5000000,150000000],[0,400000,900000,2500000,10000000,150000000],\n",
    "           [0,300000,700000,1250000,3000000,8000000,150000000],[0,250000,600000,1000000,2000000,4000000,10000000,150000000],\n",
    "          [0,200000,500000,800000,1250000,2250000,4500000,10000000,150000000]]"
   ]
  },
  {
   "cell_type": "code",
   "execution_count": 622,
   "metadata": {
    "scrolled": true
   },
   "outputs": [],
   "source": [
    "import copy\n",
    "ys_bins1 = copy.deepcopy(ys) #3\n",
    "ys_bins2 = copy.deepcopy(ys) #4\n",
    "ys_bins3 = copy.deepcopy(ys) #5\n",
    "ys_bins4 = copy.deepcopy(ys) #6\n",
    "ys_bins5 = copy.deepcopy(ys) #7\n",
    "ys_bins6 = copy.deepcopy(ys) #8\n",
    "ys_bins = [ys_bins1,ys_bins2,ys_bins3,ys_bins4,ys_bins5,ys_bins6]\n",
    "for h in range(len(ys_bins)):\n",
    "    for i in range(len(ys_bins[h])):\n",
    "        for j in ys_bins[h][i].index:\n",
    "            for k, l in enumerate(bins_try[h]):\n",
    "                if l >= ys_bins[h][i][j]:\n",
    "                    ys_bins[h][i][j] = k\n",
    "                    break"
   ]
  },
  {
   "cell_type": "code",
   "execution_count": 623,
   "metadata": {
    "scrolled": true
   },
   "outputs": [],
   "source": [
    "n = len(filtered_data[0])\n",
    "t1 = int(0.65*n)\n",
    "t2 = int(0.8*n)\n",
    "index_shuffle = np.array(filtered_data[0].index)\n",
    "np.random.shuffle(index_shuffle)\n",
    "\n",
    "train_x = filtered_data[0].loc[index_shuffle[0:t1]]\n",
    "validate_x = filtered_data[0].loc[index_shuffle[t1:t2]]\n",
    "test_x = filtered_data[0].loc[index_shuffle[t2:n]]\n",
    "\n",
    "train_y = ys_bins[0][0].loc[index_shuffle[0:t1]]\n",
    "validate_y = ys_bins[0][0].loc[index_shuffle[t1:t2]]\n",
    "test_y = ys_bins[0][0].loc[index_shuffle[t2:n]]"
   ]
  },
  {
   "cell_type": "code",
   "execution_count": 624,
   "metadata": {
    "scrolled": true
   },
   "outputs": [],
   "source": [
    "train_y = [[],[],[],[],[],[]]\n",
    "validate_y = [[],[],[],[],[],[]]\n",
    "test_y = [[],[],[],[],[],[]]\n",
    "for i in range(len(filtered_data)):\n",
    "    n = len(filtered_data[i])\n",
    "    t1 = int(0.65*n)\n",
    "    t2 = int(0.8*n)\n",
    "    index_shuffle = np.array(filtered_data[i].index)\n",
    "    np.random.shuffle(index_shuffle)\n",
    "\n",
    "    train_x_i = filtered_data[i].loc[index_shuffle[0:t1]]\n",
    "    validate_x_i = filtered_data[i].loc[index_shuffle[t1:t2]]\n",
    "    test_x_i = filtered_data[i].loc[index_shuffle[t2:n]]\n",
    "    if i == 0:\n",
    "        train_x = train_x_i\n",
    "        validate_x = validate_x_i\n",
    "        test_x = test_x_i\n",
    "    else:\n",
    "        train_x = train_x.append(train_x_i)\n",
    "        validate_x = validate_x.append(validate_x_i)\n",
    "        test_x = test_x.append(test_x_i)\n",
    "    for j in range(len(ys_bins)):\n",
    "        train_y_i = ys_bins[j][i].loc[index_shuffle[0:t1]]\n",
    "        validate_y_i = ys_bins[j][i].loc[index_shuffle[t1:t2]]\n",
    "        test_y_i = ys_bins[j][i].loc[index_shuffle[t2:n]]\n",
    "        if i == 0:\n",
    "            train_y[j] = train_y_i\n",
    "            validate_y[j] = validate_y_i\n",
    "            test_y[j] = test_y_i\n",
    "        else:\n",
    "            train_y[j] = train_y[j].append(train_y_i)\n",
    "            validate_y[j] = validate_y[j].append(validate_y_i)\n",
    "            test_y[j] = test_y[j].append(test_y_i)"
   ]
  },
  {
   "cell_type": "code",
   "execution_count": 625,
   "metadata": {
    "scrolled": true
   },
   "outputs": [
    {
     "data": {
      "text/html": [
       "<div>\n",
       "<style scoped>\n",
       "    .dataframe tbody tr th:only-of-type {\n",
       "        vertical-align: middle;\n",
       "    }\n",
       "\n",
       "    .dataframe tbody tr th {\n",
       "        vertical-align: top;\n",
       "    }\n",
       "\n",
       "    .dataframe thead th {\n",
       "        text-align: right;\n",
       "    }\n",
       "</style>\n",
       "<table border=\"1\" class=\"dataframe\">\n",
       "  <thead>\n",
       "    <tr style=\"text-align: right;\">\n",
       "      <th></th>\n",
       "      <th>3</th>\n",
       "      <th>4</th>\n",
       "      <th>5</th>\n",
       "      <th>6</th>\n",
       "      <th>7</th>\n",
       "      <th>8</th>\n",
       "      <th>9</th>\n",
       "      <th>10</th>\n",
       "      <th>11</th>\n",
       "      <th>12</th>\n",
       "      <th>13</th>\n",
       "      <th>14</th>\n",
       "      <th>15</th>\n",
       "    </tr>\n",
       "  </thead>\n",
       "  <tbody>\n",
       "    <tr>\n",
       "      <th>3</th>\n",
       "      <td>0.738418</td>\n",
       "      <td>0.765609</td>\n",
       "      <td>0.785031</td>\n",
       "      <td>0.788820</td>\n",
       "      <td>0.793273</td>\n",
       "      <td>0.787210</td>\n",
       "      <td>0.788157</td>\n",
       "      <td>0.785505</td>\n",
       "      <td>0.778399</td>\n",
       "      <td>0.775936</td>\n",
       "      <td>0.766082</td>\n",
       "      <td>0.760682</td>\n",
       "      <td>0.749218</td>\n",
       "    </tr>\n",
       "    <tr>\n",
       "      <th>4</th>\n",
       "      <td>0.679962</td>\n",
       "      <td>0.701184</td>\n",
       "      <td>0.714922</td>\n",
       "      <td>0.724586</td>\n",
       "      <td>0.728186</td>\n",
       "      <td>0.729133</td>\n",
       "      <td>0.732070</td>\n",
       "      <td>0.722596</td>\n",
       "      <td>0.722027</td>\n",
       "      <td>0.714353</td>\n",
       "      <td>0.707816</td>\n",
       "      <td>0.693794</td>\n",
       "      <td>0.688678</td>\n",
       "    </tr>\n",
       "    <tr>\n",
       "      <th>5</th>\n",
       "      <td>0.589578</td>\n",
       "      <td>0.647087</td>\n",
       "      <td>0.661677</td>\n",
       "      <td>0.675793</td>\n",
       "      <td>0.682331</td>\n",
       "      <td>0.681478</td>\n",
       "      <td>0.683089</td>\n",
       "      <td>0.676457</td>\n",
       "      <td>0.668309</td>\n",
       "      <td>0.667456</td>\n",
       "      <td>0.656750</td>\n",
       "      <td>0.643297</td>\n",
       "      <td>0.638939</td>\n",
       "    </tr>\n",
       "    <tr>\n",
       "      <th>6</th>\n",
       "      <td>0.520701</td>\n",
       "      <td>0.565135</td>\n",
       "      <td>0.583515</td>\n",
       "      <td>0.602653</td>\n",
       "      <td>0.602842</td>\n",
       "      <td>0.605969</td>\n",
       "      <td>0.608906</td>\n",
       "      <td>0.611085</td>\n",
       "      <td>0.603695</td>\n",
       "      <td>0.596968</td>\n",
       "      <td>0.585220</td>\n",
       "      <td>0.572904</td>\n",
       "      <td>0.563903</td>\n",
       "    </tr>\n",
       "    <tr>\n",
       "      <th>7</th>\n",
       "      <td>0.478825</td>\n",
       "      <td>0.531786</td>\n",
       "      <td>0.552440</td>\n",
       "      <td>0.562577</td>\n",
       "      <td>0.562482</td>\n",
       "      <td>0.574135</td>\n",
       "      <td>0.576504</td>\n",
       "      <td>0.578209</td>\n",
       "      <td>0.568735</td>\n",
       "      <td>0.562009</td>\n",
       "      <td>0.550734</td>\n",
       "      <td>0.541165</td>\n",
       "      <td>0.536618</td>\n",
       "    </tr>\n",
       "    <tr>\n",
       "      <th>8</th>\n",
       "      <td>0.420748</td>\n",
       "      <td>0.474372</td>\n",
       "      <td>0.500332</td>\n",
       "      <td>0.515964</td>\n",
       "      <td>0.528659</td>\n",
       "      <td>0.537470</td>\n",
       "      <td>0.532639</td>\n",
       "      <td>0.532449</td>\n",
       "      <td>0.528091</td>\n",
       "      <td>0.521364</td>\n",
       "      <td>0.516722</td>\n",
       "      <td>0.501563</td>\n",
       "      <td>0.491994</td>\n",
       "    </tr>\n",
       "  </tbody>\n",
       "</table>\n",
       "</div>"
      ],
      "text/plain": [
       "         3         4         5         6         7         8         9   \\\n",
       "3  0.738418  0.765609  0.785031  0.788820  0.793273  0.787210  0.788157   \n",
       "4  0.679962  0.701184  0.714922  0.724586  0.728186  0.729133  0.732070   \n",
       "5  0.589578  0.647087  0.661677  0.675793  0.682331  0.681478  0.683089   \n",
       "6  0.520701  0.565135  0.583515  0.602653  0.602842  0.605969  0.608906   \n",
       "7  0.478825  0.531786  0.552440  0.562577  0.562482  0.574135  0.576504   \n",
       "8  0.420748  0.474372  0.500332  0.515964  0.528659  0.537470  0.532639   \n",
       "\n",
       "         10        11        12        13        14        15  \n",
       "3  0.785505  0.778399  0.775936  0.766082  0.760682  0.749218  \n",
       "4  0.722596  0.722027  0.714353  0.707816  0.693794  0.688678  \n",
       "5  0.676457  0.668309  0.667456  0.656750  0.643297  0.638939  \n",
       "6  0.611085  0.603695  0.596968  0.585220  0.572904  0.563903  \n",
       "7  0.578209  0.568735  0.562009  0.550734  0.541165  0.536618  \n",
       "8  0.532449  0.528091  0.521364  0.516722  0.501563  0.491994  "
      ]
     },
     "execution_count": 625,
     "metadata": {},
     "output_type": "execute_result"
    }
   ],
   "source": [
    "from sklearn.tree import DecisionTreeClassifier\n",
    "from sklearn import tree\n",
    "\n",
    "tree_depth = range(3,16)\n",
    "correct = [[],[],[],[],[],[]]\n",
    "for h in range(len(ys_bins)):\n",
    "    for i in tree_depth:\n",
    "        decision_tree = DecisionTreeClassifier(max_depth = i, random_state = 314).fit(train_x,train_y[h])\n",
    "        correct[h].append(np.sum(decision_tree.predict(validate_x)==validate_y[h])/len(validate_y[h]))\n",
    "pd.DataFrame(data=np.array(correct), columns = np.array(tree_depth),index =num_bins)"
   ]
  },
  {
   "cell_type": "code",
   "execution_count": 626,
   "metadata": {
    "scrolled": true
   },
   "outputs": [
    {
     "data": {
      "text/html": [
       "<div>\n",
       "<style scoped>\n",
       "    .dataframe tbody tr th:only-of-type {\n",
       "        vertical-align: middle;\n",
       "    }\n",
       "\n",
       "    .dataframe tbody tr th {\n",
       "        vertical-align: top;\n",
       "    }\n",
       "\n",
       "    .dataframe thead th {\n",
       "        text-align: right;\n",
       "    }\n",
       "</style>\n",
       "<table border=\"1\" class=\"dataframe\">\n",
       "  <thead>\n",
       "    <tr style=\"text-align: right;\">\n",
       "      <th></th>\n",
       "      <th>3</th>\n",
       "      <th>4</th>\n",
       "      <th>5</th>\n",
       "      <th>6</th>\n",
       "      <th>7</th>\n",
       "      <th>8</th>\n",
       "      <th>9</th>\n",
       "      <th>10</th>\n",
       "      <th>11</th>\n",
       "      <th>12</th>\n",
       "      <th>13</th>\n",
       "      <th>14</th>\n",
       "      <th>15</th>\n",
       "    </tr>\n",
       "  </thead>\n",
       "  <tbody>\n",
       "    <tr>\n",
       "      <th>3</th>\n",
       "      <td>0.776599</td>\n",
       "      <td>0.775272</td>\n",
       "      <td>0.775367</td>\n",
       "      <td>0.775557</td>\n",
       "      <td>0.775557</td>\n",
       "      <td>0.775557</td>\n",
       "      <td>0.775557</td>\n",
       "      <td>0.775557</td>\n",
       "      <td>0.775557</td>\n",
       "      <td>0.775557</td>\n",
       "      <td>0.775557</td>\n",
       "      <td>0.775557</td>\n",
       "      <td>0.775557</td>\n",
       "    </tr>\n",
       "    <tr>\n",
       "      <th>4</th>\n",
       "      <td>0.699668</td>\n",
       "      <td>0.701374</td>\n",
       "      <td>0.701658</td>\n",
       "      <td>0.701468</td>\n",
       "      <td>0.701563</td>\n",
       "      <td>0.701563</td>\n",
       "      <td>0.701563</td>\n",
       "      <td>0.701563</td>\n",
       "      <td>0.701563</td>\n",
       "      <td>0.701563</td>\n",
       "      <td>0.701563</td>\n",
       "      <td>0.701563</td>\n",
       "      <td>0.701563</td>\n",
       "    </tr>\n",
       "    <tr>\n",
       "      <th>5</th>\n",
       "      <td>0.622738</td>\n",
       "      <td>0.622738</td>\n",
       "      <td>0.624443</td>\n",
       "      <td>0.624254</td>\n",
       "      <td>0.624254</td>\n",
       "      <td>0.624254</td>\n",
       "      <td>0.624254</td>\n",
       "      <td>0.624254</td>\n",
       "      <td>0.624254</td>\n",
       "      <td>0.624254</td>\n",
       "      <td>0.624254</td>\n",
       "      <td>0.624254</td>\n",
       "      <td>0.624254</td>\n",
       "    </tr>\n",
       "    <tr>\n",
       "      <th>6</th>\n",
       "      <td>0.548366</td>\n",
       "      <td>0.558503</td>\n",
       "      <td>0.559829</td>\n",
       "      <td>0.559261</td>\n",
       "      <td>0.558124</td>\n",
       "      <td>0.558408</td>\n",
       "      <td>0.558408</td>\n",
       "      <td>0.558408</td>\n",
       "      <td>0.558408</td>\n",
       "      <td>0.558408</td>\n",
       "      <td>0.558408</td>\n",
       "      <td>0.558408</td>\n",
       "      <td>0.558408</td>\n",
       "    </tr>\n",
       "    <tr>\n",
       "      <th>7</th>\n",
       "      <td>0.486405</td>\n",
       "      <td>0.494173</td>\n",
       "      <td>0.498153</td>\n",
       "      <td>0.497395</td>\n",
       "      <td>0.497205</td>\n",
       "      <td>0.497205</td>\n",
       "      <td>0.497205</td>\n",
       "      <td>0.497205</td>\n",
       "      <td>0.497205</td>\n",
       "      <td>0.497205</td>\n",
       "      <td>0.497205</td>\n",
       "      <td>0.497205</td>\n",
       "      <td>0.497205</td>\n",
       "    </tr>\n",
       "    <tr>\n",
       "      <th>8</th>\n",
       "      <td>0.429938</td>\n",
       "      <td>0.439886</td>\n",
       "      <td>0.445666</td>\n",
       "      <td>0.444150</td>\n",
       "      <td>0.445760</td>\n",
       "      <td>0.445192</td>\n",
       "      <td>0.445097</td>\n",
       "      <td>0.445097</td>\n",
       "      <td>0.445097</td>\n",
       "      <td>0.445097</td>\n",
       "      <td>0.445097</td>\n",
       "      <td>0.445097</td>\n",
       "      <td>0.445097</td>\n",
       "    </tr>\n",
       "  </tbody>\n",
       "</table>\n",
       "</div>"
      ],
      "text/plain": [
       "         3         4         5         6         7         8         9   \\\n",
       "3  0.776599  0.775272  0.775367  0.775557  0.775557  0.775557  0.775557   \n",
       "4  0.699668  0.701374  0.701658  0.701468  0.701563  0.701563  0.701563   \n",
       "5  0.622738  0.622738  0.624443  0.624254  0.624254  0.624254  0.624254   \n",
       "6  0.548366  0.558503  0.559829  0.559261  0.558124  0.558408  0.558408   \n",
       "7  0.486405  0.494173  0.498153  0.497395  0.497205  0.497205  0.497205   \n",
       "8  0.429938  0.439886  0.445666  0.444150  0.445760  0.445192  0.445097   \n",
       "\n",
       "         10        11        12        13        14        15  \n",
       "3  0.775557  0.775557  0.775557  0.775557  0.775557  0.775557  \n",
       "4  0.701563  0.701563  0.701563  0.701563  0.701563  0.701563  \n",
       "5  0.624254  0.624254  0.624254  0.624254  0.624254  0.624254  \n",
       "6  0.558408  0.558408  0.558408  0.558408  0.558408  0.558408  \n",
       "7  0.497205  0.497205  0.497205  0.497205  0.497205  0.497205  \n",
       "8  0.445097  0.445097  0.445097  0.445097  0.445097  0.445097  "
      ]
     },
     "execution_count": 626,
     "metadata": {},
     "output_type": "execute_result"
    }
   ],
   "source": [
    "from sklearn.ensemble import BaggingClassifier\n",
    "tree_depth = range(3,16)\n",
    "correct = [[],[],[],[],[],[]]\n",
    "for h in range(len(ys_bins)):\n",
    "    for i in tree_depth:\n",
    "        bag_class = BaggingClassifier(base_estimator=DecisionTreeClassifier(max_depth = i),n_estimators=1000,\n",
    "                          max_samples = 20, random_state = 5)\n",
    "        output = bag_class.fit(train_x,train_y[h])\n",
    "        correct[h].append(np.sum(output.predict(validate_x)==validate_y[h])/len(validate_y[h]))\n",
    "pd.DataFrame(data=np.array(correct), columns = np.array(tree_depth),index =num_bins)"
   ]
  },
  {
   "cell_type": "code",
   "execution_count": 627,
   "metadata": {},
   "outputs": [
    {
     "name": "stdout",
     "output_type": "stream",
     "text": [
      "from 3 to 4: 0.07494078635717671 decrease\n",
      "from 4 to 5: 0.07721459024159172 decrease\n",
      "from 5 to 6: 0.06461392704879199 decrease\n",
      "from 6 to 7: 0.06167693036475608 decrease\n",
      "from 7 to 8: 0.05239223117006159 decrease\n"
     ]
    }
   ],
   "source": [
    "for i in range(5):\n",
    "    print('from {} to {}:'.format(i+3,i+4),np.max(np.array(correct)[i,])-np.max(np.array(correct)[i + 1,]),'decrease')"
   ]
  },
  {
   "cell_type": "markdown",
   "metadata": {},
   "source": [
    "Based on this output we choose to fit on 4 bins as we see a 7.7% decrease in accuracy from 4 to 5 bins in the best performing max tree depth while still giving us as many bins as we can get since we want as many as we can get while still predicting fairly accurately. At 4 bins we will choose a max depth of 5 as this produces the largest correct prediction rate at 70.166% for the valdiation set."
   ]
  },
  {
   "cell_type": "code",
   "execution_count": 628,
   "metadata": {},
   "outputs": [
    {
     "data": {
      "text/plain": [
       "0.7021669626998224"
      ]
     },
     "execution_count": 628,
     "metadata": {},
     "output_type": "execute_result"
    }
   ],
   "source": [
    "bag_class = BaggingClassifier(base_estimator=DecisionTreeClassifier(max_depth = 5),n_estimators=1000,\n",
    "                          max_samples = 20, random_state = 3)\n",
    "output = bag_class.fit(train_x,train_y[1])\n",
    "np.sum(output.predict(test_x)==test_y[1])/len(test_y[1])"
   ]
  },
  {
   "cell_type": "markdown",
   "metadata": {},
   "source": [
    "We attained a 70.22% correct prediction rate using 4 bins and max depth of 6"
   ]
  },
  {
   "cell_type": "code",
   "execution_count": 629,
   "metadata": {
    "scrolled": true
   },
   "outputs": [
    {
     "data": {
      "text/plain": [
       "Text(0.5, 1.0, 'Histogram of the difference of expected - true value')"
      ]
     },
     "execution_count": 629,
     "metadata": {},
     "output_type": "execute_result"
    },
    {
     "data": {
      "image/png": "[encoded data removed]",
      "text/plain": [
       "<Figure size 432x288 with 1 Axes>"
      ]
     },
     "metadata": {
      "needs_background": "light"
     },
     "output_type": "display_data"
    }
   ],
   "source": [
    "plt.hist(output.predict(test_x)-test_y[1],bins=[-4.5,-3.5,-2.5,-1.5,-0.5,0.5,1.5,2.5,3.5,4.5])\n",
    "plt.title('Histogram of the difference of expected - true value')"
   ]
  },
  {
   "cell_type": "markdown",
   "metadata": {},
   "source": [
    "### Goalkeeper:"
   ]
  },
  {
   "cell_type": "code",
   "execution_count": 630,
   "metadata": {
    "scrolled": true
   },
   "outputs": [
    {
     "data": {
      "text/html": [
       "<div>\n",
       "<style scoped>\n",
       "    .dataframe tbody tr th:only-of-type {\n",
       "        vertical-align: middle;\n",
       "    }\n",
       "\n",
       "    .dataframe tbody tr th {\n",
       "        vertical-align: top;\n",
       "    }\n",
       "\n",
       "    .dataframe thead th {\n",
       "        text-align: right;\n",
       "    }\n",
       "</style>\n",
       "<table border=\"1\" class=\"dataframe\">\n",
       "  <thead>\n",
       "    <tr style=\"text-align: right;\">\n",
       "      <th></th>\n",
       "      <th>age</th>\n",
       "      <th>height_cm</th>\n",
       "      <th>weight_kg</th>\n",
       "      <th>overall</th>\n",
       "      <th>potential</th>\n",
       "      <th>gk_diving</th>\n",
       "      <th>gk_reflexes</th>\n",
       "      <th>gk_handling</th>\n",
       "      <th>gk_kicking</th>\n",
       "      <th>gk_speed</th>\n",
       "      <th>gk_positioning</th>\n",
       "    </tr>\n",
       "    <tr>\n",
       "      <th>sofifa_id</th>\n",
       "      <th></th>\n",
       "      <th></th>\n",
       "      <th></th>\n",
       "      <th></th>\n",
       "      <th></th>\n",
       "      <th></th>\n",
       "      <th></th>\n",
       "      <th></th>\n",
       "      <th></th>\n",
       "      <th></th>\n",
       "      <th></th>\n",
       "    </tr>\n",
       "  </thead>\n",
       "  <tbody>\n",
       "    <tr>\n",
       "      <th>167495</th>\n",
       "      <td>28.0</td>\n",
       "      <td>193.0</td>\n",
       "      <td>92.0</td>\n",
       "      <td>90.0</td>\n",
       "      <td>90.0</td>\n",
       "      <td>87.0</td>\n",
       "      <td>86.0</td>\n",
       "      <td>85.0</td>\n",
       "      <td>92.0</td>\n",
       "      <td>60.0</td>\n",
       "      <td>90.0</td>\n",
       "    </tr>\n",
       "    <tr>\n",
       "      <th>192119</th>\n",
       "      <td>22.0</td>\n",
       "      <td>199.0</td>\n",
       "      <td>88.0</td>\n",
       "      <td>86.0</td>\n",
       "      <td>90.0</td>\n",
       "      <td>84.0</td>\n",
       "      <td>88.0</td>\n",
       "      <td>87.0</td>\n",
       "      <td>69.0</td>\n",
       "      <td>49.0</td>\n",
       "      <td>86.0</td>\n",
       "    </tr>\n",
       "    <tr>\n",
       "      <th>167948</th>\n",
       "      <td>27.0</td>\n",
       "      <td>188.0</td>\n",
       "      <td>78.0</td>\n",
       "      <td>85.0</td>\n",
       "      <td>86.0</td>\n",
       "      <td>86.0</td>\n",
       "      <td>88.0</td>\n",
       "      <td>81.0</td>\n",
       "      <td>71.0</td>\n",
       "      <td>64.0</td>\n",
       "      <td>81.0</td>\n",
       "    </tr>\n",
       "    <tr>\n",
       "      <th>168435</th>\n",
       "      <td>27.0</td>\n",
       "      <td>192.0</td>\n",
       "      <td>80.0</td>\n",
       "      <td>84.0</td>\n",
       "      <td>85.0</td>\n",
       "      <td>85.0</td>\n",
       "      <td>87.0</td>\n",
       "      <td>79.0</td>\n",
       "      <td>73.0</td>\n",
       "      <td>51.0</td>\n",
       "      <td>84.0</td>\n",
       "    </tr>\n",
       "    <tr>\n",
       "      <th>5479</th>\n",
       "      <td>33.0</td>\n",
       "      <td>185.0</td>\n",
       "      <td>84.0</td>\n",
       "      <td>84.0</td>\n",
       "      <td>84.0</td>\n",
       "      <td>87.0</td>\n",
       "      <td>88.0</td>\n",
       "      <td>79.0</td>\n",
       "      <td>67.0</td>\n",
       "      <td>64.0</td>\n",
       "      <td>79.0</td>\n",
       "    </tr>\n",
       "    <tr>\n",
       "      <th>...</th>\n",
       "      <td>...</td>\n",
       "      <td>...</td>\n",
       "      <td>...</td>\n",
       "      <td>...</td>\n",
       "      <td>...</td>\n",
       "      <td>...</td>\n",
       "      <td>...</td>\n",
       "      <td>...</td>\n",
       "      <td>...</td>\n",
       "      <td>...</td>\n",
       "      <td>...</td>\n",
       "    </tr>\n",
       "    <tr>\n",
       "      <th>212763</th>\n",
       "      <td>19.0</td>\n",
       "      <td>179.0</td>\n",
       "      <td>76.0</td>\n",
       "      <td>53.0</td>\n",
       "      <td>64.0</td>\n",
       "      <td>54.0</td>\n",
       "      <td>55.0</td>\n",
       "      <td>52.0</td>\n",
       "      <td>49.0</td>\n",
       "      <td>51.0</td>\n",
       "      <td>52.0</td>\n",
       "    </tr>\n",
       "    <tr>\n",
       "      <th>201354</th>\n",
       "      <td>21.0</td>\n",
       "      <td>186.0</td>\n",
       "      <td>81.0</td>\n",
       "      <td>53.0</td>\n",
       "      <td>62.0</td>\n",
       "      <td>50.0</td>\n",
       "      <td>58.0</td>\n",
       "      <td>50.0</td>\n",
       "      <td>48.0</td>\n",
       "      <td>46.0</td>\n",
       "      <td>52.0</td>\n",
       "    </tr>\n",
       "    <tr>\n",
       "      <th>222070</th>\n",
       "      <td>23.0</td>\n",
       "      <td>191.0</td>\n",
       "      <td>92.0</td>\n",
       "      <td>51.0</td>\n",
       "      <td>58.0</td>\n",
       "      <td>56.0</td>\n",
       "      <td>55.0</td>\n",
       "      <td>49.0</td>\n",
       "      <td>52.0</td>\n",
       "      <td>44.0</td>\n",
       "      <td>43.0</td>\n",
       "    </tr>\n",
       "    <tr>\n",
       "      <th>192544</th>\n",
       "      <td>25.0</td>\n",
       "      <td>185.0</td>\n",
       "      <td>85.0</td>\n",
       "      <td>51.0</td>\n",
       "      <td>55.0</td>\n",
       "      <td>51.0</td>\n",
       "      <td>54.0</td>\n",
       "      <td>54.0</td>\n",
       "      <td>51.0</td>\n",
       "      <td>36.0</td>\n",
       "      <td>51.0</td>\n",
       "    </tr>\n",
       "    <tr>\n",
       "      <th>194372</th>\n",
       "      <td>24.0</td>\n",
       "      <td>191.0</td>\n",
       "      <td>83.0</td>\n",
       "      <td>43.0</td>\n",
       "      <td>49.0</td>\n",
       "      <td>40.0</td>\n",
       "      <td>41.0</td>\n",
       "      <td>47.0</td>\n",
       "      <td>53.0</td>\n",
       "      <td>34.0</td>\n",
       "      <td>44.0</td>\n",
       "    </tr>\n",
       "  </tbody>\n",
       "</table>\n",
       "<p>487 rows × 11 columns</p>\n",
       "</div>"
      ],
      "text/plain": [
       "            age  height_cm  weight_kg  overall  potential  gk_diving  \\\n",
       "sofifa_id                                                              \n",
       "167495     28.0      193.0       92.0     90.0       90.0       87.0   \n",
       "192119     22.0      199.0       88.0     86.0       90.0       84.0   \n",
       "167948     27.0      188.0       78.0     85.0       86.0       86.0   \n",
       "168435     27.0      192.0       80.0     84.0       85.0       85.0   \n",
       "5479       33.0      185.0       84.0     84.0       84.0       87.0   \n",
       "...         ...        ...        ...      ...        ...        ...   \n",
       "212763     19.0      179.0       76.0     53.0       64.0       54.0   \n",
       "201354     21.0      186.0       81.0     53.0       62.0       50.0   \n",
       "222070     23.0      191.0       92.0     51.0       58.0       56.0   \n",
       "192544     25.0      185.0       85.0     51.0       55.0       51.0   \n",
       "194372     24.0      191.0       83.0     43.0       49.0       40.0   \n",
       "\n",
       "           gk_reflexes  gk_handling  gk_kicking  gk_speed  gk_positioning  \n",
       "sofifa_id                                                                  \n",
       "167495            86.0         85.0        92.0      60.0            90.0  \n",
       "192119            88.0         87.0        69.0      49.0            86.0  \n",
       "167948            88.0         81.0        71.0      64.0            81.0  \n",
       "168435            87.0         79.0        73.0      51.0            84.0  \n",
       "5479              88.0         79.0        67.0      64.0            79.0  \n",
       "...                ...          ...         ...       ...             ...  \n",
       "212763            55.0         52.0        49.0      51.0            52.0  \n",
       "201354            58.0         50.0        48.0      46.0            52.0  \n",
       "222070            55.0         49.0        52.0      44.0            43.0  \n",
       "192544            54.0         54.0        51.0      36.0            51.0  \n",
       "194372            41.0         47.0        53.0      34.0            44.0  \n",
       "\n",
       "[487 rows x 11 columns]"
      ]
     },
     "execution_count": 630,
     "metadata": {},
     "output_type": "execute_result"
    }
   ],
   "source": [
    "# Below is the set of columns we care about\n",
    "\n",
    "features = ['age'\n",
    "            ,'height_cm'\n",
    "           ,'weight_kg'\n",
    "           ,'overall'\n",
    "           ,'potential'\n",
    "           ,'gk_diving'\n",
    "           ,'gk_reflexes'\n",
    "           ,'gk_handling'\n",
    "           ,'gk_kicking'\n",
    "           ,'gk_speed'\n",
    "           ,'gk_positioning']\n",
    "\n",
    "filtered_data = []\n",
    "ys = []\n",
    "for d in ndata_list3:\n",
    "    filtered_data.append(d[features].fillna(0))\n",
    "    ys.append(d['value_eur_next'].fillna(0))\n",
    "filtered_data[0]"
   ]
  },
  {
   "cell_type": "code",
   "execution_count": 631,
   "metadata": {
    "scrolled": true
   },
   "outputs": [
    {
     "data": {
      "image/png": "[encoded data removed]",
      "text/plain": [
       "<Figure size 432x288 with 1 Axes>"
      ]
     },
     "metadata": {
      "needs_background": "light"
     },
     "output_type": "display_data"
    }
   ],
   "source": [
    "for i in np.unique(ys[0]):\n",
    "    plt.scatter(i,np.sum(ys[0]==i),s=1,color='b')"
   ]
  },
  {
   "cell_type": "code",
   "execution_count": 632,
   "metadata": {
    "scrolled": true
   },
   "outputs": [
    {
     "data": {
      "text/plain": [
       "(array([148., 207., 163.]),\n",
       " array([        0,    600000,   2500000, 150000000]),\n",
       " <a list of 3 Patch objects>)"
      ]
     },
     "execution_count": 632,
     "metadata": {},
     "output_type": "execute_result"
    },
    {
     "data": {
      "image/png": "[encoded data removed]",
      "text/plain": [
       "<Figure size 432x288 with 1 Axes>"
      ]
     },
     "metadata": {
      "needs_background": "light"
     },
     "output_type": "display_data"
    }
   ],
   "source": [
    "plt.hist(ys[1],bins=[0,600000,2500000,150000000])"
   ]
  },
  {
   "cell_type": "code",
   "execution_count": 633,
   "metadata": {
    "scrolled": true
   },
   "outputs": [
    {
     "data": {
      "text/plain": [
       "(array([121., 149., 149.,  99.]),\n",
       " array([        0,    500000,   1250000,   5000000, 150000000]),\n",
       " <a list of 4 Patch objects>)"
      ]
     },
     "execution_count": 633,
     "metadata": {},
     "output_type": "execute_result"
    },
    {
     "data": {
      "image/png": "[encoded data removed]",
      "text/plain": [
       "<Figure size 432x288 with 1 Axes>"
      ]
     },
     "metadata": {
      "needs_background": "light"
     },
     "output_type": "display_data"
    }
   ],
   "source": [
    "plt.hist(ys[1],bins=[0,500000,1250000,5000000,150000000])"
   ]
  },
  {
   "cell_type": "code",
   "execution_count": 634,
   "metadata": {
    "scrolled": true
   },
   "outputs": [
    {
     "data": {
      "text/plain": [
       "(array([ 91., 127., 137., 105.,  58.]),\n",
       " array([        0,    400000,    900000,   2500000,  10000000, 150000000]),\n",
       " <a list of 5 Patch objects>)"
      ]
     },
     "execution_count": 634,
     "metadata": {},
     "output_type": "execute_result"
    },
    {
     "data": {
      "image/png": "[encoded data removed]",
      "text/plain": [
       "<Figure size 432x288 with 1 Axes>"
      ]
     },
     "metadata": {
      "needs_background": "light"
     },
     "output_type": "display_data"
    }
   ],
   "source": [
    "plt.hist(ys[1],bins=[0,400000,900000,2500000,10000000,150000000])"
   ]
  },
  {
   "cell_type": "code",
   "execution_count": 635,
   "metadata": {
    "scrolled": true
   },
   "outputs": [
    {
     "data": {
      "text/plain": [
       "(array([ 64., 116.,  90., 101.,  80.,  67.]),\n",
       " array([        0,    300000,    700000,   1250000,   3000000,   8000000,\n",
       "        150000000]),\n",
       " <a list of 6 Patch objects>)"
      ]
     },
     "execution_count": 635,
     "metadata": {},
     "output_type": "execute_result"
    },
    {
     "data": {
      "image/png": "[encoded data removed]",
      "text/plain": [
       "<Figure size 432x288 with 1 Axes>"
      ]
     },
     "metadata": {
      "needs_background": "light"
     },
     "output_type": "display_data"
    }
   ],
   "source": [
    "plt.hist(ys[1],bins=[0,300000,700000,1250000,3000000,8000000,150000000])"
   ]
  },
  {
   "cell_type": "code",
   "execution_count": 636,
   "metadata": {
    "scrolled": true
   },
   "outputs": [
    {
     "data": {
      "text/plain": [
       "(array([ 52.,  96.,  83., 100.,  70.,  59.,  58.]),\n",
       " array([        0,    250000,    600000,   1000000,   2000000,   4000000,\n",
       "         10000000, 150000000]),\n",
       " <a list of 7 Patch objects>)"
      ]
     },
     "execution_count": 636,
     "metadata": {},
     "output_type": "execute_result"
    },
    {
     "data": {
      "image/png": "[encoded data removed]",
      "text/plain": [
       "<Figure size 432x288 with 1 Axes>"
      ]
     },
     "metadata": {
      "needs_background": "light"
     },
     "output_type": "display_data"
    }
   ],
   "source": [
    "plt.hist(ys[1],bins=[0,250000,600000,1000000,2000000,4000000,10000000,150000000])"
   ]
  },
  {
   "cell_type": "code",
   "execution_count": 637,
   "metadata": {
    "scrolled": true
   },
   "outputs": [
    {
     "data": {
      "text/plain": [
       "(array([39., 82., 80., 69., 74., 67., 49., 58.]),\n",
       " array([        0,    200000,    500000,    800000,   1250000,   2250000,\n",
       "          4500000,  10000000, 150000000]),\n",
       " <a list of 8 Patch objects>)"
      ]
     },
     "execution_count": 637,
     "metadata": {},
     "output_type": "execute_result"
    },
    {
     "data": {
      "image/png": "[encoded data removed]",
      "text/plain": [
       "<Figure size 432x288 with 1 Axes>"
      ]
     },
     "metadata": {
      "needs_background": "light"
     },
     "output_type": "display_data"
    }
   ],
   "source": [
    "plt.hist(ys[1],bins=[0,200000,500000,800000,1250000,2250000,4500000,10000000,150000000])"
   ]
  },
  {
   "cell_type": "code",
   "execution_count": 638,
   "metadata": {
    "scrolled": true
   },
   "outputs": [
    {
     "data": {
      "text/html": [
       "<div>\n",
       "<style scoped>\n",
       "    .dataframe tbody tr th:only-of-type {\n",
       "        vertical-align: middle;\n",
       "    }\n",
       "\n",
       "    .dataframe tbody tr th {\n",
       "        vertical-align: top;\n",
       "    }\n",
       "\n",
       "    .dataframe thead th {\n",
       "        text-align: right;\n",
       "    }\n",
       "</style>\n",
       "<table border=\"1\" class=\"dataframe\">\n",
       "  <thead>\n",
       "    <tr style=\"text-align: right;\">\n",
       "      <th></th>\n",
       "      <th>age</th>\n",
       "      <th>height_cm</th>\n",
       "      <th>weight_kg</th>\n",
       "      <th>overall</th>\n",
       "      <th>potential</th>\n",
       "      <th>gk_diving</th>\n",
       "      <th>gk_reflexes</th>\n",
       "      <th>gk_handling</th>\n",
       "      <th>gk_kicking</th>\n",
       "      <th>gk_speed</th>\n",
       "      <th>gk_positioning</th>\n",
       "      <th>year</th>\n",
       "      <th>league_ranking</th>\n",
       "    </tr>\n",
       "    <tr>\n",
       "      <th>sofifa_id</th>\n",
       "      <th></th>\n",
       "      <th></th>\n",
       "      <th></th>\n",
       "      <th></th>\n",
       "      <th></th>\n",
       "      <th></th>\n",
       "      <th></th>\n",
       "      <th></th>\n",
       "      <th></th>\n",
       "      <th></th>\n",
       "      <th></th>\n",
       "      <th></th>\n",
       "      <th></th>\n",
       "    </tr>\n",
       "  </thead>\n",
       "  <tbody>\n",
       "    <tr>\n",
       "      <th>167495</th>\n",
       "      <td>28.0</td>\n",
       "      <td>193.0</td>\n",
       "      <td>92.0</td>\n",
       "      <td>90.0</td>\n",
       "      <td>90.0</td>\n",
       "      <td>87.0</td>\n",
       "      <td>86.0</td>\n",
       "      <td>85.0</td>\n",
       "      <td>92.0</td>\n",
       "      <td>60.0</td>\n",
       "      <td>90.0</td>\n",
       "      <td>0.0</td>\n",
       "      <td>1</td>\n",
       "    </tr>\n",
       "    <tr>\n",
       "      <th>192119</th>\n",
       "      <td>22.0</td>\n",
       "      <td>199.0</td>\n",
       "      <td>88.0</td>\n",
       "      <td>86.0</td>\n",
       "      <td>90.0</td>\n",
       "      <td>84.0</td>\n",
       "      <td>88.0</td>\n",
       "      <td>87.0</td>\n",
       "      <td>69.0</td>\n",
       "      <td>49.0</td>\n",
       "      <td>86.0</td>\n",
       "      <td>0.0</td>\n",
       "      <td>1</td>\n",
       "    </tr>\n",
       "    <tr>\n",
       "      <th>167948</th>\n",
       "      <td>27.0</td>\n",
       "      <td>188.0</td>\n",
       "      <td>78.0</td>\n",
       "      <td>85.0</td>\n",
       "      <td>86.0</td>\n",
       "      <td>86.0</td>\n",
       "      <td>88.0</td>\n",
       "      <td>81.0</td>\n",
       "      <td>71.0</td>\n",
       "      <td>64.0</td>\n",
       "      <td>81.0</td>\n",
       "      <td>0.0</td>\n",
       "      <td>1</td>\n",
       "    </tr>\n",
       "    <tr>\n",
       "      <th>168435</th>\n",
       "      <td>27.0</td>\n",
       "      <td>192.0</td>\n",
       "      <td>80.0</td>\n",
       "      <td>84.0</td>\n",
       "      <td>85.0</td>\n",
       "      <td>85.0</td>\n",
       "      <td>87.0</td>\n",
       "      <td>79.0</td>\n",
       "      <td>73.0</td>\n",
       "      <td>51.0</td>\n",
       "      <td>84.0</td>\n",
       "      <td>0.0</td>\n",
       "      <td>1</td>\n",
       "    </tr>\n",
       "    <tr>\n",
       "      <th>5479</th>\n",
       "      <td>33.0</td>\n",
       "      <td>185.0</td>\n",
       "      <td>84.0</td>\n",
       "      <td>84.0</td>\n",
       "      <td>84.0</td>\n",
       "      <td>87.0</td>\n",
       "      <td>88.0</td>\n",
       "      <td>79.0</td>\n",
       "      <td>67.0</td>\n",
       "      <td>64.0</td>\n",
       "      <td>79.0</td>\n",
       "      <td>0.0</td>\n",
       "      <td>1</td>\n",
       "    </tr>\n",
       "    <tr>\n",
       "      <th>...</th>\n",
       "      <td>...</td>\n",
       "      <td>...</td>\n",
       "      <td>...</td>\n",
       "      <td>...</td>\n",
       "      <td>...</td>\n",
       "      <td>...</td>\n",
       "      <td>...</td>\n",
       "      <td>...</td>\n",
       "      <td>...</td>\n",
       "      <td>...</td>\n",
       "      <td>...</td>\n",
       "      <td>...</td>\n",
       "      <td>...</td>\n",
       "    </tr>\n",
       "    <tr>\n",
       "      <th>212763</th>\n",
       "      <td>19.0</td>\n",
       "      <td>179.0</td>\n",
       "      <td>76.0</td>\n",
       "      <td>53.0</td>\n",
       "      <td>64.0</td>\n",
       "      <td>54.0</td>\n",
       "      <td>55.0</td>\n",
       "      <td>52.0</td>\n",
       "      <td>49.0</td>\n",
       "      <td>51.0</td>\n",
       "      <td>52.0</td>\n",
       "      <td>0.0</td>\n",
       "      <td>4</td>\n",
       "    </tr>\n",
       "    <tr>\n",
       "      <th>201354</th>\n",
       "      <td>21.0</td>\n",
       "      <td>186.0</td>\n",
       "      <td>81.0</td>\n",
       "      <td>53.0</td>\n",
       "      <td>62.0</td>\n",
       "      <td>50.0</td>\n",
       "      <td>58.0</td>\n",
       "      <td>50.0</td>\n",
       "      <td>48.0</td>\n",
       "      <td>46.0</td>\n",
       "      <td>52.0</td>\n",
       "      <td>0.0</td>\n",
       "      <td>4</td>\n",
       "    </tr>\n",
       "    <tr>\n",
       "      <th>222070</th>\n",
       "      <td>23.0</td>\n",
       "      <td>191.0</td>\n",
       "      <td>92.0</td>\n",
       "      <td>51.0</td>\n",
       "      <td>58.0</td>\n",
       "      <td>56.0</td>\n",
       "      <td>55.0</td>\n",
       "      <td>49.0</td>\n",
       "      <td>52.0</td>\n",
       "      <td>44.0</td>\n",
       "      <td>43.0</td>\n",
       "      <td>0.0</td>\n",
       "      <td>1</td>\n",
       "    </tr>\n",
       "    <tr>\n",
       "      <th>192544</th>\n",
       "      <td>25.0</td>\n",
       "      <td>185.0</td>\n",
       "      <td>85.0</td>\n",
       "      <td>51.0</td>\n",
       "      <td>55.0</td>\n",
       "      <td>51.0</td>\n",
       "      <td>54.0</td>\n",
       "      <td>54.0</td>\n",
       "      <td>51.0</td>\n",
       "      <td>36.0</td>\n",
       "      <td>51.0</td>\n",
       "      <td>0.0</td>\n",
       "      <td>4</td>\n",
       "    </tr>\n",
       "    <tr>\n",
       "      <th>194372</th>\n",
       "      <td>24.0</td>\n",
       "      <td>191.0</td>\n",
       "      <td>83.0</td>\n",
       "      <td>43.0</td>\n",
       "      <td>49.0</td>\n",
       "      <td>40.0</td>\n",
       "      <td>41.0</td>\n",
       "      <td>47.0</td>\n",
       "      <td>53.0</td>\n",
       "      <td>34.0</td>\n",
       "      <td>44.0</td>\n",
       "      <td>0.0</td>\n",
       "      <td>2</td>\n",
       "    </tr>\n",
       "  </tbody>\n",
       "</table>\n",
       "<p>487 rows × 13 columns</p>\n",
       "</div>"
      ],
      "text/plain": [
       "            age  height_cm  weight_kg  overall  potential  gk_diving  \\\n",
       "sofifa_id                                                              \n",
       "167495     28.0      193.0       92.0     90.0       90.0       87.0   \n",
       "192119     22.0      199.0       88.0     86.0       90.0       84.0   \n",
       "167948     27.0      188.0       78.0     85.0       86.0       86.0   \n",
       "168435     27.0      192.0       80.0     84.0       85.0       85.0   \n",
       "5479       33.0      185.0       84.0     84.0       84.0       87.0   \n",
       "...         ...        ...        ...      ...        ...        ...   \n",
       "212763     19.0      179.0       76.0     53.0       64.0       54.0   \n",
       "201354     21.0      186.0       81.0     53.0       62.0       50.0   \n",
       "222070     23.0      191.0       92.0     51.0       58.0       56.0   \n",
       "192544     25.0      185.0       85.0     51.0       55.0       51.0   \n",
       "194372     24.0      191.0       83.0     43.0       49.0       40.0   \n",
       "\n",
       "           gk_reflexes  gk_handling  gk_kicking  gk_speed  gk_positioning  \\\n",
       "sofifa_id                                                                   \n",
       "167495            86.0         85.0        92.0      60.0            90.0   \n",
       "192119            88.0         87.0        69.0      49.0            86.0   \n",
       "167948            88.0         81.0        71.0      64.0            81.0   \n",
       "168435            87.0         79.0        73.0      51.0            84.0   \n",
       "5479              88.0         79.0        67.0      64.0            79.0   \n",
       "...                ...          ...         ...       ...             ...   \n",
       "212763            55.0         52.0        49.0      51.0            52.0   \n",
       "201354            58.0         50.0        48.0      46.0            52.0   \n",
       "222070            55.0         49.0        52.0      44.0            43.0   \n",
       "192544            54.0         54.0        51.0      36.0            51.0   \n",
       "194372            41.0         47.0        53.0      34.0            44.0   \n",
       "\n",
       "           year  league_ranking  \n",
       "sofifa_id                        \n",
       "167495      0.0               1  \n",
       "192119      0.0               1  \n",
       "167948      0.0               1  \n",
       "168435      0.0               1  \n",
       "5479        0.0               1  \n",
       "...         ...             ...  \n",
       "212763      0.0               4  \n",
       "201354      0.0               4  \n",
       "222070      0.0               1  \n",
       "192544      0.0               4  \n",
       "194372      0.0               2  \n",
       "\n",
       "[487 rows x 13 columns]"
      ]
     },
     "execution_count": 638,
     "metadata": {},
     "output_type": "execute_result"
    }
   ],
   "source": [
    "# Below is the set of columns we care about\n",
    "\n",
    "features = ['age'\n",
    "            ,'height_cm'\n",
    "           ,'weight_kg'\n",
    "           ,'overall'\n",
    "           ,'potential'\n",
    "           ,'gk_diving'\n",
    "           ,'gk_reflexes'\n",
    "           ,'gk_handling'\n",
    "           ,'gk_kicking'\n",
    "           ,'gk_speed'\n",
    "           ,'gk_positioning'\n",
    "           ,'year'\n",
    "           ,'league_ranking']\n",
    "\n",
    "filtered_data = []\n",
    "ys = []\n",
    "for d in ndata_list3:\n",
    "    filtered_data.append(d[features].fillna(0))\n",
    "    ys.append(d['value_eur_next'].fillna(0))\n",
    "filtered_data[0]"
   ]
  },
  {
   "cell_type": "code",
   "execution_count": 639,
   "metadata": {
    "scrolled": true
   },
   "outputs": [],
   "source": [
    "num_bins = range(3,9)\n",
    "bins_try= [[0,600000,2500000,150000000],[0,500000,1250000,5000000,150000000],[0,400000,900000,2500000,10000000,150000000],\n",
    "           [0,300000,700000,1250000,3000000,8000000,150000000],[0,250000,600000,1000000,2000000,4000000,10000000,150000000],\n",
    "          [0,200000,500000,800000,1250000,2250000,4500000,10000000,150000000]]"
   ]
  },
  {
   "cell_type": "code",
   "execution_count": 640,
   "metadata": {
    "scrolled": true
   },
   "outputs": [],
   "source": [
    "import copy\n",
    "ys_bins1 = copy.deepcopy(ys) #3\n",
    "ys_bins2 = copy.deepcopy(ys) #4\n",
    "ys_bins3 = copy.deepcopy(ys) #5\n",
    "ys_bins4 = copy.deepcopy(ys) #6\n",
    "ys_bins5 = copy.deepcopy(ys) #7\n",
    "ys_bins6 = copy.deepcopy(ys) #8\n",
    "ys_bins = [ys_bins1,ys_bins2,ys_bins3,ys_bins4,ys_bins5,ys_bins6]\n",
    "for h in range(len(ys_bins)):\n",
    "    for i in range(len(ys_bins[h])):\n",
    "        for j in ys_bins[h][i].index:\n",
    "            for k, l in enumerate(bins_try[h]):\n",
    "                if l >= ys_bins[h][i][j]:\n",
    "                    ys_bins[h][i][j] = k\n",
    "                    break"
   ]
  },
  {
   "cell_type": "code",
   "execution_count": 641,
   "metadata": {
    "scrolled": true
   },
   "outputs": [],
   "source": [
    "n = len(filtered_data[0])\n",
    "t1 = int(0.65*n)\n",
    "t2 = int(0.8*n)\n",
    "index_shuffle = np.array(filtered_data[0].index)\n",
    "np.random.shuffle(index_shuffle)\n",
    "\n",
    "train_x = filtered_data[0].loc[index_shuffle[0:t1]]\n",
    "validate_x = filtered_data[0].loc[index_shuffle[t1:t2]]\n",
    "test_x = filtered_data[0].loc[index_shuffle[t2:n]]\n",
    "\n",
    "train_y = ys_bins[0][0].loc[index_shuffle[0:t1]]\n",
    "validate_y = ys_bins[0][0].loc[index_shuffle[t1:t2]]\n",
    "test_y = ys_bins[0][0].loc[index_shuffle[t2:n]]"
   ]
  },
  {
   "cell_type": "code",
   "execution_count": 642,
   "metadata": {
    "scrolled": true
   },
   "outputs": [],
   "source": [
    "train_y = [[],[],[],[],[],[]]\n",
    "validate_y = [[],[],[],[],[],[]]\n",
    "test_y = [[],[],[],[],[],[]]\n",
    "for i in range(len(filtered_data)):\n",
    "    n = len(filtered_data[i])\n",
    "    t1 = int(0.65*n)\n",
    "    t2 = int(0.8*n)\n",
    "    index_shuffle = np.array(filtered_data[i].index)\n",
    "    np.random.shuffle(index_shuffle)\n",
    "\n",
    "    train_x_i = filtered_data[i].loc[index_shuffle[0:t1]]\n",
    "    validate_x_i = filtered_data[i].loc[index_shuffle[t1:t2]]\n",
    "    test_x_i = filtered_data[i].loc[index_shuffle[t2:n]]\n",
    "    if i == 0:\n",
    "        train_x = train_x_i\n",
    "        validate_x = validate_x_i\n",
    "        test_x = test_x_i\n",
    "    else:\n",
    "        train_x = train_x.append(train_x_i)\n",
    "        validate_x = validate_x.append(validate_x_i)\n",
    "        test_x = test_x.append(test_x_i)\n",
    "    for j in range(len(ys_bins)):\n",
    "        train_y_i = ys_bins[j][i].loc[index_shuffle[0:t1]]\n",
    "        validate_y_i = ys_bins[j][i].loc[index_shuffle[t1:t2]]\n",
    "        test_y_i = ys_bins[j][i].loc[index_shuffle[t2:n]]\n",
    "        if i == 0:\n",
    "            train_y[j] = train_y_i\n",
    "            validate_y[j] = validate_y_i\n",
    "            test_y[j] = test_y_i\n",
    "        else:\n",
    "            train_y[j] = train_y[j].append(train_y_i)\n",
    "            validate_y[j] = validate_y[j].append(validate_y_i)\n",
    "            test_y[j] = test_y[j].append(test_y_i)"
   ]
  },
  {
   "cell_type": "code",
   "execution_count": 643,
   "metadata": {
    "scrolled": true
   },
   "outputs": [
    {
     "data": {
      "text/html": [
       "<div>\n",
       "<style scoped>\n",
       "    .dataframe tbody tr th:only-of-type {\n",
       "        vertical-align: middle;\n",
       "    }\n",
       "\n",
       "    .dataframe tbody tr th {\n",
       "        vertical-align: top;\n",
       "    }\n",
       "\n",
       "    .dataframe thead th {\n",
       "        text-align: right;\n",
       "    }\n",
       "</style>\n",
       "<table border=\"1\" class=\"dataframe\">\n",
       "  <thead>\n",
       "    <tr style=\"text-align: right;\">\n",
       "      <th></th>\n",
       "      <th>3</th>\n",
       "      <th>4</th>\n",
       "      <th>5</th>\n",
       "      <th>6</th>\n",
       "      <th>7</th>\n",
       "      <th>8</th>\n",
       "      <th>9</th>\n",
       "      <th>10</th>\n",
       "      <th>11</th>\n",
       "      <th>12</th>\n",
       "      <th>13</th>\n",
       "      <th>14</th>\n",
       "      <th>15</th>\n",
       "    </tr>\n",
       "  </thead>\n",
       "  <tbody>\n",
       "    <tr>\n",
       "      <th>3</th>\n",
       "      <td>0.741127</td>\n",
       "      <td>0.713987</td>\n",
       "      <td>0.747390</td>\n",
       "      <td>0.753653</td>\n",
       "      <td>0.751566</td>\n",
       "      <td>0.757829</td>\n",
       "      <td>0.755741</td>\n",
       "      <td>0.720251</td>\n",
       "      <td>0.722338</td>\n",
       "      <td>0.713987</td>\n",
       "      <td>0.707724</td>\n",
       "      <td>0.720251</td>\n",
       "      <td>0.718163</td>\n",
       "    </tr>\n",
       "    <tr>\n",
       "      <th>4</th>\n",
       "      <td>0.709812</td>\n",
       "      <td>0.705637</td>\n",
       "      <td>0.699374</td>\n",
       "      <td>0.701461</td>\n",
       "      <td>0.691023</td>\n",
       "      <td>0.674322</td>\n",
       "      <td>0.663883</td>\n",
       "      <td>0.651357</td>\n",
       "      <td>0.647182</td>\n",
       "      <td>0.659708</td>\n",
       "      <td>0.640919</td>\n",
       "      <td>0.640919</td>\n",
       "      <td>0.626305</td>\n",
       "    </tr>\n",
       "    <tr>\n",
       "      <th>5</th>\n",
       "      <td>0.553236</td>\n",
       "      <td>0.607516</td>\n",
       "      <td>0.615866</td>\n",
       "      <td>0.605428</td>\n",
       "      <td>0.597077</td>\n",
       "      <td>0.599165</td>\n",
       "      <td>0.567850</td>\n",
       "      <td>0.553236</td>\n",
       "      <td>0.567850</td>\n",
       "      <td>0.544885</td>\n",
       "      <td>0.546973</td>\n",
       "      <td>0.538622</td>\n",
       "      <td>0.549061</td>\n",
       "    </tr>\n",
       "    <tr>\n",
       "      <th>6</th>\n",
       "      <td>0.492693</td>\n",
       "      <td>0.542797</td>\n",
       "      <td>0.557411</td>\n",
       "      <td>0.561587</td>\n",
       "      <td>0.532359</td>\n",
       "      <td>0.538622</td>\n",
       "      <td>0.530271</td>\n",
       "      <td>0.542797</td>\n",
       "      <td>0.557411</td>\n",
       "      <td>0.544885</td>\n",
       "      <td>0.519833</td>\n",
       "      <td>0.515658</td>\n",
       "      <td>0.515658</td>\n",
       "    </tr>\n",
       "    <tr>\n",
       "      <th>7</th>\n",
       "      <td>0.444676</td>\n",
       "      <td>0.471816</td>\n",
       "      <td>0.486430</td>\n",
       "      <td>0.490605</td>\n",
       "      <td>0.507307</td>\n",
       "      <td>0.488518</td>\n",
       "      <td>0.501044</td>\n",
       "      <td>0.473904</td>\n",
       "      <td>0.453027</td>\n",
       "      <td>0.473904</td>\n",
       "      <td>0.473904</td>\n",
       "      <td>0.482255</td>\n",
       "      <td>0.467641</td>\n",
       "    </tr>\n",
       "    <tr>\n",
       "      <th>8</th>\n",
       "      <td>0.363257</td>\n",
       "      <td>0.423800</td>\n",
       "      <td>0.444676</td>\n",
       "      <td>0.457203</td>\n",
       "      <td>0.463466</td>\n",
       "      <td>0.461378</td>\n",
       "      <td>0.417537</td>\n",
       "      <td>0.390397</td>\n",
       "      <td>0.398747</td>\n",
       "      <td>0.415449</td>\n",
       "      <td>0.402923</td>\n",
       "      <td>0.407098</td>\n",
       "      <td>0.390397</td>\n",
       "    </tr>\n",
       "  </tbody>\n",
       "</table>\n",
       "</div>"
      ],
      "text/plain": [
       "         3         4         5         6         7         8         9   \\\n",
       "3  0.741127  0.713987  0.747390  0.753653  0.751566  0.757829  0.755741   \n",
       "4  0.709812  0.705637  0.699374  0.701461  0.691023  0.674322  0.663883   \n",
       "5  0.553236  0.607516  0.615866  0.605428  0.597077  0.599165  0.567850   \n",
       "6  0.492693  0.542797  0.557411  0.561587  0.532359  0.538622  0.530271   \n",
       "7  0.444676  0.471816  0.486430  0.490605  0.507307  0.488518  0.501044   \n",
       "8  0.363257  0.423800  0.444676  0.457203  0.463466  0.461378  0.417537   \n",
       "\n",
       "         10        11        12        13        14        15  \n",
       "3  0.720251  0.722338  0.713987  0.707724  0.720251  0.718163  \n",
       "4  0.651357  0.647182  0.659708  0.640919  0.640919  0.626305  \n",
       "5  0.553236  0.567850  0.544885  0.546973  0.538622  0.549061  \n",
       "6  0.542797  0.557411  0.544885  0.519833  0.515658  0.515658  \n",
       "7  0.473904  0.453027  0.473904  0.473904  0.482255  0.467641  \n",
       "8  0.390397  0.398747  0.415449  0.402923  0.407098  0.390397  "
      ]
     },
     "execution_count": 643,
     "metadata": {},
     "output_type": "execute_result"
    }
   ],
   "source": [
    "from sklearn.tree import DecisionTreeClassifier\n",
    "from sklearn import tree\n",
    "\n",
    "tree_depth = range(3,16)\n",
    "correct = [[],[],[],[],[],[]]\n",
    "for h in range(len(ys_bins)):\n",
    "    for i in tree_depth:\n",
    "        decision_tree = DecisionTreeClassifier(max_depth = i).fit(train_x,train_y[h])\n",
    "        correct[h].append(np.sum(decision_tree.predict(validate_x)==validate_y[h])/len(validate_y[h]))\n",
    "pd.DataFrame(data=np.array(correct), columns = np.array(tree_depth),index =num_bins)"
   ]
  },
  {
   "cell_type": "code",
   "execution_count": 644,
   "metadata": {},
   "outputs": [
    {
     "data": {
      "text/html": [
       "<div>\n",
       "<style scoped>\n",
       "    .dataframe tbody tr th:only-of-type {\n",
       "        vertical-align: middle;\n",
       "    }\n",
       "\n",
       "    .dataframe tbody tr th {\n",
       "        vertical-align: top;\n",
       "    }\n",
       "\n",
       "    .dataframe thead th {\n",
       "        text-align: right;\n",
       "    }\n",
       "</style>\n",
       "<table border=\"1\" class=\"dataframe\">\n",
       "  <thead>\n",
       "    <tr style=\"text-align: right;\">\n",
       "      <th></th>\n",
       "      <th>3</th>\n",
       "      <th>4</th>\n",
       "      <th>5</th>\n",
       "      <th>6</th>\n",
       "      <th>7</th>\n",
       "      <th>8</th>\n",
       "      <th>9</th>\n",
       "      <th>10</th>\n",
       "      <th>11</th>\n",
       "      <th>12</th>\n",
       "      <th>13</th>\n",
       "      <th>14</th>\n",
       "      <th>15</th>\n",
       "    </tr>\n",
       "  </thead>\n",
       "  <tbody>\n",
       "    <tr>\n",
       "      <th>3</th>\n",
       "      <td>0.764092</td>\n",
       "      <td>0.766180</td>\n",
       "      <td>0.768267</td>\n",
       "      <td>0.768267</td>\n",
       "      <td>0.768267</td>\n",
       "      <td>0.768267</td>\n",
       "      <td>0.768267</td>\n",
       "      <td>0.768267</td>\n",
       "      <td>0.768267</td>\n",
       "      <td>0.768267</td>\n",
       "      <td>0.768267</td>\n",
       "      <td>0.768267</td>\n",
       "      <td>0.768267</td>\n",
       "    </tr>\n",
       "    <tr>\n",
       "      <th>4</th>\n",
       "      <td>0.670146</td>\n",
       "      <td>0.680585</td>\n",
       "      <td>0.682672</td>\n",
       "      <td>0.680585</td>\n",
       "      <td>0.680585</td>\n",
       "      <td>0.680585</td>\n",
       "      <td>0.680585</td>\n",
       "      <td>0.680585</td>\n",
       "      <td>0.680585</td>\n",
       "      <td>0.680585</td>\n",
       "      <td>0.680585</td>\n",
       "      <td>0.680585</td>\n",
       "      <td>0.680585</td>\n",
       "    </tr>\n",
       "    <tr>\n",
       "      <th>5</th>\n",
       "      <td>0.605428</td>\n",
       "      <td>0.611691</td>\n",
       "      <td>0.613779</td>\n",
       "      <td>0.617954</td>\n",
       "      <td>0.615866</td>\n",
       "      <td>0.615866</td>\n",
       "      <td>0.615866</td>\n",
       "      <td>0.615866</td>\n",
       "      <td>0.615866</td>\n",
       "      <td>0.615866</td>\n",
       "      <td>0.615866</td>\n",
       "      <td>0.615866</td>\n",
       "      <td>0.615866</td>\n",
       "    </tr>\n",
       "    <tr>\n",
       "      <th>6</th>\n",
       "      <td>0.521921</td>\n",
       "      <td>0.519833</td>\n",
       "      <td>0.519833</td>\n",
       "      <td>0.519833</td>\n",
       "      <td>0.519833</td>\n",
       "      <td>0.519833</td>\n",
       "      <td>0.519833</td>\n",
       "      <td>0.519833</td>\n",
       "      <td>0.519833</td>\n",
       "      <td>0.519833</td>\n",
       "      <td>0.519833</td>\n",
       "      <td>0.519833</td>\n",
       "      <td>0.519833</td>\n",
       "    </tr>\n",
       "    <tr>\n",
       "      <th>7</th>\n",
       "      <td>0.494781</td>\n",
       "      <td>0.503132</td>\n",
       "      <td>0.517745</td>\n",
       "      <td>0.519833</td>\n",
       "      <td>0.517745</td>\n",
       "      <td>0.515658</td>\n",
       "      <td>0.515658</td>\n",
       "      <td>0.515658</td>\n",
       "      <td>0.515658</td>\n",
       "      <td>0.515658</td>\n",
       "      <td>0.515658</td>\n",
       "      <td>0.515658</td>\n",
       "      <td>0.515658</td>\n",
       "    </tr>\n",
       "    <tr>\n",
       "      <th>8</th>\n",
       "      <td>0.413361</td>\n",
       "      <td>0.419624</td>\n",
       "      <td>0.419624</td>\n",
       "      <td>0.423800</td>\n",
       "      <td>0.419624</td>\n",
       "      <td>0.419624</td>\n",
       "      <td>0.419624</td>\n",
       "      <td>0.419624</td>\n",
       "      <td>0.419624</td>\n",
       "      <td>0.419624</td>\n",
       "      <td>0.419624</td>\n",
       "      <td>0.419624</td>\n",
       "      <td>0.419624</td>\n",
       "    </tr>\n",
       "  </tbody>\n",
       "</table>\n",
       "</div>"
      ],
      "text/plain": [
       "         3         4         5         6         7         8         9   \\\n",
       "3  0.764092  0.766180  0.768267  0.768267  0.768267  0.768267  0.768267   \n",
       "4  0.670146  0.680585  0.682672  0.680585  0.680585  0.680585  0.680585   \n",
       "5  0.605428  0.611691  0.613779  0.617954  0.615866  0.615866  0.615866   \n",
       "6  0.521921  0.519833  0.519833  0.519833  0.519833  0.519833  0.519833   \n",
       "7  0.494781  0.503132  0.517745  0.519833  0.517745  0.515658  0.515658   \n",
       "8  0.413361  0.419624  0.419624  0.423800  0.419624  0.419624  0.419624   \n",
       "\n",
       "         10        11        12        13        14        15  \n",
       "3  0.768267  0.768267  0.768267  0.768267  0.768267  0.768267  \n",
       "4  0.680585  0.680585  0.680585  0.680585  0.680585  0.680585  \n",
       "5  0.615866  0.615866  0.615866  0.615866  0.615866  0.615866  \n",
       "6  0.519833  0.519833  0.519833  0.519833  0.519833  0.519833  \n",
       "7  0.515658  0.515658  0.515658  0.515658  0.515658  0.515658  \n",
       "8  0.419624  0.419624  0.419624  0.419624  0.419624  0.419624  "
      ]
     },
     "execution_count": 644,
     "metadata": {},
     "output_type": "execute_result"
    }
   ],
   "source": [
    "from sklearn.ensemble import BaggingClassifier\n",
    "tree_depth = range(3,16)\n",
    "correct = [[],[],[],[],[],[]]\n",
    "for h in range(len(ys_bins)):\n",
    "    for i in tree_depth:\n",
    "        bag_class = BaggingClassifier(base_estimator=DecisionTreeClassifier(max_depth = i),n_estimators=1000,\n",
    "                          max_samples = 20, random_state=11)\n",
    "        output = bag_class.fit(train_x,train_y[h])\n",
    "        correct[h].append(np.sum(output.predict(validate_x)==validate_y[h])/len(validate_y[h]))\n",
    "pd.DataFrame(data=np.array(correct), columns = np.array(tree_depth),index =num_bins)"
   ]
  },
  {
   "cell_type": "code",
   "execution_count": 645,
   "metadata": {},
   "outputs": [
    {
     "name": "stdout",
     "output_type": "stream",
     "text": [
      "from 3 to 4: 0.08559498956158662 decrease\n",
      "from 4 to 5: 0.06471816283924847 decrease\n",
      "from 5 to 6: 0.09603340292275564 decrease\n",
      "from 6 to 7: 0.002087682672233915 decrease\n",
      "from 7 to 8: 0.0960334029227557 decrease\n"
     ]
    }
   ],
   "source": [
    "for i in range(5):\n",
    "    print('from {} to {}:'.format(i+3,i+4),np.max(np.array(correct)[i,])-np.max(np.array(correct)[i + 1,]),'decrease')"
   ]
  },
  {
   "cell_type": "markdown",
   "metadata": {},
   "source": [
    "Based on this output we choose to fit on 5 bins as we see 9.4% decrease in accuracy from 5 to 6 bins in the best performing max tree depth while still giving us as many bins as we can get since we want as many as we can get while still predicting fairly accurately. At 5 bins we will choose a max depth of 6 as this produces the largest correct prediction rate at 59.5% for the valdiation set."
   ]
  },
  {
   "cell_type": "code",
   "execution_count": 646,
   "metadata": {
    "scrolled": true
   },
   "outputs": [
    {
     "data": {
      "text/plain": [
       "0.6349453978159126"
      ]
     },
     "execution_count": 646,
     "metadata": {},
     "output_type": "execute_result"
    }
   ],
   "source": [
    "bag_class = BaggingClassifier(base_estimator=DecisionTreeClassifier(max_depth = 6),n_estimators=1000,\n",
    "                          max_samples = 20, random_state=9)\n",
    "output = bag_class.fit(train_x,train_y[2])\n",
    "np.sum(output.predict(test_x)==test_y[2])/len(test_y[2])"
   ]
  },
  {
   "cell_type": "markdown",
   "metadata": {},
   "source": [
    "We attained a 63.5% correct prediction rate using 5 bins and max depth of 6"
   ]
  },
  {
   "cell_type": "code",
   "execution_count": 647,
   "metadata": {
    "scrolled": true
   },
   "outputs": [
    {
     "data": {
      "text/plain": [
       "Text(0.5, 1.0, 'Histogram of the difference of expected - true value')"
      ]
     },
     "execution_count": 647,
     "metadata": {},
     "output_type": "execute_result"
    },
    {
     "data": {
      "image/png": "[encoded data removed]",
      "text/plain": [
       "<Figure size 432x288 with 1 Axes>"
      ]
     },
     "metadata": {
      "needs_background": "light"
     },
     "output_type": "display_data"
    }
   ],
   "source": [
    "plt.hist(output.predict(test_x)-test_y[2],bins=[-4.5,-3.5,-2.5,-1.5,-0.5,0.5,1.5,2.5,3.5,4.5])\n",
    "plt.title('Histogram of the difference of expected - true value')"
   ]
  },
  {
   "cell_type": "markdown",
   "metadata": {},
   "source": [
    "# KNN Goalkeepers"
   ]
  },
  {
   "cell_type": "code",
   "execution_count": 648,
   "metadata": {
    "scrolled": true
   },
   "outputs": [
    {
     "data": {
      "text/plain": [
       "(            age  height_cm  weight_kg  overall  potential  gk_diving  \\\n",
       " sofifa_id                                                              \n",
       " 167495     28.0      193.0       92.0     90.0       90.0       87.0   \n",
       " 192119     22.0      199.0       88.0     86.0       90.0       84.0   \n",
       " 167948     27.0      188.0       78.0     85.0       86.0       86.0   \n",
       " 168435     27.0      192.0       80.0     84.0       85.0       85.0   \n",
       " 5479       33.0      185.0       84.0     84.0       84.0       87.0   \n",
       " ...         ...        ...        ...      ...        ...        ...   \n",
       " 212763     19.0      179.0       76.0     53.0       64.0       54.0   \n",
       " 201354     21.0      186.0       81.0     53.0       62.0       50.0   \n",
       " 222070     23.0      191.0       92.0     51.0       58.0       56.0   \n",
       " 192544     25.0      185.0       85.0     51.0       55.0       51.0   \n",
       " 194372     24.0      191.0       83.0     43.0       49.0       40.0   \n",
       " \n",
       "            gk_reflexes  gk_handling  gk_kicking  gk_speed  gk_positioning  \\\n",
       " sofifa_id                                                                   \n",
       " 167495            86.0         85.0        92.0      60.0            90.0   \n",
       " 192119            88.0         87.0        69.0      49.0            86.0   \n",
       " 167948            88.0         81.0        71.0      64.0            81.0   \n",
       " 168435            87.0         79.0        73.0      51.0            84.0   \n",
       " 5479              88.0         79.0        67.0      64.0            79.0   \n",
       " ...                ...          ...         ...       ...             ...   \n",
       " 212763            55.0         52.0        49.0      51.0            52.0   \n",
       " 201354            58.0         50.0        48.0      46.0            52.0   \n",
       " 222070            55.0         49.0        52.0      44.0            43.0   \n",
       " 192544            54.0         54.0        51.0      36.0            51.0   \n",
       " 194372            41.0         47.0        53.0      34.0            44.0   \n",
       " \n",
       "            year  league_ranking  \n",
       " sofifa_id                        \n",
       " 167495      0.0               1  \n",
       " 192119      0.0               1  \n",
       " 167948      0.0               1  \n",
       " 168435      0.0               1  \n",
       " 5479        0.0               1  \n",
       " ...         ...             ...  \n",
       " 212763      0.0               4  \n",
       " 201354      0.0               4  \n",
       " 222070      0.0               1  \n",
       " 192544      0.0               4  \n",
       " 194372      0.0               2  \n",
       " \n",
       " [487 rows x 13 columns],\n",
       " sofifa_id\n",
       " 167495    58000000.0\n",
       " 192119    44000000.0\n",
       " 167948    29000000.0\n",
       " 168435    17500000.0\n",
       " 5479      19000000.0\n",
       "              ...    \n",
       " 212763      140000.0\n",
       " 201354       90000.0\n",
       " 222070      120000.0\n",
       " 192544       50000.0\n",
       " 194372     2300000.0\n",
       " Name: value_eur_next, Length: 487, dtype: float64)"
      ]
     },
     "execution_count": 648,
     "metadata": {},
     "output_type": "execute_result"
    }
   ],
   "source": [
    "# Below is the set of columns we care about\n",
    "\n",
    "features = ['age'\n",
    "            ,'height_cm'\n",
    "           ,'weight_kg'\n",
    "           ,'overall'\n",
    "           ,'potential'\n",
    "           ,'gk_diving'\n",
    "           ,'gk_reflexes'\n",
    "           ,'gk_handling'\n",
    "           ,'gk_kicking'\n",
    "           ,'gk_speed'\n",
    "           ,'gk_positioning'\n",
    "           ,'year'\n",
    "           ,'league_ranking']\n",
    "\n",
    "\n",
    "gk_data = []\n",
    "y_gk = []\n",
    "for d in ndata_list3:\n",
    "    gk_data.append(d[features].fillna(0))\n",
    "    y_gk.append(d['value_eur_next'].fillna(0))\n",
    "    \n",
    "gk_data[0],y_gk[0]"
   ]
  },
  {
   "cell_type": "code",
   "execution_count": 649,
   "metadata": {},
   "outputs": [],
   "source": [
    "for i in range(len(gk_data)):\n",
    "    n = len(gk_data[i])\n",
    "    t1 = int(0.65*n)\n",
    "    t2 = int(0.8*n)\n",
    "    index_shuffle = np.array(gk_data[i].index)\n",
    "    np.random.shuffle(index_shuffle)\n",
    "\n",
    "    train_x_i = gk_data[i].loc[index_shuffle[0:t1]]\n",
    "    validate_x_i = gk_data[i].loc[index_shuffle[t1:t2]]\n",
    "    test_x_i = gk_data[i].loc[index_shuffle[t2:n]]\n",
    "\n",
    "    train_y_i = y_gk[i].loc[index_shuffle[0:t1]]\n",
    "    validate_y_i = y_gk[i].loc[index_shuffle[t1:t2]]\n",
    "    test_y_i = y_gk[i].loc[index_shuffle[t2:n]]\n",
    "    \n",
    "    train_log_y_i = np.log(train_y_i)\n",
    "    validate_log_y_i = np.log(validate_y_i)\n",
    "    test_log_y_i = np.log(test_y_i)\n",
    "    train_log_y_i.replace([np.inf, -np.inf, np.nan], 0, inplace=True)\n",
    "    validate_log_y_i.replace([np.inf, -np.inf, np.nan], 0, inplace=True)\n",
    "    test_log_y_i.replace([np.inf, -np.inf, np.nan], 0, inplace=True)\n",
    "    if i == 0:\n",
    "        train_x = train_x_i\n",
    "        validate_x = validate_x_i\n",
    "        test_x = test_x_i\n",
    "        train_y = train_y_i\n",
    "        validate_y = validate_y_i\n",
    "        test_y = test_y_i        \n",
    "        train_log_y = train_log_y_i\n",
    "        validate_log_y = validate_log_y_i\n",
    "        test_log_y = test_log_y_i  \n",
    "    else:\n",
    "        train_x = train_x.append(train_x_i)\n",
    "        validate_x = validate_x.append(validate_x_i)\n",
    "        test_x = test_x.append(test_x_i)\n",
    "        train_y = train_y.append(train_y_i)\n",
    "        validate_y = validate_y.append(validate_y_i)\n",
    "        test_y = test_y.append(test_y_i)        \n",
    "        train_log_y = train_log_y.append(train_log_y_i)\n",
    "        validate_log_y = validate_log_y.append(validate_log_y_i)\n",
    "        test_log_y = test_log_y.append(test_log_y_i)"
   ]
  },
  {
   "cell_type": "code",
   "execution_count": 650,
   "metadata": {},
   "outputs": [
    {
     "name": "stdout",
     "output_type": "stream",
     "text": [
      "            age  height_cm  weight_kg  overall  potential  gk_diving  \\\n",
      "sofifa_id                                                              \n",
      "203835     31.0      197.0       94.0     69.0       69.0       67.0   \n",
      "163264     28.0      188.0       86.0     72.0       72.0       73.0   \n",
      "223071     28.0      198.0       96.0     65.0       65.0       67.0   \n",
      "200715     21.0      191.0       80.0     60.0       68.0       61.0   \n",
      "183347     25.0      192.0       80.0     59.0       65.0       59.0   \n",
      "...         ...        ...        ...      ...        ...        ...   \n",
      "167948     32.0      188.0       82.0     88.0       88.0       89.0   \n",
      "225280     22.0      188.0       76.0     58.0       70.0       64.0   \n",
      "188400     26.0      190.0       80.0     74.0       77.0       73.0   \n",
      "230694     24.0      197.0       82.0     64.0       68.0       63.0   \n",
      "204354     26.0      188.0       82.0     65.0       70.0       66.0   \n",
      "\n",
      "           gk_reflexes  gk_handling  gk_kicking  gk_speed  gk_positioning  \\\n",
      "sofifa_id                                                                   \n",
      "203835            69.0         68.0        66.0      32.0            73.0   \n",
      "163264            75.0         72.0        69.0      53.0            72.0   \n",
      "223071            67.0         62.0        60.0      37.0            64.0   \n",
      "200715            66.0         59.0        47.0      41.0            56.0   \n",
      "183347            60.0         59.0        53.0      57.0            61.0   \n",
      "...                ...          ...         ...       ...             ...   \n",
      "167948            91.0         82.0        68.0      63.0            84.0   \n",
      "225280            60.0         54.0        56.0      60.0            53.0   \n",
      "188400            75.0         74.0        67.0      46.0            72.0   \n",
      "230694            64.0         66.0        64.0      45.0            64.0   \n",
      "204354            66.0         65.0        61.0      48.0            64.0   \n",
      "\n",
      "           year  league_ranking  \n",
      "sofifa_id                        \n",
      "203835      0.0               4  \n",
      "163264      0.0               1  \n",
      "223071      0.0               2  \n",
      "200715      0.0               4  \n",
      "183347      0.0               4  \n",
      "...         ...             ...  \n",
      "167948      5.0               1  \n",
      "225280      5.0               4  \n",
      "188400      5.0               1  \n",
      "230694      5.0               2  \n",
      "204354      5.0               4  \n",
      "\n",
      "[2071 rows x 13 columns] sofifa_id\n",
      "51694     13.493927\n",
      "214190    14.077875\n",
      "201873    13.527828\n",
      "181481    13.623139\n",
      "223124    13.910821\n",
      "            ...    \n",
      "230621    17.541204\n",
      "132740    14.403297\n",
      "186681    13.652992\n",
      "230321    13.217674\n",
      "246806    13.458836\n",
      "Name: value_eur_next, Length: 641, dtype: float64\n"
     ]
    }
   ],
   "source": [
    "print(train_x,test_log_y)"
   ]
  },
  {
   "cell_type": "code",
   "execution_count": 651,
   "metadata": {},
   "outputs": [],
   "source": [
    "from sklearn.neighbors import KNeighborsClassifier\n",
    "\n",
    "abs_list = []\n",
    "mse_list = []\n",
    "i_list= []\n",
    "for i in range(0,100,2):\n",
    "    i_list.append((i%10)*10 + (i**2//11) + 5)\n",
    "i_list\n",
    "\n",
    "for i in i_list:\n",
    "    classifier = KNeighborsClassifier(n_neighbors=i, metric=\"manhattan\", p=1)\n",
    "    classifier.fit(train_x, train_y)\n",
    "    pred_y = classifier.predict(validate_x)\n",
    "    mse_list.append(np.mean((validate_y - (np.array(pred_y).reshape(len(pred_y),)))**2))\n",
    "    abs_list.append(np.mean(np.abs(validate_y - (np.array(pred_y).reshape(len(pred_y),)))))"
   ]
  },
  {
   "cell_type": "code",
   "execution_count": 652,
   "metadata": {},
   "outputs": [
    {
     "data": {
      "text/plain": [
       "<matplotlib.collections.PathCollection at 0x291bc339d48>"
      ]
     },
     "execution_count": 652,
     "metadata": {},
     "output_type": "execute_result"
    },
    {
     "data": {
      "image/png": "[encoded data removed]",
      "text/plain": [
       "<Figure size 432x288 with 1 Axes>"
      ]
     },
     "metadata": {
      "needs_background": "light"
     },
     "output_type": "display_data"
    }
   ],
   "source": [
    "plt.scatter(i_list,abs_list)"
   ]
  },
  {
   "cell_type": "code",
   "execution_count": 653,
   "metadata": {},
   "outputs": [
    {
     "data": {
      "text/plain": [
       "<matplotlib.collections.PathCollection at 0x291c7e266c8>"
      ]
     },
     "execution_count": 653,
     "metadata": {},
     "output_type": "execute_result"
    },
    {
     "data": {
      "image/png": "[encoded data removed]",
      "text/plain": [
       "<Figure size 432x288 with 1 Axes>"
      ]
     },
     "metadata": {
      "needs_background": "light"
     },
     "output_type": "display_data"
    }
   ],
   "source": [
    "plt.scatter(i_list,mse_list)"
   ]
  },
  {
   "cell_type": "code",
   "execution_count": 654,
   "metadata": {},
   "outputs": [
    {
     "name": "stdout",
     "output_type": "stream",
     "text": [
      "14 1985561.6224648985\n"
     ]
    }
   ],
   "source": [
    "k = i_list[np.argmin(abs_list)]\n",
    "classifier = KNeighborsClassifier(n_neighbors=k, metric=\"manhattan\", p=1)\n",
    "classifier.fit(train_x, train_y)\n",
    "pred_y = classifier.predict(test_x)\n",
    "print(k, np.mean(np.abs(test_y - (np.array(pred_y).reshape(len(pred_y),)))))"
   ]
  },
  {
   "cell_type": "code",
   "execution_count": 655,
   "metadata": {},
   "outputs": [
    {
     "data": {
      "text/plain": [
       "<matplotlib.collections.PathCollection at 0x291c7e2da88>"
      ]
     },
     "execution_count": 655,
     "metadata": {},
     "output_type": "execute_result"
    },
    {
     "data": {
      "image/png": "[encoded data removed]",
      "text/plain": [
       "<Figure size 432x288 with 1 Axes>"
      ]
     },
     "metadata": {
      "needs_background": "light"
     },
     "output_type": "display_data"
    }
   ],
   "source": [
    "plt.scatter(test_y,np.abs(test_y - (np.array(pred_y).reshape(len(pred_y),))))"
   ]
  },
  {
   "cell_type": "code",
   "execution_count": 656,
   "metadata": {},
   "outputs": [
    {
     "name": "stdout",
     "output_type": "stream",
     "text": [
      "14 20134885062402.496\n"
     ]
    }
   ],
   "source": [
    "k = i_list[np.argmin(mse_list)]\n",
    "classifier = KNeighborsClassifier(n_neighbors=k, metric=\"manhattan\", p=1)\n",
    "classifier.fit(train_x, train_y)\n",
    "pred_y = classifier.predict(test_x)\n",
    "print(k, np.mean((test_y - (np.array(pred_y).reshape(len(pred_y),)))**2))"
   ]
  },
  {
   "cell_type": "code",
   "execution_count": 657,
   "metadata": {},
   "outputs": [
    {
     "data": {
      "text/plain": [
       "<matplotlib.collections.PathCollection at 0x291bd3cb808>"
      ]
     },
     "execution_count": 657,
     "metadata": {},
     "output_type": "execute_result"
    },
    {
     "data": {
      "image/png": "[encoded data removed]",
      "text/plain": [
       "<Figure size 432x288 with 1 Axes>"
      ]
     },
     "metadata": {
      "needs_background": "light"
     },
     "output_type": "display_data"
    }
   ],
   "source": [
    "plt.scatter(test_y,(test_y - (np.array(pred_y).reshape(len(pred_y),)))**2)"
   ]
  },
  {
   "cell_type": "markdown",
   "metadata": {},
   "source": [
    "# KNN Outfield"
   ]
  },
  {
   "cell_type": "code",
   "execution_count": 658,
   "metadata": {},
   "outputs": [
    {
     "data": {
      "text/html": [
       "<div>\n",
       "<style scoped>\n",
       "    .dataframe tbody tr th:only-of-type {\n",
       "        vertical-align: middle;\n",
       "    }\n",
       "\n",
       "    .dataframe tbody tr th {\n",
       "        vertical-align: top;\n",
       "    }\n",
       "\n",
       "    .dataframe thead th {\n",
       "        text-align: right;\n",
       "    }\n",
       "</style>\n",
       "<table border=\"1\" class=\"dataframe\">\n",
       "  <thead>\n",
       "    <tr style=\"text-align: right;\">\n",
       "      <th></th>\n",
       "      <th>age</th>\n",
       "      <th>height_cm</th>\n",
       "      <th>weight_kg</th>\n",
       "      <th>overall</th>\n",
       "      <th>potential</th>\n",
       "      <th>pace</th>\n",
       "      <th>shooting</th>\n",
       "      <th>passing</th>\n",
       "      <th>defending</th>\n",
       "      <th>dribbling</th>\n",
       "      <th>physic</th>\n",
       "      <th>year</th>\n",
       "      <th>league_ranking</th>\n",
       "    </tr>\n",
       "    <tr>\n",
       "      <th>sofifa_id</th>\n",
       "      <th></th>\n",
       "      <th></th>\n",
       "      <th></th>\n",
       "      <th></th>\n",
       "      <th></th>\n",
       "      <th></th>\n",
       "      <th></th>\n",
       "      <th></th>\n",
       "      <th></th>\n",
       "      <th></th>\n",
       "      <th></th>\n",
       "      <th></th>\n",
       "      <th></th>\n",
       "    </tr>\n",
       "  </thead>\n",
       "  <tbody>\n",
       "    <tr>\n",
       "      <th>158023</th>\n",
       "      <td>27.0</td>\n",
       "      <td>169.0</td>\n",
       "      <td>67.0</td>\n",
       "      <td>93.0</td>\n",
       "      <td>95.0</td>\n",
       "      <td>93.0</td>\n",
       "      <td>89.0</td>\n",
       "      <td>86.0</td>\n",
       "      <td>27.0</td>\n",
       "      <td>96.0</td>\n",
       "      <td>63.0</td>\n",
       "      <td>0.0</td>\n",
       "      <td>1</td>\n",
       "    </tr>\n",
       "    <tr>\n",
       "      <th>20801</th>\n",
       "      <td>29.0</td>\n",
       "      <td>185.0</td>\n",
       "      <td>80.0</td>\n",
       "      <td>92.0</td>\n",
       "      <td>92.0</td>\n",
       "      <td>93.0</td>\n",
       "      <td>93.0</td>\n",
       "      <td>81.0</td>\n",
       "      <td>32.0</td>\n",
       "      <td>91.0</td>\n",
       "      <td>79.0</td>\n",
       "      <td>0.0</td>\n",
       "      <td>1</td>\n",
       "    </tr>\n",
       "    <tr>\n",
       "      <th>9014</th>\n",
       "      <td>30.0</td>\n",
       "      <td>180.0</td>\n",
       "      <td>80.0</td>\n",
       "      <td>90.0</td>\n",
       "      <td>90.0</td>\n",
       "      <td>93.0</td>\n",
       "      <td>86.0</td>\n",
       "      <td>83.0</td>\n",
       "      <td>32.0</td>\n",
       "      <td>92.0</td>\n",
       "      <td>64.0</td>\n",
       "      <td>0.0</td>\n",
       "      <td>1</td>\n",
       "    </tr>\n",
       "    <tr>\n",
       "      <th>41236</th>\n",
       "      <td>32.0</td>\n",
       "      <td>195.0</td>\n",
       "      <td>95.0</td>\n",
       "      <td>90.0</td>\n",
       "      <td>90.0</td>\n",
       "      <td>76.0</td>\n",
       "      <td>91.0</td>\n",
       "      <td>81.0</td>\n",
       "      <td>34.0</td>\n",
       "      <td>86.0</td>\n",
       "      <td>86.0</td>\n",
       "      <td>0.0</td>\n",
       "      <td>1</td>\n",
       "    </tr>\n",
       "    <tr>\n",
       "      <th>176580</th>\n",
       "      <td>27.0</td>\n",
       "      <td>181.0</td>\n",
       "      <td>81.0</td>\n",
       "      <td>89.0</td>\n",
       "      <td>91.0</td>\n",
       "      <td>83.0</td>\n",
       "      <td>87.0</td>\n",
       "      <td>79.0</td>\n",
       "      <td>42.0</td>\n",
       "      <td>88.0</td>\n",
       "      <td>79.0</td>\n",
       "      <td>0.0</td>\n",
       "      <td>1</td>\n",
       "    </tr>\n",
       "    <tr>\n",
       "      <th>...</th>\n",
       "      <td>...</td>\n",
       "      <td>...</td>\n",
       "      <td>...</td>\n",
       "      <td>...</td>\n",
       "      <td>...</td>\n",
       "      <td>...</td>\n",
       "      <td>...</td>\n",
       "      <td>...</td>\n",
       "      <td>...</td>\n",
       "      <td>...</td>\n",
       "      <td>...</td>\n",
       "      <td>...</td>\n",
       "      <td>...</td>\n",
       "    </tr>\n",
       "    <tr>\n",
       "      <th>222997</th>\n",
       "      <td>18.0</td>\n",
       "      <td>174.0</td>\n",
       "      <td>70.0</td>\n",
       "      <td>42.0</td>\n",
       "      <td>54.0</td>\n",
       "      <td>46.0</td>\n",
       "      <td>32.0</td>\n",
       "      <td>42.0</td>\n",
       "      <td>32.0</td>\n",
       "      <td>45.0</td>\n",
       "      <td>47.0</td>\n",
       "      <td>0.0</td>\n",
       "      <td>2</td>\n",
       "    </tr>\n",
       "    <tr>\n",
       "      <th>220806</th>\n",
       "      <td>17.0</td>\n",
       "      <td>187.0</td>\n",
       "      <td>81.0</td>\n",
       "      <td>41.0</td>\n",
       "      <td>61.0</td>\n",
       "      <td>66.0</td>\n",
       "      <td>25.0</td>\n",
       "      <td>29.0</td>\n",
       "      <td>39.0</td>\n",
       "      <td>30.0</td>\n",
       "      <td>53.0</td>\n",
       "      <td>0.0</td>\n",
       "      <td>4</td>\n",
       "    </tr>\n",
       "    <tr>\n",
       "      <th>225509</th>\n",
       "      <td>17.0</td>\n",
       "      <td>178.0</td>\n",
       "      <td>57.0</td>\n",
       "      <td>41.0</td>\n",
       "      <td>50.0</td>\n",
       "      <td>64.0</td>\n",
       "      <td>41.0</td>\n",
       "      <td>27.0</td>\n",
       "      <td>27.0</td>\n",
       "      <td>35.0</td>\n",
       "      <td>41.0</td>\n",
       "      <td>0.0</td>\n",
       "      <td>4</td>\n",
       "    </tr>\n",
       "    <tr>\n",
       "      <th>217591</th>\n",
       "      <td>18.0</td>\n",
       "      <td>190.0</td>\n",
       "      <td>76.0</td>\n",
       "      <td>40.0</td>\n",
       "      <td>50.0</td>\n",
       "      <td>58.0</td>\n",
       "      <td>27.0</td>\n",
       "      <td>35.0</td>\n",
       "      <td>52.0</td>\n",
       "      <td>31.0</td>\n",
       "      <td>68.0</td>\n",
       "      <td>0.0</td>\n",
       "      <td>3</td>\n",
       "    </tr>\n",
       "    <tr>\n",
       "      <th>222947</th>\n",
       "      <td>22.0</td>\n",
       "      <td>180.0</td>\n",
       "      <td>70.0</td>\n",
       "      <td>40.0</td>\n",
       "      <td>49.0</td>\n",
       "      <td>72.0</td>\n",
       "      <td>27.0</td>\n",
       "      <td>27.0</td>\n",
       "      <td>35.0</td>\n",
       "      <td>30.0</td>\n",
       "      <td>61.0</td>\n",
       "      <td>0.0</td>\n",
       "      <td>4</td>\n",
       "    </tr>\n",
       "  </tbody>\n",
       "</table>\n",
       "<p>10607 rows × 13 columns</p>\n",
       "</div>"
      ],
      "text/plain": [
       "            age  height_cm  weight_kg  overall  potential  pace  shooting  \\\n",
       "sofifa_id                                                                   \n",
       "158023     27.0      169.0       67.0     93.0       95.0  93.0      89.0   \n",
       "20801      29.0      185.0       80.0     92.0       92.0  93.0      93.0   \n",
       "9014       30.0      180.0       80.0     90.0       90.0  93.0      86.0   \n",
       "41236      32.0      195.0       95.0     90.0       90.0  76.0      91.0   \n",
       "176580     27.0      181.0       81.0     89.0       91.0  83.0      87.0   \n",
       "...         ...        ...        ...      ...        ...   ...       ...   \n",
       "222997     18.0      174.0       70.0     42.0       54.0  46.0      32.0   \n",
       "220806     17.0      187.0       81.0     41.0       61.0  66.0      25.0   \n",
       "225509     17.0      178.0       57.0     41.0       50.0  64.0      41.0   \n",
       "217591     18.0      190.0       76.0     40.0       50.0  58.0      27.0   \n",
       "222947     22.0      180.0       70.0     40.0       49.0  72.0      27.0   \n",
       "\n",
       "           passing  defending  dribbling  physic  year  league_ranking  \n",
       "sofifa_id                                                               \n",
       "158023        86.0       27.0       96.0    63.0   0.0               1  \n",
       "20801         81.0       32.0       91.0    79.0   0.0               1  \n",
       "9014          83.0       32.0       92.0    64.0   0.0               1  \n",
       "41236         81.0       34.0       86.0    86.0   0.0               1  \n",
       "176580        79.0       42.0       88.0    79.0   0.0               1  \n",
       "...            ...        ...        ...     ...   ...             ...  \n",
       "222997        42.0       32.0       45.0    47.0   0.0               2  \n",
       "220806        29.0       39.0       30.0    53.0   0.0               4  \n",
       "225509        27.0       27.0       35.0    41.0   0.0               4  \n",
       "217591        35.0       52.0       31.0    68.0   0.0               3  \n",
       "222947        27.0       35.0       30.0    61.0   0.0               4  \n",
       "\n",
       "[10607 rows x 13 columns]"
      ]
     },
     "execution_count": 658,
     "metadata": {},
     "output_type": "execute_result"
    }
   ],
   "source": [
    "features = ['age'\n",
    "            ,'height_cm'\n",
    "           ,'weight_kg'\n",
    "           ,'overall'\n",
    "           ,'potential'\n",
    "           ,'pace'\n",
    "           ,'shooting'\n",
    "           ,'passing'\n",
    "           ,'defending'\n",
    "           ,'dribbling'\n",
    "           ,'physic'\n",
    "           ,'year'\n",
    "           ,'league_ranking']\n",
    "\n",
    "outfield_data = []\n",
    "y_out = []\n",
    "for d in ndata_list2:\n",
    "    outfield_data.append(d[features].fillna(0))\n",
    "    y_out.append(d['value_eur_next'].fillna(0))\n",
    "outfield_data[0]"
   ]
  },
  {
   "cell_type": "code",
   "execution_count": 659,
   "metadata": {},
   "outputs": [],
   "source": [
    "for i in range(len(outfield_data)):\n",
    "    n = len(outfield_data[i])\n",
    "    t1 = int(0.65*n)\n",
    "    t2 = int(0.8*n)\n",
    "    index_shuffle = np.array(outfield_data[i].index)\n",
    "    np.random.shuffle(index_shuffle)\n",
    "\n",
    "    train_x_i = outfield_data[i].loc[index_shuffle[0:t1]]\n",
    "    validate_x_i = outfield_data[i].loc[index_shuffle[t1:t2]]\n",
    "    test_x_i = outfield_data[i].loc[index_shuffle[t2:n]]\n",
    "\n",
    "    train_y_i = y_out[i].loc[index_shuffle[0:t1]]\n",
    "    validate_y_i = y_out[i].loc[index_shuffle[t1:t2]]\n",
    "    test_y_i = y_out[i].loc[index_shuffle[t2:n]]\n",
    "    \n",
    "    train_log_y_i = np.log(train_y_i)\n",
    "    validate_log_y_i = np.log(validate_y_i)\n",
    "    test_log_y_i = np.log(test_y_i)\n",
    "    train_log_y_i.replace([np.inf, -np.inf, np.nan], 0, inplace=True)\n",
    "    validate_log_y_i.replace([np.inf, -np.inf, np.nan], 0, inplace=True)\n",
    "    test_log_y_i.replace([np.inf, -np.inf, np.nan], 0, inplace=True)\n",
    "    if i == 0:\n",
    "        train_x = train_x_i\n",
    "        validate_x = validate_x_i\n",
    "        test_x = test_x_i\n",
    "        train_y = train_y_i\n",
    "        validate_y = validate_y_i\n",
    "        test_y = test_y_i        \n",
    "        train_log_y = train_log_y_i\n",
    "        validate_log_y = validate_log_y_i\n",
    "        test_log_y = test_log_y_i  \n",
    "    else:\n",
    "        train_x = train_x.append(train_x_i)\n",
    "        validate_x = validate_x.append(validate_x_i)\n",
    "        test_x = test_x.append(test_x_i)\n",
    "        train_y = train_y.append(train_y_i)\n",
    "        validate_y = validate_y.append(validate_y_i)\n",
    "        test_y = test_y.append(test_y_i)        \n",
    "        train_log_y = train_log_y.append(train_log_y_i)\n",
    "        validate_log_y = validate_log_y.append(validate_log_y_i)\n",
    "        test_log_y = test_log_y.append(test_log_y_i)"
   ]
  },
  {
   "cell_type": "code",
   "execution_count": 660,
   "metadata": {},
   "outputs": [],
   "source": [
    "from sklearn.neighbors import KNeighborsClassifier\n",
    "\n",
    "abs_list = []\n",
    "mse_list = []\n",
    "i_list= []\n",
    "for i in range(0,100,2):\n",
    "    i_list.append((i%10)*10 + 10*(i**2//10) + 10)\n",
    "\n",
    "for i in i_list:\n",
    "    classifier = KNeighborsClassifier(n_neighbors=i, metric=\"manhattan\", p=1)\n",
    "    classifier.fit(train_x, train_y)\n",
    "    pred_y = classifier.predict(validate_x)\n",
    "    mse_list.append(np.mean((validate_y - (np.array(pred_y).reshape(len(pred_y),)))**2))\n",
    "    abs_list.append(np.mean(np.abs(validate_y - (np.array(pred_y).reshape(len(pred_y),)))))"
   ]
  },
  {
   "cell_type": "code",
   "execution_count": 661,
   "metadata": {},
   "outputs": [
    {
     "data": {
      "text/plain": [
       "<matplotlib.collections.PathCollection at 0x291bd3c8148>"
      ]
     },
     "execution_count": 661,
     "metadata": {},
     "output_type": "execute_result"
    },
    {
     "data": {
      "image/png": "[encoded data removed]",
      "text/plain": [
       "<Figure size 432x288 with 1 Axes>"
      ]
     },
     "metadata": {
      "needs_background": "light"
     },
     "output_type": "display_data"
    }
   ],
   "source": [
    "plt.scatter(i_list,abs_list)"
   ]
  },
  {
   "cell_type": "code",
   "execution_count": 662,
   "metadata": {},
   "outputs": [
    {
     "data": {
      "text/plain": [
       "<matplotlib.collections.PathCollection at 0x291c56c5d08>"
      ]
     },
     "execution_count": 662,
     "metadata": {},
     "output_type": "execute_result"
    },
    {
     "data": {
      "image/png": "[encoded data removed]",
      "text/plain": [
       "<Figure size 432x288 with 1 Axes>"
      ]
     },
     "metadata": {
      "needs_background": "light"
     },
     "output_type": "display_data"
    }
   ],
   "source": [
    "plt.scatter(i_list,mse_list)"
   ]
  },
  {
   "cell_type": "code",
   "execution_count": 663,
   "metadata": {},
   "outputs": [
    {
     "name": "stdout",
     "output_type": "stream",
     "text": [
      "30 1310464.298401421\n"
     ]
    }
   ],
   "source": [
    "k = i_list[np.argmin(abs_list)]\n",
    "classifier = KNeighborsClassifier(n_neighbors=k, metric=\"manhattan\", p=1)\n",
    "classifier.fit(train_x, train_y)\n",
    "pred_y = classifier.predict(test_x)\n",
    "print(k, np.mean(np.abs(test_y - (np.array(pred_y).reshape(len(pred_y),)))))"
   ]
  },
  {
   "cell_type": "code",
   "execution_count": 664,
   "metadata": {},
   "outputs": [
    {
     "data": {
      "text/plain": [
       "<matplotlib.collections.PathCollection at 0x291c56ddac8>"
      ]
     },
     "execution_count": 664,
     "metadata": {},
     "output_type": "execute_result"
    },
    {
     "data": {
      "image/png": "[encoded data removed]",
      "text/plain": [
       "<Figure size 432x288 with 1 Axes>"
      ]
     },
     "metadata": {
      "needs_background": "light"
     },
     "output_type": "display_data"
    }
   ],
   "source": [
    "plt.scatter(test_y,np.abs(test_y - (np.array(pred_y).reshape(len(pred_y),))))"
   ]
  },
  {
   "cell_type": "code",
   "execution_count": 665,
   "metadata": {},
   "outputs": [
    {
     "name": "stdout",
     "output_type": "stream",
     "text": [
      "30 12408454928952.043\n"
     ]
    }
   ],
   "source": [
    "k = i_list[np.argmin(mse_list)]\n",
    "classifier = KNeighborsClassifier(n_neighbors=k, metric=\"manhattan\", p=1)\n",
    "classifier.fit(train_x, train_y)\n",
    "pred_y = classifier.predict(test_x)\n",
    "print(k, np.mean((test_y - (np.array(pred_y).reshape(len(pred_y),)))**2))"
   ]
  },
  {
   "cell_type": "code",
   "execution_count": 666,
   "metadata": {},
   "outputs": [
    {
     "data": {
      "text/plain": [
       "<matplotlib.collections.PathCollection at 0x291c0a5b688>"
      ]
     },
     "execution_count": 666,
     "metadata": {},
     "output_type": "execute_result"
    },
    {
     "data": {
      "image/png": "[encoded data removed]",
      "text/plain": [
       "<Figure size 432x288 with 1 Axes>"
      ]
     },
     "metadata": {
      "needs_background": "light"
     },
     "output_type": "display_data"
    }
   ],
   "source": [
    "plt.scatter(test_y,(test_y - (np.array(pred_y).reshape(len(pred_y),)))**2)"
   ]
  }
 ],
 "metadata": {
  "kernelspec": {
   "display_name": "Python 3",
   "language": "python",
   "name": "python3"
  },
  "language_info": {
   "codemirror_mode": {
    "name": "ipython",
    "version": 3
   },
   "file_extension": ".py",
   "mimetype": "text/x-python",
   "name": "python",
   "nbconvert_exporter": "python",
   "pygments_lexer": "ipython3",
   "version": "3.7.6"
  }
 },
 "nbformat": 4,
 "nbformat_minor": 5
}
